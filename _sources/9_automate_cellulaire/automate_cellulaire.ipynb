{
 "cells": [
  {
   "cell_type": "markdown",
   "metadata": {},
   "source": [
    "# TP 9 : Automates cellulaires\n",
    "\n",
    "<center><img src=https://raw.githubusercontent.com/cpge-itc/bcpst2/main/files/9_automate_cellulaire/fire.png width=25%></center>\n",
    "\n",
    "> Un automate cellulaire consiste en une grille (matrice) de cellules contenant chacune un état qui peut évoluer au cours du temps. L'état d'une cellule au temps $t+1$ dépend de l'état au temps $t$ des cellules adjacentes.\n",
    "\n",
    "Nous aurons besoin de `numpy` :"
   ]
  },
  {
   "cell_type": "code",
   "execution_count": 1,
   "metadata": {},
   "outputs": [],
   "source": [
    "import numpy as np\n",
    "\n",
    "np.random.seed(42)"
   ]
  },
  {
   "cell_type": "markdown",
   "metadata": {},
   "source": [
    "## Fonctions utilitaires"
   ]
  },
  {
   "cell_type": "markdown",
   "metadata": {},
   "source": [
    "````{admonition} Question\n",
    " Écrire une fonction `bernouilli(p)` renvoyant $1$ avec une probabilité $p$ et $0$ avec une probabilité $1 - p$.  \n",
    "On utilisera `np.random.rand()` pour générer un nombre aléatoire entre 0 et 1\n",
    "````"
   ]
  },
  {
   "cell_type": "markdown",
   "metadata": {},
   "source": [
    "````{admonition} Question\n",
    " Écrire une fonction `compter(L, e)` qui renvoie le nombre d'occurrences de l'élément `e` dans la liste `L`.\n",
    "````"
   ]
  },
  {
   "cell_type": "code",
   "execution_count": 4,
   "metadata": {},
   "outputs": [
    {
     "data": {
      "text/plain": [
       "4"
      ]
     },
     "execution_count": 4,
     "metadata": {},
     "output_type": "execute_result"
    }
   ],
   "source": [
    "compter([1, 0, 1, 1, 0, 0, 1], 1)"
   ]
  },
  {
   "cell_type": "markdown",
   "metadata": {},
   "source": [
    "````{admonition} Question\n",
    " Écrire une fonction `matrice_aleatoire(n, p)` qui renvoie une matrice de taille $n \\times n$ dont chaque élément est égal à 1 avec une probabilité $p$ et 0 sinon.  \n",
    "On utilisera `np.zeros((n, n), dtype=int)` pour créer une matrice de taille $n \\times n$ remplie de 0.\n",
    "````"
   ]
  },
  {
   "cell_type": "code",
   "execution_count": 6,
   "metadata": {},
   "outputs": [
    {
     "data": {
      "text/plain": [
       "array([[0, 0, 0, 0, 1],\n",
       "       [1, 1, 0, 0, 0],\n",
       "       [1, 0, 0, 0, 1],\n",
       "       [1, 0, 0, 0, 0],\n",
       "       [0, 1, 0, 0, 0]])"
      ]
     },
     "execution_count": 6,
     "metadata": {},
     "output_type": "execute_result"
    }
   ],
   "source": [
    "M = matrice_aleatoire(5, 0.2)\n",
    "M"
   ]
  },
  {
   "cell_type": "markdown",
   "metadata": {},
   "source": [
    "````{admonition} Question\n",
    " Écrire une fonction `voisins(M, i, j)` qui renvoie la liste des $8$ voisins de la case `(i, j)` de la matrice `M`. Il s'agit donc des valeurs en position $(k, l)$ où $k \\in \\{i-1, i, i+1\\}$, $l \\in \\{j-1, j, j+1\\}$ et $(k, l) \\neq (i, j)$. On fera attention à ne pas dépasser de la matrice.\n",
    "````"
   ]
  },
  {
   "cell_type": "code",
   "execution_count": 8,
   "metadata": {},
   "outputs": [
    {
     "data": {
      "text/plain": [
       "[1, 0, 0, 1, 0, 0, 1, 0]"
      ]
     },
     "execution_count": 8,
     "metadata": {},
     "output_type": "execute_result"
    }
   ],
   "source": [
    "voisins(M, 3, 1)"
   ]
  },
  {
   "cell_type": "markdown",
   "metadata": {},
   "source": [
    "## Jeu de la vie\n",
    "\n",
    "Le jeu de la vie a été inventé par le mathématicien John Conway en 1970, et peut être vu comme la modélisation d'une population de cellules biologiques.  \n",
    "À chaque étape, une cellule peut être en vie ($1$) ou morte ($0$), avec les règles suivantes :  \n",
    "- Une cellule morte possédant exactement trois cellules voisines vivantes devient vivante (elle naît).  \n",
    "- Une cellule vivante possédant deux ou trois cellules voisines vivantes le reste, sinon elle meurt."
   ]
  },
  {
   "cell_type": "markdown",
   "metadata": {},
   "source": [
    "````{admonition} Question\n",
    " Écrire une fonction `regle_jeu_vie(M, i, j)` qui renvoie l'état de la cellule `(i, j)` à l'étape suivante. On pourra réutiliser les fonctions `voisins` et `compter` écrites précédemment.\n",
    "````"
   ]
  },
  {
   "cell_type": "code",
   "execution_count": 10,
   "metadata": {},
   "outputs": [
    {
     "name": "stdout",
     "output_type": "stream",
     "text": [
      "1\n",
      "0\n"
     ]
    }
   ],
   "source": [
    "print(regle_jeu_vie(M, 3, 1))\n",
    "print(regle_jeu_vie(M, 2, 2))"
   ]
  },
  {
   "cell_type": "markdown",
   "metadata": {},
   "source": [
    "````{admonition} Question\n",
    " Écrire une fonction `etape_jeu_vie(M)` qui renvoie la matrice correspondant à l'étape suivante du jeu de la vie.  \n",
    "Attention : il ne faut pas modifier `M`, mais renvoyer une nouvelle matrice.\n",
    "````"
   ]
  },
  {
   "cell_type": "markdown",
   "metadata": {},
   "source": [
    "````{admonition} Question\n",
    " Utiliser la fonction `jeu_vie` ci-dessous pour afficher l'évolution du jeu de la vie, en utilisant sa documentation.\n",
    "````"
   ]
  },
  {
   "cell_type": "code",
   "execution_count": 12,
   "metadata": {},
   "outputs": [],
   "source": [
    "import matplotlib as mpl\n",
    "import matplotlib.pyplot as plt\n",
    "from matplotlib.animation import FuncAnimation\n",
    "from IPython.display import HTML\n",
    "\n",
    "def jeu_vie(M, n):\n",
    "    \"\"\"Affiche les n premières étapes du jeu de la vie.\n",
    "    M : matrice initiale\n",
    "    etape_jeu_vie : fonction qui calcule l'étape suivante\n",
    "    n : nombre d'étapes\n",
    "    \"\"\"\n",
    "    fig = plt.figure()\n",
    "    def update (i) :\n",
    "        nonlocal M\n",
    "        plt.imshow(M, interpolation='nearest', origin='lower', cmap=\"gray\")\n",
    "        plt.title(f\"Itération {i}\")\n",
    "        if i != 0:\n",
    "            M = etape_jeu_vie(M)\n",
    "    plt.axis('off')\n",
    "    anim = FuncAnimation(fig, update, frames=n, interval=300)\n",
    "    return HTML(anim.to_jshtml())"
   ]
  },
  {
   "cell_type": "code",
   "execution_count": null,
   "metadata": {},
   "outputs": [],
   "source": [
    "jeu_vie(matrice_aleatoire(20, 0.5), 30)"
   ]
  },
  {
   "cell_type": "markdown",
   "metadata": {},
   "source": [
    "## Feu de forêt\n",
    "\n",
    "Nous souhaitons ici modéliser un feu de forêt. Chaque case de la matrice correspondra à un arbre qui peut prendre l'une des valeurs suivantes :\n",
    "- $0$ : arbre non brûlé.\n",
    "- $-1$ : arbre complètement brûlé.\n",
    "- un entier $t \\in \\mathbb{N}^*$ : arbre en train de brûler, où $t$ est le nombre d'étapes restantes avant que l'arbre ne soit complètement brûlé."
   ]
  },
  {
   "cell_type": "markdown",
   "metadata": {},
   "source": [
    "````{admonition} Question\n",
    " Écrire une fonction `voisin_brule(M, i, j)` qui renvoie `True` si la case `(i, j)` de la matrice `M` est adjacente à au moins une case contenant un arbre en train de brûler et `False` sinon.\n",
    "````"
   ]
  },
  {
   "cell_type": "markdown",
   "metadata": {},
   "source": [
    "À chaque étape :  \n",
    "- Une case contenant un entier $t > 1$ devient $t-1$ (arbre en train de brûler).  \n",
    "- Une case contenant $1$ devient $-1$ (arbre complètement brûlé).  \n",
    "- Une case contenant $0$ qui est adjacente à au moins une case contenant $1$ devient $3$ avec une probabilité $p$ (un arbre qui prend feu brûle pendant $3$ tours). Sinon, cette case reste à $0$."
   ]
  },
  {
   "cell_type": "markdown",
   "metadata": {},
   "source": [
    "````{admonition} Question\n",
    " Écrire une fonction `regle_feu(M, i, j, p)` qui renvoie l'état de la case `(i, j)` à l'étape suivante, où `p` est la probabilité ci-dessus.\n",
    "````"
   ]
  },
  {
   "cell_type": "markdown",
   "metadata": {},
   "source": [
    "````{admonition} Question\n",
    " Écrire une fonction `etape_feu(M, p)` qui renvoie la matrice correspondant à l'étape suivante du feu de forêt. Attention : il ne faut pas modifier `M`, mais renvoyer une nouvelle matrice.\n",
    "````"
   ]
  },
  {
   "cell_type": "markdown",
   "metadata": {},
   "source": [
    "````{admonition} Question\n",
    " Utiliser la fonction `feu_foret` ci-dessous pour afficher l'évolution d'un feu de forêt, en utilisant sa documentation. Tester avec différentes probabilités de propagation du feu.\n",
    "````"
   ]
  },
  {
   "cell_type": "code",
   "execution_count": 17,
   "metadata": {
    "tags": []
   },
   "outputs": [],
   "source": [
    "def feu_foret(M, n, p):\n",
    "    \"\"\"Affiche les n premières étapes du jeu de la vie.\n",
    "    M : matrice initiale\n",
    "    etape_jeu_vie : fonction qui calcule l'étape suivante\n",
    "    n : nombre d'étapes\n",
    "    \"\"\"\n",
    "    fig = mpl.pyplot.figure()\n",
    "    cmap = mpl.colors.ListedColormap(['black', 'green', 'red'])\n",
    "    bounds = [-1,-0.5, 0.5, 1]\n",
    "    norm = mpl.colors.BoundaryNorm(bounds, cmap.N)\n",
    "    def update (i) :\n",
    "        nonlocal M\n",
    "        mpl.pyplot.imshow(M, interpolation='nearest', origin='lower', cmap=cmap, norm=norm)\n",
    "        mpl.pyplot.title(f\"Itération {i}\")\n",
    "        if i != 0:\n",
    "            M = etape_feu(M, p)\n",
    "    mpl.pyplot.axis('off')\n",
    "    anim = FuncAnimation(fig, update, frames=n, interval=300)\n",
    "    return HTML(anim.to_jshtml())"
   ]
  },
  {
   "cell_type": "code",
   "execution_count": null,
   "metadata": {},
   "outputs": [],
   "source": [
    "M = np.zeros((20, 20), dtype=int)\n",
    "M[5][5] = 3 # un arbre en feu initialement\n",
    "feu_foret(M, 30, 0.15)"
   ]
  }
 ],
 "metadata": {
  "kernelspec": {
   "display_name": "Python 3.9.2 64-bit",
   "language": "python",
   "name": "python3"
  },
  "language_info": {
   "codemirror_mode": {
    "name": "ipython",
    "version": 3
   },
   "file_extension": ".py",
   "mimetype": "text/x-python",
   "name": "python",
   "nbconvert_exporter": "python",
   "pygments_lexer": "ipython3",
   "version": "3.9.2"
  },
  "vscode": {
   "interpreter": {
    "hash": "31f2aee4e71d21fbe5cf8b01ff0e069b9275f58929596ceb00d14d90e3e16cd6"
   }
  }
 },
 "nbformat": 4,
 "nbformat_minor": 2
}
