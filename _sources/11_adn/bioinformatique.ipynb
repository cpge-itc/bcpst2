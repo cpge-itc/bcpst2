{
 "cells": [
  {
   "attachments": {},
   "cell_type": "markdown",
   "metadata": {},
   "source": [
    "# TP 11 : Bioinformatique appliqué à l'ADN du choléra\n",
    "\n",
    "<center><img src=https://upload.wikimedia.org/wikipedia/commons/thumb/7/70/DNA_replication_split.svg/297px-DNA_replication_split.svg.png width=150></center>\n",
    "\n",
    "> Lors de la réplication de l'ADN, deux chaînes de l'ADN se séparent pour produire deux copies identiques. La réplication commence en une séquence particulière de l'ADN appelée origine de réplication (**ori**).  \n",
    "> Un problème important est de localiser l'ori d'un génome. On sait par la biologie que l'ori contient de nombreuses de la même séquence de nucléotides, qui est appelée **dnaA** et permet de localiser le début de l'ori.\n"
   ]
  },
  {
   "attachments": {},
   "cell_type": "markdown",
   "metadata": {},
   "source": [
    "````{admonition} Exercice\n",
    "  \n",
    "1. [Télécharger (clic droit puis enregistrer sous) l'ADN de *Vibrio cholerae* (bactérie du choléra)](http://bioinformaticsalgorithms.com/data/realdatasets/Replication/Vibrio_cholerae.txt) et le sauvegarder dans le même dossier que votre fichier Python.  \n",
    "2. Exécuter le code ci-dessous pour charger l'ADN dans une variable `cholerae` (sous forme de chaîne de caractères, chaque caractère étant un nucléotide).  \n",
    "3. Combien de nucléotides contient l'ADN de *Vibrio cholerae* ?\n",
    "````"
   ]
  },
  {
   "cell_type": "code",
   "execution_count": 1,
   "metadata": {},
   "outputs": [],
   "source": [
    "with open(\"Vibrio_cholerae.txt\") as f:\n",
    "    cholerae = f.read()"
   ]
  },
  {
   "cell_type": "markdown",
   "execution_count": 2,
   "metadata": {
    "tags": [
     "cor"
    ]
   },
   "source": [
    "````{admonition} Solution\n",
    ":class: tip, dropdown\n",
    "``` python\n",
    "len(cholerae)\n",
    "```\n",
    "``` \n",
    "1108250\n",
    "\n",
    "```\n",
    "````"
   ]
  },
  {
   "attachments": {},
   "cell_type": "markdown",
   "metadata": {},
   "source": [
    "Considérons aussi l'ori de l'ADN de *Vibrio cholerae*, sous forme de chaîne de caractères (chaque caractère étant un nucléotide) :"
   ]
  },
  {
   "cell_type": "code",
   "execution_count": 3,
   "metadata": {},
   "outputs": [],
   "source": [
    "cholerae_ori = \"ATCAATGATCAACGTAAGCTTCTAAGCATGATCAAGGTGCTCACACAGTTTATCCACAACCTGAGTGGATGACATCAAGATAGGTCGTTGTATCTCCTTCCTCTCGTACTCTCATGACCACGGAAAGATGATCAAGAGAGGATGATTTCTTGGCCATATCGCAATGAATACTTGTGACTTGTGCTTCCAATTGACATCTTCAGCGCCATATTGCGCTGGCCAAGGTGACGGAGCGGGATTACGAAAGCATGATCATGGCTGTTGTTCTGTTTATCTTGTTTTGACTGAGACTTGTTAGGATAGACGGTTTTTCATCACTGACTAGCCAAAGCCTTACTCTGCCTGACATCGACCGTAAATTGATAATGAATTTACATGCTTCCGCGACGATTTACCTCTTGATCATCGATCCGATTGAAGATCTTCAATTGTTAATTCTCTTGCCTCGACTCATAGCCATGATGAGCTCTTGATCATGTTTCCTTAACCCTCTATTTTTTACGGAAGAATGATCAAGCTGCTGCTCTTGATCATCGTTTC\""
   ]
  },
  {
   "attachments": {},
   "cell_type": "markdown",
   "metadata": {},
   "source": [
    "````{admonition} Question\n",
    " Quel est le nombre de nucléotides de l'ori de *Vibrio cholerae* ?\n",
    "````"
   ]
  },
  {
   "cell_type": "markdown",
   "execution_count": 4,
   "metadata": {
    "tags": [
     "cor"
    ]
   },
   "source": [
    "````{admonition} Solution\n",
    ":class: tip, dropdown\n",
    "``` python\n",
    "len(cholerae_ori)\n",
    "```\n",
    "``` \n",
    "540\n",
    "\n",
    "```\n",
    "````"
   ]
  },
  {
   "attachments": {},
   "cell_type": "markdown",
   "metadata": {},
   "source": [
    "````{admonition} Question\n",
    " La [règle de Chargaff](https://fr.wikipedia.org/wiki/R%C3%A8gles_de_Chargaff) dit que la proportion de nucléotides $A$ est environ égale à celle de nucléotides $T$ et que la proportion de nucléotides $C$ est environ égale à celle de nucléotides $G$. Vérifiez que cette règle est respectée pour *Vibrio cholerae*.\n",
    "````"
   ]
  },
  {
   "cell_type": "markdown",
   "execution_count": 5,
   "metadata": {
    "tags": [
     "cor"
    ]
   },
   "source": [
    "````{admonition} Solution\n",
    ":class: tip, dropdown\n",
    "``` python\n",
    "def p(nucl):\n",
    "    n = 0\n",
    "    for c in cholerae:\n",
    "        if c == nucl:\n",
    "            n += 1\n",
    "    return n/len(cholerae)\n",
    "\n",
    "[p(c) for c in \"ATGC\"]\n",
    "```\n",
    "``` \n",
    "[0.2652307692307692,\n",
    " 0.26592465598917214,\n",
    " 0.23101646740356419,\n",
    " 0.23782810737649449]\n",
    "\n",
    "```\n",
    "````"
   ]
  },
  {
   "attachments": {},
   "cell_type": "markdown",
   "metadata": {},
   "source": [
    "## Motif dans un ADN"
   ]
  },
  {
   "attachments": {},
   "cell_type": "markdown",
   "metadata": {},
   "source": [
    "On rappelle que, Comme pour les listes, `s[i:j]` extrait une sous-chaîne de `s` allant du caractère d'indice `i` (inclus) au caractère d'indice `j` (exclus) :"
   ]
  },
  {
   "cell_type": "code",
   "execution_count": 6,
   "metadata": {},
   "outputs": [
    {
     "data": {
      "text/plain": [
       "'ATC'"
      ]
     },
     "execution_count": 6,
     "metadata": {},
     "output_type": "execute_result"
    }
   ],
   "source": [
    "cholerae_ori[0:3] # 3 premiers nucléotides"
   ]
  },
  {
   "attachments": {},
   "cell_type": "markdown",
   "metadata": {},
   "source": [
    "On peut comparer deux chaînes de caractères avec l'opérateur `==` :"
   ]
  },
  {
   "cell_type": "code",
   "execution_count": 7,
   "metadata": {},
   "outputs": [
    {
     "data": {
      "text/plain": [
       "True"
      ]
     },
     "execution_count": 7,
     "metadata": {},
     "output_type": "execute_result"
    }
   ],
   "source": [
    "cholerae_ori[0:3] == \"ATC\" # est-ce que les 3 premiers nucléotides sont égaux à \"ATC\" ?"
   ]
  },
  {
   "attachments": {},
   "cell_type": "markdown",
   "metadata": {},
   "source": [
    "````{admonition} Question\n",
    " À quel indice l'ori de *Vibrio cholerae* commence t-il dans le génome de *Vibrio cholerae* ?\n",
    "````"
   ]
  },
  {
   "cell_type": "markdown",
   "execution_count": 8,
   "metadata": {
    "tags": [
     "cor"
    ]
   },
   "source": [
    "````{admonition} Solution\n",
    ":class: tip, dropdown\n",
    "``` python\n",
    "for i in range(len(cholerae)):\n",
    "    if cholerae[i:i+len(cholerae_ori)] == cholerae_ori:\n",
    "        print(i)\n",
    "```\n",
    "````"
   ]
  },
  {
   "attachments": {},
   "cell_type": "markdown",
   "metadata": {},
   "source": [
    "````{admonition} Question\n",
    " Écrire une fonction `compter(adn, motif)` qui compte le nombre d'apparitions de `motif` dans `adn`.\n",
    "````"
   ]
  },
  {
   "cell_type": "markdown",
   "execution_count": 9,
   "metadata": {
    "tags": [
     "cor"
    ]
   },
   "source": [
    "````{admonition} Solution\n",
    ":class: tip, dropdown\n",
    "``` python\n",
    "def compter(adn, motif):\n",
    "    \"\"\"Compte le nombre d'occurences du motif dans l'ADN\"\"\"\n",
    "    compteur = 0\n",
    "    for i in range(len(adn) - len(motif) + 1):\n",
    "        if adn[i:i+len(motif)] == motif:\n",
    "            compteur += 1\n",
    "    return compteur\n",
    "```\n",
    "````"
   ]
  },
  {
   "cell_type": "code",
   "execution_count": 10,
   "metadata": {},
   "outputs": [
    {
     "data": {
      "text/plain": [
       "15"
      ]
     },
     "execution_count": 10,
     "metadata": {},
     "output_type": "execute_result"
    }
   ],
   "source": [
    "compter(cholerae_ori, \"ATG\")"
   ]
  },
  {
   "attachments": {},
   "cell_type": "markdown",
   "metadata": {},
   "source": [
    "## k-mer le plus fréquent\n",
    "\n",
    "Un **k-mer** est une séquence de $k$ nucléotides. Par exemple, ATG est un 3-mer.\n",
    "\n",
    "### Version naïve"
   ]
  },
  {
   "attachments": {},
   "cell_type": "markdown",
   "metadata": {},
   "source": [
    "````{admonition} Question\n",
    " Écrire une fonction `kmer_plus_frequent(adn, k)` qui renvoie le `k`-mer qui apparaît le plus souvent dans `adn` (s'il y a plusieurs `k`-mers de fréquence maximum, on en renverra un quelconque).  \n",
    "Pour cela, on parcourt tous les `k`-mers de `adn` et on compte le nombre d'occurences de chacun d'eux, avec la fonction `compter` écrite précédemment.\n",
    "````"
   ]
  },
  {
   "cell_type": "markdown",
   "execution_count": 11,
   "metadata": {
    "tags": [
     "cor"
    ]
   },
   "source": [
    "````{admonition} Solution\n",
    ":class: tip, dropdown\n",
    "``` python\n",
    "def kmer_plus_frequent(adn, k):\n",
    "    \"\"\"Retourne le k-mer le plus fréquent dans l'ADN\"\"\"\n",
    "    kmer = \"\"\n",
    "    max_compteur = 0\n",
    "    for i in range(len(adn) - k + 1):\n",
    "        motif = adn[i:i+k]\n",
    "        compteur = compter(adn, motif)\n",
    "        if compteur > max_compteur:\n",
    "            kmer = motif\n",
    "            max_compteur = compteur\n",
    "    return kmer\n",
    "```\n",
    "````"
   ]
  },
  {
   "cell_type": "code",
   "execution_count": 12,
   "metadata": {},
   "outputs": [
    {
     "data": {
      "text/plain": [
       "'TGA'"
      ]
     },
     "execution_count": 12,
     "metadata": {},
     "output_type": "execute_result"
    }
   ],
   "source": [
    "kmer_plus_frequent(cholerae_ori, 3)"
   ]
  },
  {
   "attachments": {},
   "cell_type": "markdown",
   "metadata": {},
   "source": [
    "Si `adn` est de longueur $n$, `kmer_plus_frequent(adn, k)` appelle environ $n$ fois `compter`, qui effectue elle-même environ $n$ opérations. Donc `kmer_plus_frequent(adn, k)` effectue de l'ordre de $n^2$ opérations, ce qui demanderait trop de temps pour le génome complet de *Vibrio cholerae*."
   ]
  },
  {
   "attachments": {},
   "cell_type": "markdown",
   "metadata": {},
   "source": [
    "### Version avec un dictionnaire\n",
    "\n",
    "Pour avoir une fonction plus efficace, on va utiliser un **dictionnaire**.  \n",
    "Un dictonnaire est une structure de données qui associe à chaque clé une valeur. Par exemple, on peut créer un dictonnaire qui à chaque utilisateur associe son âge :"
   ]
  },
  {
   "cell_type": "code",
   "execution_count": 13,
   "metadata": {},
   "outputs": [],
   "source": [
    "age = {\"michel\" : 42, \"pierre\" : 12, \"marie\" : 32} # définition d'un dictionnaire, sous forme d'association clé-valeur"
   ]
  },
  {
   "attachments": {},
   "cell_type": "markdown",
   "metadata": {},
   "source": [
    "On peut accéder à la valeur associée à une clé dans un dictionnaire `d` avec `d[cle]` :"
   ]
  },
  {
   "cell_type": "code",
   "execution_count": 14,
   "metadata": {},
   "outputs": [
    {
     "data": {
      "text/plain": [
       "32"
      ]
     },
     "execution_count": 14,
     "metadata": {},
     "output_type": "execute_result"
    }
   ],
   "source": [
    "age[\"marie\"] # donne la valeur associée à la clé \"marie\", c'est-à-dire 32"
   ]
  },
  {
   "attachments": {},
   "cell_type": "markdown",
   "metadata": {},
   "source": [
    "On peut ajouter une nouvelle paire clé-valeur avec `d[cle] = valeur` :"
   ]
  },
  {
   "cell_type": "code",
   "execution_count": 15,
   "metadata": {},
   "outputs": [
    {
     "data": {
      "text/plain": [
       "{'michel': 42, 'pierre': 12, 'marie': 32, 'jean': 22}"
      ]
     },
     "execution_count": 15,
     "metadata": {},
     "output_type": "execute_result"
    }
   ],
   "source": [
    "age[\"jean\"] = 22 # ajoute une nouvelle association clé-valeur\n",
    "age # age a été modifié"
   ]
  },
  {
   "attachments": {},
   "cell_type": "markdown",
   "metadata": {},
   "source": [
    "````{admonition} Question\n",
    " Créer un dictionnaire `complement` qui associe à chaque nucléotide son complément. Ainsi, `complement['A']` doit valoir `'T'`, `complement['T']` doit valoir `'A'`, `complement['C']` doit valoir `G` et `complement['G']` doit valoir `'C'`.\n",
    "````"
   ]
  },
  {
   "cell_type": "markdown",
   "execution_count": 16,
   "metadata": {
    "tags": [
     "cor"
    ]
   },
   "source": [
    "````{admonition} Solution\n",
    ":class: tip, dropdown\n",
    "``` python\n",
    "complement = {\"A\" : \"T\", \"T\" : \"A\", \"C\" : \"G\", \"G\" : \"C\"}\n",
    "```\n",
    "````"
   ]
  },
  {
   "attachments": {},
   "cell_type": "markdown",
   "metadata": {},
   "source": [
    "On peut parcourir les clés d'un dictionnaire avec une boucle `for` :"
   ]
  },
  {
   "cell_type": "code",
   "execution_count": 17,
   "metadata": {},
   "outputs": [
    {
     "name": "stdout",
     "output_type": "stream",
     "text": [
      "michel 42\n",
      "pierre 12\n",
      "marie 32\n",
      "jean 22\n"
     ]
    }
   ],
   "source": [
    "for k in age: # parcours des clés du dictionnaire\n",
    "    print(k, age[k]) # affiche la clé et la valeur associée"
   ]
  },
  {
   "attachments": {},
   "cell_type": "markdown",
   "metadata": {},
   "source": [
    "````{admonition} Question\n",
    " Écrire une fonction `cle_max(d)` qui renvoie la clé associée à la plus grande valeur dans le dictionnaire `d`.\n",
    "````"
   ]
  },
  {
   "cell_type": "markdown",
   "execution_count": 18,
   "metadata": {
    "tags": [
     "cor"
    ]
   },
   "source": [
    "````{admonition} Solution\n",
    ":class: tip, dropdown\n",
    "``` python\n",
    "def cle_max(d):\n",
    "    kmax = None \n",
    "    for k in d:\n",
    "        if kmax is None or d[k] > d[kmax]:\n",
    "            kmax = k\n",
    "    return kmax\n",
    "```\n",
    "````"
   ]
  },
  {
   "cell_type": "code",
   "execution_count": 19,
   "metadata": {},
   "outputs": [
    {
     "data": {
      "text/plain": [
       "'michel'"
      ]
     },
     "execution_count": 19,
     "metadata": {},
     "output_type": "execute_result"
    }
   ],
   "source": [
    "cle_max(age) # michel est la personne dont l'âge est le plus élevé"
   ]
  },
  {
   "attachments": {},
   "cell_type": "markdown",
   "metadata": {},
   "source": [
    "Pour obtenir plus efficacement le k-mer le plus fréquent, on va calculer un dictionnaire qui à chaque k-mer associe le nombre de fois qu'il apparaît. Puis on utilise la fonction `cle_max` pour obtenir le k-mer le plus fréquent de ce dictionnaire.\n",
    "\n",
    "<center><img src=https://miro.medium.com/max/2129/1*Mr6KrtsUqhQ732SwYIljfg.jpeg width=60%></center>"
   ]
  },
  {
   "attachments": {},
   "cell_type": "markdown",
   "metadata": {},
   "source": [
    "````{admonition} Question\n",
    " Réécrire une fonction `kmer_plus_frequent(adn, k)` qui renvoie le `k`-mer qui apparaît le plus souvent dans `adn`, en utilisant un dictionnaire.\n",
    "````"
   ]
  },
  {
   "cell_type": "markdown",
   "execution_count": 20,
   "metadata": {
    "tags": [
     "cor"
    ]
   },
   "source": [
    "````{admonition} Solution\n",
    ":class: tip, dropdown\n",
    "``` python\n",
    "def kmer_plus_frequent(adn, k):\n",
    "    d = {}\n",
    "    for i in range(len(adn) - k + 1):\n",
    "        motif = adn[i:i+k]\n",
    "        if motif not in d:\n",
    "            d[motif] = 0\n",
    "        d[motif] += 1\n",
    "    return cle_max(d)\n",
    "```\n",
    "````"
   ]
  },
  {
   "cell_type": "code",
   "execution_count": 21,
   "metadata": {},
   "outputs": [
    {
     "data": {
      "text/plain": [
       "'TGA'"
      ]
     },
     "execution_count": 21,
     "metadata": {},
     "output_type": "execute_result"
    }
   ],
   "source": [
    "kmer_plus_frequent(cholerae_ori, 3)"
   ]
  },
  {
   "attachments": {},
   "cell_type": "markdown",
   "metadata": {},
   "source": [
    "````{admonition} Question\n",
    " Quel est le 9-mer le plus fréquent dans l'ADN de *Vibrio cholerae* ?  \n",
    "\n",
    "**Remarques** :  \n",
    "- Le DnaA est souvent de taille 9 pour une bactérie.  \n",
    "- Avec notre première version de `kmer_plus_frequent`, il n'aurait pas été possible d'obtenir la réponse à cette dernière question en temps raisonnable.\n",
    "````"
   ]
  },
  {
   "attachments": {},
   "cell_type": "markdown",
   "metadata": {},
   "source": [
    "## Nucléotide complémentaire\n",
    "\n",
    "L'ori est composé de deux brins d'ADN complémentaires et dans des sens opposés. Pour que la cellule sache où se trouve l'ori, il faut donc que le dnaA soit présent sur les deux brins, dans des sens opposés.\n",
    "\n",
    "<center><img src=http://bioinformaticsalgorithms.com/images/Replication/reverse_complement.png width=60%></center>"
   ]
  },
  {
   "attachments": {},
   "cell_type": "markdown",
   "metadata": {},
   "source": [
    "Ainsi, dans l'ori de *Vibrio cholerae*, le DnaA ATGATCAAG est présent ainsi que son complémentaire inversé CTTGATCAT."
   ]
  },
  {
   "attachments": {},
   "cell_type": "markdown",
   "metadata": {},
   "source": [
    "<center><img src=https://raw.githubusercontent.com/cpge-itc/bcpst2/main/files/11_adn/complement.png width=70%></center>"
   ]
  },
  {
   "attachments": {},
   "cell_type": "markdown",
   "metadata": {},
   "source": [
    "Pour la question suivante, on pourra utiliser `+` sur des chaînes de caractères pour les concaténer :"
   ]
  },
  {
   "cell_type": "code",
   "execution_count": 22,
   "metadata": {},
   "outputs": [
    {
     "data": {
      "text/plain": [
       "'Bonne année'"
      ]
     },
     "execution_count": 22,
     "metadata": {},
     "output_type": "execute_result"
    }
   ],
   "source": [
    "s = \"\" # s est une chaîne de caractères vide\n",
    "s += \"Bonne \" # on ajoute \"Bonne \" à s\n",
    "s += \"année\" # on ajoute \"année\" à s\n",
    "s"
   ]
  },
  {
   "attachments": {},
   "cell_type": "markdown",
   "metadata": {},
   "source": [
    "On pourra aussi utiliser la fonction `s[::-1]` pour inverser une chaîne de caractères :"
   ]
  },
  {
   "cell_type": "code",
   "execution_count": 23,
   "metadata": {},
   "outputs": [
    {
     "data": {
      "text/plain": [
       "'eénna ennoB'"
      ]
     },
     "execution_count": 23,
     "metadata": {},
     "output_type": "execute_result"
    }
   ],
   "source": [
    "s[::-1] # on inverse la chaîne de caractères"
   ]
  },
  {
   "attachments": {},
   "cell_type": "markdown",
   "metadata": {},
   "source": [
    "````{admonition} Question\n",
    " Écrire une fonction `complementaire_inverse(adn)` qui renvoie le complémentaire inversé de `adn`. Ainsi, si `adn` vaut $n_1n_2\\ldots n_k$, `complementaire_inverse(adn)` doit renvoyer $n_k^*n_{k-1}^*\\ldots n_1^*$, où $n_i^*$ est le complémentaire de $n_i$ (A <-> T, C -> G).\n",
    "````"
   ]
  },
  {
   "cell_type": "markdown",
   "execution_count": 24,
   "metadata": {
    "tags": [
     "cor"
    ]
   },
   "source": [
    "````{admonition} Solution\n",
    ":class: tip, dropdown\n",
    "``` python\n",
    "def complementaire_inverse(adn):\n",
    "    d = {\"A\" : \"T\", \"T\" : \"A\", \"C\" : \"G\", \"G\" : \"C\"}\n",
    "    adn_complementaire = \"\"\n",
    "    for nucl in adn[::-1]:\n",
    "        adn_complementaire += d[nucl]\n",
    "    return adn_complementaire\n",
    "```\n",
    "````"
   ]
  },
  {
   "cell_type": "code",
   "execution_count": 25,
   "metadata": {},
   "outputs": [
    {
     "data": {
      "text/plain": [
       "'CTTGATCAT'"
      ]
     },
     "execution_count": 25,
     "metadata": {},
     "output_type": "execute_result"
    }
   ],
   "source": [
    "complementaire_inverse(\"ATGATCAAG\")"
   ]
  },
  {
   "attachments": {},
   "cell_type": "markdown",
   "metadata": {},
   "source": [
    "````{admonition} Question\n",
    " Écrire une fonction `plus_frequent_inverse(adn, k)` qui renvoie le `k`-mer `s` le plus fréquent dans `adn`, en comptant aussi les occurrences de `complementaire_inverse(s)`. On pourra s'inspirer de la fonction `kmer_plus_frequent` écrite précédemment.\n",
    "````"
   ]
  },
  {
   "cell_type": "markdown",
   "execution_count": 26,
   "metadata": {
    "tags": [
     "cor"
    ]
   },
   "source": [
    "````{admonition} Solution\n",
    ":class: tip, dropdown\n",
    "``` python\n",
    "def plus_frequent_inverse(adn, k):\n",
    "    d = {}\n",
    "    for i in range(len(adn) - k + 1):\n",
    "        motif = adn[i:i+k]\n",
    "        motif_inverse = complementaire_inverse(motif)\n",
    "        if motif not in d:\n",
    "            d[motif] = 0\n",
    "        if motif_inverse not in d:\n",
    "            d[motif_inverse] = 0\n",
    "        d[motif] += 1\n",
    "        d[motif_inverse] += 1\n",
    "    return cle_max(d)\n",
    "```\n",
    "````"
   ]
  },
  {
   "cell_type": "code",
   "execution_count": 27,
   "metadata": {},
   "outputs": [
    {
     "data": {
      "text/plain": [
       "'ATGATCAAG'"
      ]
     },
     "execution_count": 27,
     "metadata": {},
     "output_type": "execute_result"
    }
   ],
   "source": [
    "plus_frequent_inverse(cholerae_ori, 9)"
   ]
  },
  {
   "attachments": {},
   "cell_type": "markdown",
   "metadata": {},
   "source": [
    "## Recherche de phase ouverte de lecture (*open reading frame*)\n",
    "\n",
    "Un codon est une séquence de trois nucléotides (par exemple ATT).  \n",
    "Une \"phase ouverte de lecture\" (ORF) est une séquence d’ADN commençant par un codon d’initiation ATG, se terminant par un codon STOP\n",
    "(TAA, TAG, TGA), et ne contenant aucun codon STOP en son sein."
   ]
  },
  {
   "attachments": {},
   "cell_type": "markdown",
   "metadata": {},
   "source": [
    "````{admonition} Question\n",
    " Écrire une fonction `orf(adn)` qui renvoie la liste des ORFs de `adn`.\n",
    "````"
   ]
  },
  {
   "cell_type": "markdown",
   "execution_count": 28,
   "metadata": {
    "tags": [
     "cor"
    ]
   },
   "source": [
    "````{admonition} Solution\n",
    ":class: tip, dropdown\n",
    "``` python\n",
    "def orf(adn):\n",
    "    \"\"\"Retourne la liste des ORFs de l'ADN\"\"\"\n",
    "    orfs = []\n",
    "    for i in range(len(adn) - 2):\n",
    "        if adn[i:i+3] == \"ATG\":\n",
    "            for j in range(i + 3, len(adn) - 2, 3):\n",
    "                if adn[j:j+3] in [\"TAA\", \"TAG\", \"TGA\"]:\n",
    "                    orfs.append(adn[i:j+3])\n",
    "                    break\n",
    "    return orfs\n",
    "```\n",
    "````"
   ]
  },
  {
   "cell_type": "code",
   "execution_count": 29,
   "metadata": {},
   "outputs": [
    {
     "data": {
      "text/plain": [
       "['ATGATCAACGTAAGCTTCTAA',\n",
       " 'ATGATCAAGGTGCTCACACAGTTTATCCACAACCTGAGTGGATGA',\n",
       " 'ATGACATCAAGATAG',\n",
       " 'ATGACCACGGAAAGATGA',\n",
       " 'ATGATCAAGAGAGGATGA',\n",
       " 'ATGATTTCTTGGCCATATCGCAATGAATACTTGTGA',\n",
       " 'ATGAATACTTGTGACTTGTGCTTCCAATTGACATCTTCAGCGCCATATTGCGCTGGCCAAGGTGACGGAGCGGGATTACGAAAGCATGATCATGGCTGTTGTTCTGTTTATCTTGTTTTGACTGAGACTTGTTAG',\n",
       " 'ATGATCATGGCTGTTGTTCTGTTTATCTTGTTTTGA',\n",
       " 'ATGGCTGTTGTTCTGTTTATCTTGTTTTGA',\n",
       " 'ATGAATTTACATGCTTCCGCGACGATTTACCTCTTGATCATCGATCCGATTGAAGATCTTCAATTGTTAATTCTCTTGCCTCGACTCATAGCCATGATGAGCTCTTGA',\n",
       " 'ATGCTTCCGCGACGATTTACCTCTTGA',\n",
       " 'ATGATGAGCTCTTGA',\n",
       " 'ATGAGCTCTTGA',\n",
       " 'ATGTTTCCTTAA']"
      ]
     },
     "execution_count": 29,
     "metadata": {},
     "output_type": "execute_result"
    }
   ],
   "source": [
    "orf(cholerae_ori)"
   ]
  }
 ],
 "metadata": {
  "kernelspec": {
   "display_name": "Python 3",
   "language": "python",
   "name": "python3"
  },
  "language_info": {
   "codemirror_mode": {
    "name": "ipython",
    "version": 3
   },
   "file_extension": ".py",
   "mimetype": "text/x-python",
   "name": "python",
   "nbconvert_exporter": "python",
   "pygments_lexer": "ipython3",
   "version": "3.9.2"
  },
  "vscode": {
   "interpreter": {
    "hash": "31f2aee4e71d21fbe5cf8b01ff0e069b9275f58929596ceb00d14d90e3e16cd6"
   }
  }
 },
 "nbformat": 4,
 "nbformat_minor": 2
}
