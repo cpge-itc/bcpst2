{
 "cells": [
  {
   "cell_type": "markdown",
   "metadata": {},
   "source": [
    "# TP 3 : Matrice de population"
   ]
  },
  {
   "cell_type": "markdown",
   "metadata": {},
   "source": [
    "## Rappels sur les matrices\n",
    "\n",
    "### Définition\n",
    "\n",
    "Une matrice est représentée en Python par une liste de listes (ou : un tableau de tableaux), chaque sous-liste correspondant à une ligne de la matrice.\n",
    "\n",
    "Par exemple, la matrice\n",
    "\n",
    "$$\n",
    "M = \\begin{pmatrix}\n",
    "    1 & 0 & 3\\\\\n",
    "    2 & 2 & 1\n",
    "\\end{pmatrix}\n",
    "$$\n",
    "\n",
    "est représentée par :"
   ]
  },
  {
   "cell_type": "code",
   "execution_count": 1,
   "metadata": {},
   "outputs": [],
   "source": [
    "M = [[1, 0, 3], [2, 2, 1]]"
   ]
  },
  {
   "cell_type": "markdown",
   "metadata": {},
   "source": [
    "Ainsi, la première sous-liste `[1, 0, 3]` correspond à la première ligne de la matrice et `[2, 2, 1]` correspond à la deuxième ligne."
   ]
  },
  {
   "cell_type": "markdown",
   "metadata": {},
   "source": [
    "### Accéder et modifier un élément\n",
    "\n",
    "On accède à l'élément sur la ligne `i`, colonne `j` de la matrice avec `M[i][j]`. Par exemple :"
   ]
  },
  {
   "cell_type": "code",
   "execution_count": 2,
   "metadata": {},
   "outputs": [
    {
     "data": {
      "text/plain": [
       "3"
      ]
     },
     "execution_count": 2,
     "metadata": {},
     "output_type": "execute_result"
    }
   ],
   "source": [
    "M[0][2] # élément ligne 0, colonne 2"
   ]
  },
  {
   "cell_type": "markdown",
   "metadata": {},
   "source": [
    "**Remarque** : Les lignes et colonnes commencent à $0$ (au lieu de $1$ en mathématiques).\n",
    "\n",
    "On peut modifier l'élément ligne `i`, colonne `j` avec `M[i][j] = ...`. Par exemple :"
   ]
  },
  {
   "cell_type": "code",
   "execution_count": 3,
   "metadata": {},
   "outputs": [
    {
     "data": {
      "text/plain": [
       "[[1, 0, 3], [42, 2, 1]]"
      ]
     },
     "execution_count": 3,
     "metadata": {},
     "output_type": "execute_result"
    }
   ],
   "source": [
    "M[1][0] = 42\n",
    "M # M a bien été modifiée"
   ]
  },
  {
   "cell_type": "markdown",
   "metadata": {},
   "source": [
    "### Taille d'une matrice\n",
    "\n",
    "Le nombre de lignes de la matrice est le nombre de sous-listes, qui peut être obtenue avec `len(M)` :"
   ]
  },
  {
   "cell_type": "code",
   "execution_count": 4,
   "metadata": {},
   "outputs": [
    {
     "data": {
      "text/plain": [
       "2"
      ]
     },
     "execution_count": 4,
     "metadata": {},
     "output_type": "execute_result"
    }
   ],
   "source": [
    "len(M) # nombre de lignes de M"
   ]
  },
  {
   "cell_type": "markdown",
   "metadata": {},
   "source": [
    "Le nombre de colonnes est égal au nombre d'éléments sur une ligne, c'est-à-dire la taille d'une sous-liste. On eut l'obtenir avec `len(M[0])` (nombre d'éléments sur la première ligne de `M`) :"
   ]
  },
  {
   "cell_type": "code",
   "execution_count": 5,
   "metadata": {},
   "outputs": [
    {
     "data": {
      "text/plain": [
       "3"
      ]
     },
     "execution_count": 5,
     "metadata": {},
     "output_type": "execute_result"
    }
   ],
   "source": [
    "len(M[0]) # la 1ère ligne contient 3 éléments, donc il y a 3 colonnes"
   ]
  },
  {
   "cell_type": "markdown",
   "metadata": {},
   "source": [
    "### Création d'une matrice de taille $n \\times p$\n",
    "\n",
    "Pour créer une matrice de taille $n \\times p$ remplie de $0$, on a deux possibilités :  \n",
    "- Utiliser `np.zeros((n, p))` du module `numpy` (`import numpy as np`). Ceci donne un tableau (`np.darray`), qui ressemble beaucoup aux listes avec quelques petites différences (pas de `append`, opérations terme à terme...).  \n",
    "- Définir une liste contenant $n$ listes de $p$ zéros ;"
   ]
  },
  {
   "cell_type": "code",
   "execution_count": 6,
   "metadata": {},
   "outputs": [
    {
     "data": {
      "text/plain": [
       "[[0, 0, 0, 0, 0], [0, 0, 0, 0, 0], [0, 0, 0, 0, 0]]"
      ]
     },
     "execution_count": 6,
     "metadata": {},
     "output_type": "execute_result"
    }
   ],
   "source": [
    "M = []\n",
    "for i in range(3):\n",
    "    L = [] # la ième ligne\n",
    "    for j in range(5):\n",
    "        L.append(0)\n",
    "    M.append(L)\n",
    "M # matrice 3x5 remplie de 0"
   ]
  },
  {
   "cell_type": "markdown",
   "metadata": {},
   "source": [
    "### Parcourir une matrice\n",
    "\n",
    "Pour parcourir une matrice, on utilise deux indices (un pour la ligne, un pour la colonne), dans deux boucles `for`. Par exemple, mettons des $2$ partout dans $M$ :"
   ]
  },
  {
   "cell_type": "code",
   "execution_count": 7,
   "metadata": {},
   "outputs": [
    {
     "data": {
      "text/plain": [
       "[[2, 2, 2, 2, 2], [2, 2, 2, 2, 2], [2, 2, 2, 2, 2]]"
      ]
     },
     "execution_count": 7,
     "metadata": {},
     "output_type": "execute_result"
    }
   ],
   "source": [
    "for i in range(3): # i est le numéro de ligne\n",
    "    for j in range(5): # j est le numéro de colonne\n",
    "        M[i][j] = 2\n",
    "M"
   ]
  },
  {
   "cell_type": "markdown",
   "metadata": {},
   "source": [
    "### Exercices sur les matrices"
   ]
  },
  {
   "cell_type": "markdown",
   "metadata": {},
   "source": [
    "````{admonition} Exercice\n",
    " Écrire une fonction `somme(M)` renvoyant la somme des éléments d'une matrice `M`.\n",
    "````"
   ]
  },
  {
   "cell_type": "code",
   "execution_count": 9,
   "metadata": {},
   "outputs": [
    {
     "data": {
      "text/plain": [
       "10"
      ]
     },
     "execution_count": 9,
     "metadata": {},
     "output_type": "execute_result"
    }
   ],
   "source": [
    "M = [[1, 2], [3, 4]]\n",
    "somme(M) # 10"
   ]
  },
  {
   "cell_type": "markdown",
   "metadata": {},
   "source": [
    "````{admonition} Exercice\n",
    " Écrire une fonction `nulle` déterminat si une matrice est nulle (ne contient que des $0$). `nulle(M)` doit renvoyer `True` si `M` est nulle, `False` sinon.\n",
    "````"
   ]
  },
  {
   "cell_type": "code",
   "execution_count": 12,
   "metadata": {},
   "outputs": [
    {
     "name": "stdout",
     "output_type": "stream",
     "text": [
      "False\n"
     ]
    },
    {
     "data": {
      "text/plain": [
       "True"
      ]
     },
     "execution_count": 12,
     "metadata": {},
     "output_type": "execute_result"
    }
   ],
   "source": [
    "print(nulle([[1, 2], [3, 4]]))\n",
    "nulle([[0, 0], [0, 0]])"
   ]
  },
  {
   "cell_type": "markdown",
   "metadata": {},
   "source": [
    "````{admonition} Exercice\n",
    " Écrire une fonction `identite(n)` renvoyant la matrice identité de taille $n$.\n",
    "````"
   ]
  },
  {
   "cell_type": "code",
   "execution_count": 15,
   "metadata": {},
   "outputs": [
    {
     "data": {
      "text/plain": [
       "[[1, 0, 0], [0, 1, 0], [0, 0, 1]]"
      ]
     },
     "execution_count": 15,
     "metadata": {},
     "output_type": "execute_result"
    }
   ],
   "source": [
    "identite(3)"
   ]
  },
  {
   "cell_type": "markdown",
   "metadata": {},
   "source": [
    "````{admonition} Exercice\n",
    " Écrire une fonction `transpose(M)` renvoyant la transposée d'une matrice `M`.\n",
    "````"
   ]
  },
  {
   "cell_type": "code",
   "execution_count": 20,
   "metadata": {},
   "outputs": [
    {
     "data": {
      "text/plain": [
       "array([[1., 3.],\n",
       "       [2., 4.]])"
      ]
     },
     "execution_count": 20,
     "metadata": {},
     "output_type": "execute_result"
    }
   ],
   "source": [
    "transpose([[1, 2], [3, 4]])"
   ]
  },
  {
   "cell_type": "markdown",
   "metadata": {},
   "source": [
    "````{admonition} Exercice\n",
    " Écrire une fonction `produit(A, B)` renvoyant le produit matriciel de `A` et `B`. On rappelle que $AB = (c_{i, j})$ où $c_{i, j} = \\sum_{k = 0}^n a_{i, k} b_{k, j}$, où $n$ est le nombre de colonnes de $A$ (qui doit être égal au nombre de lignes de $B$). On supposera $A$ et $B$ compatibles.  \n",
    "On pourra compléter le code suivant :\n",
    "````"
   ]
  },
  {
   "cell_type": "code",
   "execution_count": 12,
   "metadata": {
    "tags": []
   },
   "outputs": [],
   "source": [
    "def produit(A, B):\n",
    "    n = ... # nombre de lignes de A\n",
    "    p = ... # nombre de colonnes de A\n",
    "    q = ... # nombre de colonnes de B\n",
    "    # définir une matrice C de taille n*q remplie de 0\n",
    "    for i in range(n):\n",
    "        for j in range(q):\n",
    "            # ici on va calculer C[i][j] (c'est-à-dire une somme)\n",
    "            for k in range(p):\n",
    "                C[i][j] += ...\n",
    "    return C"
   ]
  },
  {
   "cell_type": "code",
   "execution_count": 23,
   "metadata": {},
   "outputs": [
    {
     "data": {
      "text/plain": [
       "[[19, 22], [43, 50]]"
      ]
     },
     "execution_count": 23,
     "metadata": {},
     "output_type": "execute_result"
    }
   ],
   "source": [
    "produit([[1, 2], [3, 4]], [[5, 6], [7, 8]])"
   ]
  },
  {
   "cell_type": "markdown",
   "metadata": {},
   "source": [
    "## Matrice de population"
   ]
  },
  {
   "cell_type": "markdown",
   "metadata": {},
   "source": [
    "On souhaite étudier l'évolution d'une population de rongeurs à des stades d'âges différents. On ne s'intéresse qu'à la population d'individus femelles. On suppose qu'aucun rongeur vit au plus $3$ ans et on note $a_n$, $b_n$, $c_n$ le nombre de femelles âgées de $0$, $1$, $2$ ans à l'année $n$ (initialement $n = 0$).  \n",
    "Chaque femelle donne en moyenne naissance à $6$ femelles lors de sa 2ème année et $10$ femelles lors de sa $3$ème année.  \n",
    "Cependant, seul un rongeur sur deux survit au dela de sa première année et seul 40% de ceux qui survivent la deuxième\n",
    "année survivront jusqu'à la troisième année."
   ]
  },
  {
   "cell_type": "markdown",
   "metadata": {},
   "source": [
    "````{admonition} Exercice\n",
    " (Sans programmation) Exprimer $a_{n+1}$, $b_{n+1}$, $c_{n+1}$ en fonction de $a_{n}$, $b_{n}$, $c_{n}$.\n",
    "````"
   ]
  },
  {
   "cell_type": "markdown",
   "metadata": {},
   "source": [
    "On définit maintenant le vecteur $X_n = \\begin{pmatrix}\n",
    "a_n\\\\\n",
    "b_n\\\\\n",
    "c_n\n",
    "\\end{pmatrix}$, que l'on représentera sous forme de liste en Python."
   ]
  },
  {
   "cell_type": "markdown",
   "metadata": {},
   "source": [
    "````{admonition} Exercice\n",
    " On prend initalement $a_0 = 10$, $b_0 = 0$, $c_0 = 0$. Définir $X_0$ en Python.\n",
    "````"
   ]
  },
  {
   "cell_type": "markdown",
   "metadata": {},
   "source": [
    "````{admonition} Exercice\n",
    " Définir (sur papier puis en Python) une matrice $A$ telle que $X_{n + 1} = AX_n$.\n",
    "````"
   ]
  },
  {
   "cell_type": "markdown",
   "metadata": {},
   "source": [
    "$A$ est appelée une **matrice de Leslie**.  \n",
    "On remarque que, par récurrence évidente : $X_n = A^n X_0$."
   ]
  },
  {
   "cell_type": "markdown",
   "metadata": {},
   "source": [
    "````{admonition} Exercice\n",
    " Écrire une fonction `puissance(A, n)` renvoyant $A^n$.\n",
    "````"
   ]
  },
  {
   "cell_type": "code",
   "execution_count": 27,
   "metadata": {},
   "outputs": [
    {
     "data": {
      "text/plain": [
       "[[2.0, 18.0, 30.0], [1.5, 2.0, 0.0], [0.0, 1.2000000000000002, 2.0]]"
      ]
     },
     "execution_count": 27,
     "metadata": {},
     "output_type": "execute_result"
    }
   ],
   "source": [
    "puissance(A, 3)"
   ]
  },
  {
   "cell_type": "markdown",
   "metadata": {},
   "source": [
    "````{admonition} Exercice\n",
    " Écrire une fonction `produit_vec(A, X)` renvoyant le produit de la matrice `A` par le vecteur `X`.\n",
    "````"
   ]
  },
  {
   "cell_type": "code",
   "execution_count": 31,
   "metadata": {},
   "outputs": [
    {
     "data": {
      "text/plain": [
       "[0, 5.0, 0.0]"
      ]
     },
     "execution_count": 31,
     "metadata": {},
     "output_type": "execute_result"
    }
   ],
   "source": [
    "produit_vec(A, X0)"
   ]
  },
  {
   "cell_type": "markdown",
   "metadata": {},
   "source": [
    "````{admonition} Exercice\n",
    " Écrire une fonction `population(n)` renvoyant $X_n$.\n",
    "````"
   ]
  },
  {
   "cell_type": "code",
   "execution_count": 33,
   "metadata": {},
   "outputs": [
    {
     "data": {
      "text/plain": [
       "[4590.0, 1120.0, 234.00000000000003]"
      ]
     },
     "execution_count": 33,
     "metadata": {},
     "output_type": "execute_result"
    }
   ],
   "source": [
    "population(10)"
   ]
  },
  {
   "cell_type": "markdown",
   "metadata": {},
   "source": [
    "````{admonition} Exercice\n",
    " Que vaut $X_1$, $X_2$, $X_3$, $X_4$ ?\n",
    "````"
   ]
  },
  {
   "cell_type": "markdown",
   "metadata": {},
   "source": [
    "````{admonition} Exercice\n",
    " Utiliser la fonction suivante pour afficher les $n$ premières valeurs de $a_k$, $b_k$, $c_k$. On appelera par exemple `plot_population(10)`.\n",
    "````"
   ]
  },
  {
   "cell_type": "code",
   "execution_count": 20,
   "metadata": {
    "tags": []
   },
   "outputs": [],
   "source": [
    "import matplotlib.pyplot as plt\n",
    "\n",
    "def plot_population(n):\n",
    "    x = list(range(n))\n",
    "    y = [population(i) for i in x]\n",
    "    a, b, c = zip(*y)\n",
    "    plt.plot(x, a, label=\"$a_n$\")\n",
    "    plt.plot(x, b, label=\"$b_n$\")\n",
    "    plt.plot(x, c, label=\"$c_n$\")\n",
    "    plt.legend()"
   ]
  },
  {
   "cell_type": "markdown",
   "metadata": {
    "tags": [
     "exo"
    ]
   },
   "source": [
    "````{admonition} Exercice\n",
    " Utiliser la fonction suivante pour afficher le taux d'accroissement, c'est-à-dire $\\frac{a_{n+1}}{a_n}$, par exemple. On pourra appeler `plot_accroissement(20)`, par exemple.\n",
    "````"
   ]
  },
  {
   "cell_type": "code",
   "execution_count": 22,
   "metadata": {},
   "outputs": [],
   "source": [
    "import matplotlib.pyplot as plt\n",
    "\n",
    "def plot_accroissement(n):\n",
    "    x = list(range(n))\n",
    "    x_ = list(range(1, n - 1))\n",
    "    y = [population(i) for i in x]\n",
    "    X = list(zip(*y))\n",
    "    X_ = [[]]*3\n",
    "    for i in range(3):\n",
    "        X_[i] = [0 if X[i][j] == 0 else X[i][j+1]/X[i][j] for j in x_]\n",
    "    plt.plot(x_, X_[0], label=r\"$\\frac{a_{n+1}}{a_n}$\")\n",
    "    plt.plot(x_, X_[1], label=r\"$\\frac{b_{n+1}}{b_n}$\")\n",
    "    plt.plot(x_, X_[2], label=r\"$\\frac{c_{n+1}}{c_n}$\")\n",
    "    plt.legend()"
   ]
  },
  {
   "cell_type": "markdown",
   "metadata": {
    "tags": [
     "exo"
    ]
   },
   "source": [
    "````{admonition} Exercice\n",
    " D'après le théorème de [Perron-Frobenius](https://fr.wikipedia.org/wiki/Th%C3%A9or%C3%A8me_de_Perron-Frobenius), le taux d'accroissement est censé tendre, quand $n \\longrightarrow \\infty$, vers la plus grande valeur propre de $A$.  \n",
    "1. Calculer les valeurs propres de $A$ (si vous avez déjà vu la définition de valeur propre en mathématiques...).  \n",
    "2. Vérifier avec `np.linalg.eig(A)`, qui renvoie deux tableaux, le premier contenant les valeurs propres et le deuxième les vecteurs propres.\n",
    "````"
   ]
  }
 ],
 "metadata": {
  "kernelspec": {
   "display_name": "Python 3.9.2 64-bit",
   "language": "python",
   "name": "python3"
  },
  "language_info": {
   "codemirror_mode": {
    "name": "ipython",
    "version": 3
   },
   "file_extension": ".py",
   "mimetype": "text/x-python",
   "name": "python",
   "nbconvert_exporter": "python",
   "pygments_lexer": "ipython3",
   "version": "3.9.2"
  },
  "vscode": {
   "interpreter": {
    "hash": "31f2aee4e71d21fbe5cf8b01ff0e069b9275f58929596ceb00d14d90e3e16cd6"
   }
  }
 },
 "nbformat": 4,
 "nbformat_minor": 2
}
