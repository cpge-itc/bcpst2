{
 "cells": [
  {
   "cell_type": "markdown",
   "metadata": {},
   "source": [
    "# TP 17 : Exercices G2E"
   ]
  },
  {
   "cell_type": "markdown",
   "metadata": {},
   "source": [
    "## Exercice 1\n",
    "\n",
    "Un codon est constitué de 3 nucléotides, et a pour base azotée soit A, soit T, soit G, soit C.\n",
    "\n",
    "1. Écrire une fonction de vérification qui prend en entrée une chaîne de 3 nucléotides, et qui renvoie True si c'est bien un codon stop et False sinon. On rappelle quels sont les 3 codons stop : TAG, TAA, TGA.\n",
    "2. Écrire une fonction qui cherche le codon stop dans une séquence d'ADN (s'il y en a plusieurs alors on s'arrête au premier) et renvoie la position de ce codon dans la séquence. S'il n'y a pas de codon stop alors la fonction renvoie -1. On prend en compte le fait que la lecture de la séquence se fait de codons en codons (c'est-à-dire tous les 3 nucléotides).\n",
    "3. Les nucléotides complémentaires sont : (A-T) et (C-G).\n",
    "\n",
    "    - Écrire une fonction qui prend en entrée un nucléotide et qui renvoie son complémentaire.\n",
    "    - Écrire une fonction qui prend deux brins de même taille et qui vérifie s'ils sont complémentaires. Si oui, elle renvoie True, sinon elle renvoie False.\n",
    "\n",
    "4. On rappelle le phénomène de croisement entre deux brins au niveau d'une position k sur le brin. Par exemple si les brins : 'ATTGTC' et 'CGCTGA' se croisent à la position 3, les deux nouveaux brins sont : 'ATTTGA' et 'CGCGTC'.\n",
    "    Écrire une fonction qui prend en paramètre deux brins et une position k et qui fait le croisement. La fonction renvoie les deux nouveaux brins."
   ]
  },
  {
   "cell_type": "markdown",
   "metadata": {},
   "source": [
    "## Exercice 2\n",
    "\n",
    "1. Créer une fonction `palindrome` qui prend un mot `M` en entrée et qui teste si `M` est un palindrome (par exemple `palindrome('RIGHHGIR')` renvoie `True`).\n",
    "2. Créer une fonction `verlan` qui prend un mot en entrée et qui inverse les deux moitiés du mot (par exemple `verlan('DFRT GGZE')` renvoie `'GGZE DFRT'`)."
   ]
  },
  {
   "cell_type": "markdown",
   "metadata": {},
   "source": [
    "## Exercice 3\n",
    "\n",
    "1. On modélise ici une marche aléatoire dans $\\mathbb{Z}$. À l'instant 0, l'objet est en 0, puis se déplace de ±1 à chaque instant, avec une probabilité 1/4 de se déplacer vers la droite. Créer une fonction qui modélise cette marche et renvoie la position après n déplacements.\n",
    "\n",
    "2. Idem, mais la fonction renvoie l'instant du premier retour en 0 s'il existe.\n",
    "\n",
    "3. On modélise ici une marche aléatoire dans une grille G de taille (r, r), dont le départ se fait en (0, 0). Créer une fonction qui modélise les n premiers déplacements, qui se font aléatoirement dans l'une des quatre directions standard, tout en restant dans la grille."
   ]
  },
  {
   "cell_type": "markdown",
   "metadata": {},
   "source": [
    "## Exercice 4.\n",
    "Le Poker est un jeu de cartes utilisant 52 cartes définies par une couleur (coeur, carreau, pique, trèfle) et une valeur (2-10, valet, dame, roi, as). Un joueur dispose d'une main de 5 cartes.\n",
    "1. Une carte sera représentée par un couple [couleur, valeur]. Par exemple, [1, 6] est le 6 de coeur, [2, 13] est le roi de carreau, [3, 1] est l'as de pique. Quelle structure de données représente le jeu ? Une main ? Créer le jeu en Clojure.\n",
    "2. Écrire une fonction qui génère une main de 5 cartes aléatoirement.\n",
    "3. Écrire une fonction permettant de savoir si une main donnée contient au moins un carreau.\n",
    "4. Écrire une fonction qui permet de détecter un full (3 cartes de même valeur et 2 cartes d'une même valeur) dans une main.\n"
   ]
  },
  {
   "cell_type": "markdown",
   "metadata": {},
   "source": [
    "## Exercice 5.\n",
    "\n",
    "On a une liste contenant des nombres (qui peuvent se répéter).\n",
    "\n",
    "1. Écrire une fonction `comptage(liste, x)` qui compte les occurrences d'un nombre.\n",
    "\n",
    "    Par exemple, `comptage([8, 55, 7, 3, 7, 55, 9, 9, 9], 55)` = 2 ;\n",
    "    `comptage([8, 55, 7, 3, 7, 55, 9, 9, 9], 4)` = 0.\n",
    "\n",
    "2. Écrire une fonction `supprime(liste, x)` qui supprime toutes les occurrences du nombre x à l'exception de la première.\n",
    "\n",
    "    Par exemple, `supprime([8, 55, 7, 3, 7, 55, 9, 9, 9], 55)` = [8, 55, 7, 3, 7, 9, 9, 9] ;\n",
    "    `supprime([8, 55, 7, 3, 7, 55, 9, 9, 9], 4)` = [8, 55, 7, 3, 7, 55, 9, 9, 9].\n",
    "\n",
    "3. Écrire une fonction qui, à partir d'une liste donnée, redonne la même liste mais sans répétition.\n",
    "\n",
    "4. Évaluer la complexité algorithmique de ce dernier programme en fonction de n, la longueur de la liste.\n"
   ]
  },
  {
   "cell_type": "markdown",
   "metadata": {},
   "source": [
    "## Exercice 6.\n",
    "Un musée est composé d'une collection permanente et d'une réserve. Il y a 7 salles et 3 natures d'œuvres (peinture...).\n",
    "Par exemple, le musée M = [['P', 4, 1], ['R', 6, 3], ['P', 6, 1]] contient trois œuvres ; la première œuvre est dans la collection permanente, dans la salle 4, et de nature 1, etc...\n",
    "1. Expliquer en une phrase quelle est la structure de données utilisée pour représenter la collection.\n",
    "2. Créer une fonction qui compte le nombre d'œuvres cachées au public (dans la réserve).\n",
    "3. Écrire une fonction qui compte le nombre d'œuvres pour chaque salle.\n",
    "Par exemple, pour M précédemment écrit, nombre(M) = [0, 0, 0, 1, 0, 2, 0].\n",
    "4. Écrire une fonction qui range le musée selon le type d'œuvre, en renvoyant trois listes, la première contenant les œuvres de type 1, ....\n",
    "5. Écrire un programme qui trie les salles selon le nombre d'œuvres qu'elles contiennent."
   ]
  }
 ],
 "metadata": {
  "kernelspec": {
   "display_name": "Python 3",
   "language": "python",
   "name": "python3"
  },
  "language_info": {
   "name": "python",
   "version": "3.9.2"
  }
 },
 "nbformat": 4,
 "nbformat_minor": 2
}
