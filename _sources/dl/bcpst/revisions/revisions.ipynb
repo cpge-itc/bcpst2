{
 "cells": [
  {
   "attachments": {},
   "cell_type": "markdown",
   "metadata": {},
   "source": [
    "# TP : Révisions"
   ]
  },
  {
   "attachments": {},
   "cell_type": "markdown",
   "metadata": {},
   "source": [
    "## Calcul"
   ]
  },
  {
   "attachments": {},
   "cell_type": "markdown",
   "metadata": {},
   "source": [
    "````{admonition} Question\n",
    " Écrire une fonction `somme(n)` renvoyant $\\sum_{i=1}^n \\sqrt{i}$.\n",
    "````"
   ]
  },
  {
   "cell_type": "markdown",
   "execution_count": 1,
   "metadata": {
    "tags": [
     "cor"
    ]
   },
   "source": [
    "````{admonition} Solution\n",
    ":class: tip, dropdown\n",
    "``` python\n",
    "def somme(n):\n",
    "    s = 0\n",
    "    for i in range(n + 1):\n",
    "        s += i**.5\n",
    "    return s\n",
    "```\n",
    "````"
   ]
  },
  {
   "cell_type": "code",
   "execution_count": 2,
   "metadata": {},
   "outputs": [
    {
     "data": {
      "text/plain": [
       "21082008.973917928"
      ]
     },
     "execution_count": 2,
     "metadata": {},
     "output_type": "execute_result"
    }
   ],
   "source": [
    "somme(100000)"
   ]
  },
  {
   "attachments": {},
   "cell_type": "markdown",
   "metadata": {},
   "source": [
    "````{admonition} Question\n",
    " Écrire une fonction `somme_riemann(f, a, b, n)` renvoyant $\\frac{b - a}{n}\\sum_{k=1}^n f(a + k \\frac{b-a}{n})$.\n",
    "````"
   ]
  },
  {
   "cell_type": "markdown",
   "execution_count": 3,
   "metadata": {
    "tags": [
     "cor"
    ]
   },
   "source": [
    "````{admonition} Solution\n",
    ":class: tip, dropdown\n",
    "``` python\n",
    "def somme_riemann(f, a, b, n):\n",
    "    s = 0\n",
    "    for i in range(n + 1):\n",
    "        s += f(a + (b-a)*i/n)\n",
    "    return s*(b - a)/n\n",
    "```\n",
    "````"
   ]
  },
  {
   "cell_type": "code",
   "execution_count": 4,
   "metadata": {},
   "outputs": [
    {
     "data": {
      "text/plain": [
       "21.097455887480724"
      ]
     },
     "execution_count": 4,
     "metadata": {},
     "output_type": "execute_result"
    }
   ],
   "source": [
    "somme_riemann(lambda x: x**.5, 0, 10, 1000)"
   ]
  },
  {
   "attachments": {},
   "cell_type": "markdown",
   "metadata": {},
   "source": [
    "````{admonition} Question\n",
    " Écrire une fonction `fact(n)` renvoyant $n!$.\n",
    "````"
   ]
  },
  {
   "cell_type": "markdown",
   "execution_count": 5,
   "metadata": {
    "tags": [
     "cor"
    ]
   },
   "source": [
    "````{admonition} Solution\n",
    ":class: tip, dropdown\n",
    "``` python\n",
    "def fact(n):\n",
    "    p = 1\n",
    "    for i in range(2, n + 1):\n",
    "        p *= i\n",
    "    return p\n",
    "```\n",
    "````"
   ]
  },
  {
   "cell_type": "code",
   "execution_count": 6,
   "metadata": {},
   "outputs": [
    {
     "data": {
      "text/plain": [
       "120"
      ]
     },
     "execution_count": 6,
     "metadata": {},
     "output_type": "execute_result"
    }
   ],
   "source": [
    "fact(5)"
   ]
  },
  {
   "attachments": {},
   "cell_type": "markdown",
   "metadata": {},
   "source": [
    "````{admonition} Question\n",
    " Écrire une fonction `borne(p)` renvoyant le plus petit entier $n$ tel que $2^n > p$.\n",
    "````"
   ]
  },
  {
   "cell_type": "markdown",
   "execution_count": 7,
   "metadata": {
    "tags": [
     "cor"
    ]
   },
   "source": [
    "````{admonition} Solution\n",
    ":class: tip, dropdown\n",
    "``` python\n",
    "def borne(p):\n",
    "    n = 0\n",
    "    while 2**n <= p:\n",
    "        n += 1\n",
    "    return n\n",
    "```\n",
    "````"
   ]
  },
  {
   "cell_type": "code",
   "execution_count": 8,
   "metadata": {},
   "outputs": [
    {
     "data": {
      "text/plain": [
       "17"
      ]
     },
     "execution_count": 8,
     "metadata": {},
     "output_type": "execute_result"
    }
   ],
   "source": [
    "borne(100000)"
   ]
  },
  {
   "attachments": {},
   "cell_type": "markdown",
   "metadata": {},
   "source": [
    "````{admonition} Question\n",
    " Écrire une fonction `nombre(n)` renvoyant le nombre d'entiers entre $0$ et $n$ qui sont multiples de $3$ ou de $5$.\n",
    "````"
   ]
  },
  {
   "cell_type": "markdown",
   "execution_count": 9,
   "metadata": {
    "tags": [
     "cor"
    ]
   },
   "source": [
    "````{admonition} Solution\n",
    ":class: tip, dropdown\n",
    "``` python\n",
    "def nombre(n):\n",
    "    s = 0\n",
    "    for i in range(n):\n",
    "        if i % 3 == 0 or i % 5 == 0:\n",
    "            s += 1\n",
    "    return s\n",
    "```\n",
    "````"
   ]
  },
  {
   "cell_type": "code",
   "execution_count": 10,
   "metadata": {},
   "outputs": [
    {
     "data": {
      "text/plain": [
       "46667"
      ]
     },
     "execution_count": 10,
     "metadata": {},
     "output_type": "execute_result"
    }
   ],
   "source": [
    "nombre(100000)"
   ]
  },
  {
   "attachments": {},
   "cell_type": "markdown",
   "metadata": {},
   "source": [
    "## Tuples"
   ]
  },
  {
   "attachments": {},
   "cell_type": "markdown",
   "metadata": {},
   "source": [
    "````{admonition} Question\n",
    " Écrire une fonction `distance(p1, p2)` renvoyant la distance euclidienne entre les points `p1` et `p2`, où `p1` et `p2` sont des couples.  \n",
    "On rappelle qu'on peut accéder aux éléments d'un tuple comme pour une liste (`p[0]` pour le 1er élément, par exemple).\n",
    "````"
   ]
  },
  {
   "cell_type": "markdown",
   "execution_count": 11,
   "metadata": {
    "tags": [
     "cor"
    ]
   },
   "source": [
    "````{admonition} Solution\n",
    ":class: tip, dropdown\n",
    "``` python\n",
    "def distance(p1, p2):\n",
    "    return ((p1[0] - p2[0])**2 + (p1[1] - p2[1])**2)**.5\n",
    "```\n",
    "````"
   ]
  },
  {
   "cell_type": "code",
   "execution_count": 12,
   "metadata": {},
   "outputs": [
    {
     "data": {
      "text/plain": [
       "5.0"
      ]
     },
     "execution_count": 12,
     "metadata": {},
     "output_type": "execute_result"
    }
   ],
   "source": [
    "distance((0, 0), (3, 4))"
   ]
  },
  {
   "attachments": {},
   "cell_type": "markdown",
   "metadata": {},
   "source": [
    "## Listes"
   ]
  },
  {
   "attachments": {},
   "cell_type": "markdown",
   "metadata": {},
   "source": [
    "````{admonition} Question\n",
    " Écrire une fonction `syracuse(a)` renvoyant la liste des $u_k$ définies par la suite suivante, où on arrêtera de calculer les termes de la suite dès que l'on obtient $1$ : \n",
    "\n",
    "\\begin{align*}\n",
    "    u_0 &= a \\\\\n",
    "    u_{n+1} &= \\begin{cases} \\frac{u_n}{2} & \\text{si } u_n \\text{ est pair} \\\\ 3u_n + 1 & \\text{si } u_n \\text{ est impair} \\end{cases}\n",
    "\\end{align*}\n",
    "````"
   ]
  },
  {
   "cell_type": "markdown",
   "execution_count": 13,
   "metadata": {
    "tags": [
     "cor"
    ]
   },
   "source": [
    "````{admonition} Solution\n",
    ":class: tip, dropdown\n",
    "``` python\n",
    "def syracuse(a):\n",
    "    L = [a]\n",
    "    while L[-1] != 1:\n",
    "        if L[-1] % 2 == 0:\n",
    "            L.append(L[-1] // 2)\n",
    "        else:\n",
    "            L.append(3 * L[-1] + 1)\n",
    "    return L\n",
    "```\n",
    "````"
   ]
  },
  {
   "cell_type": "code",
   "execution_count": 14,
   "metadata": {},
   "outputs": [
    {
     "data": {
      "text/plain": [
       "[3, 10, 5, 16, 8, 4, 2, 1]"
      ]
     },
     "execution_count": 14,
     "metadata": {},
     "output_type": "execute_result"
    }
   ],
   "source": [
    "syracuse(3) # [3, 10, 5, 16, 8, 4, 2, 1, 4, 2]"
   ]
  },
  {
   "attachments": {},
   "cell_type": "markdown",
   "metadata": {},
   "source": [
    "````{admonition} Question\n",
    " Écrire une fonction `suite2(n)` renvoyant le couple $(u_n, v_n)$ où :\n",
    "\n",
    "\\begin{align*}\n",
    "    u_0 &= 3 \\\\\n",
    "    u_{n+1} &= 2u_n + 4v_n\\\\\n",
    "    v_0 &= 2 \\\\\n",
    "    v_{n+1} &= u_n - v_n\n",
    "\\end{align*}\n",
    "````"
   ]
  },
  {
   "cell_type": "markdown",
   "execution_count": 15,
   "metadata": {
    "tags": [
     "cor"
    ]
   },
   "source": [
    "````{admonition} Solution\n",
    ":class: tip, dropdown\n",
    "``` python\n",
    "def suite2(n):\n",
    "    un, vn = 3, 2\n",
    "    for i in range(n):\n",
    "        un, vn = 2*un + 4*vn, un - vn\n",
    "    return un, vn\n",
    "```\n",
    "````"
   ]
  },
  {
   "cell_type": "code",
   "execution_count": 16,
   "metadata": {},
   "outputs": [
    {
     "data": {
      "text/plain": [
       "(308, 97)"
      ]
     },
     "execution_count": 16,
     "metadata": {},
     "output_type": "execute_result"
    }
   ],
   "source": [
    "suite2(4)"
   ]
  },
  {
   "attachments": {},
   "cell_type": "markdown",
   "metadata": {},
   "source": [
    "````{admonition} Question\n",
    " Écrire une fonction `moyenne(L)` qui renvoie la moyenne des éléments de la liste `L`.\n",
    "````"
   ]
  },
  {
   "cell_type": "markdown",
   "execution_count": 17,
   "metadata": {
    "tags": [
     "cor"
    ]
   },
   "source": [
    "````{admonition} Solution\n",
    ":class: tip, dropdown\n",
    "``` python\n",
    "def moyenne(L):\n",
    "    s = 0\n",
    "    for x in L:\n",
    "        s += x\n",
    "    return s / len(L)\n",
    "```\n",
    "````"
   ]
  },
  {
   "cell_type": "code",
   "execution_count": 18,
   "metadata": {},
   "outputs": [
    {
     "data": {
      "text/plain": [
       "5.6"
      ]
     },
     "execution_count": 18,
     "metadata": {},
     "output_type": "execute_result"
    }
   ],
   "source": [
    "moyenne([9, 2, 8, 4, 5]) # 5.6"
   ]
  },
  {
   "attachments": {},
   "cell_type": "markdown",
   "metadata": {},
   "source": [
    "````{admonition} Question\n",
    " Écrire une fonction `variance(L)` qui renvoie la [variance](https://fr.wikipedia.org/wiki/Variance_(math%C3%A9matiques)) des éléments de la liste `L`, donnée par $\\frac{1}{n}\\sum_i (L[i] - m)^2$ où $m$ est la moyenne de `L`.  \n",
    "On évitera de calculer plusieurs fois la moyenne.\n",
    "````"
   ]
  },
  {
   "cell_type": "markdown",
   "execution_count": 19,
   "metadata": {
    "tags": [
     "cor"
    ]
   },
   "source": [
    "````{admonition} Solution\n",
    ":class: tip, dropdown\n",
    "``` python\n",
    "def variance(L):\n",
    "    m = moyenne(L)\n",
    "    s = 0\n",
    "    for x in L:\n",
    "        s += (x - m) ** 2\n",
    "    return s / len(L)\n",
    "```\n",
    "````"
   ]
  },
  {
   "cell_type": "code",
   "execution_count": 20,
   "metadata": {},
   "outputs": [
    {
     "data": {
      "text/plain": [
       "6.640000000000001"
      ]
     },
     "execution_count": 20,
     "metadata": {},
     "output_type": "execute_result"
    }
   ],
   "source": [
    "variance([9, 2, 8, 4, 5]) # 6.64"
   ]
  },
  {
   "attachments": {},
   "cell_type": "markdown",
   "metadata": {},
   "source": [
    "````{admonition} Question\n",
    " Écrire une fonction `inverse(L)` qui renvoie la liste des éléments de `L` dans l'ordre inverse.\n",
    "````"
   ]
  },
  {
   "cell_type": "markdown",
   "execution_count": 21,
   "metadata": {
    "tags": [
     "cor"
    ]
   },
   "source": [
    "````{admonition} Solution\n",
    ":class: tip, dropdown\n",
    "``` python\n",
    "def inverse(L):\n",
    "    L2 = []\n",
    "    for i in range(len(L)):\n",
    "        L2.append(L[len(L) - i - 1])\n",
    "    return L2\n",
    "\n",
    "# autre solution\n",
    "def inverse(L):\n",
    "    return L[::-1]\n",
    "```\n",
    "````"
   ]
  },
  {
   "cell_type": "code",
   "execution_count": 22,
   "metadata": {},
   "outputs": [
    {
     "data": {
      "text/plain": [
       "[5, 4, 3, 2, 1]"
      ]
     },
     "execution_count": 22,
     "metadata": {},
     "output_type": "execute_result"
    }
   ],
   "source": [
    "inverse([1, 2, 3, 4, 5]) # [5, 4, 3, 2, 1]"
   ]
  },
  {
   "attachments": {},
   "cell_type": "markdown",
   "metadata": {},
   "source": [
    "````{admonition} Question\n",
    " Écrire une fonction `positifs(L)` qui renvoie la liste des éléments de `L` strictement positifs.\n",
    "````"
   ]
  },
  {
   "cell_type": "markdown",
   "execution_count": 23,
   "metadata": {
    "tags": [
     "cor"
    ]
   },
   "source": [
    "````{admonition} Solution\n",
    ":class: tip, dropdown\n",
    "``` python\n",
    "def positifs(L):\n",
    "    L2 = []\n",
    "    for x in L:\n",
    "        if x > 0:\n",
    "            L2.append(x)\n",
    "    return L2\n",
    "```\n",
    "````"
   ]
  },
  {
   "cell_type": "code",
   "execution_count": 24,
   "metadata": {},
   "outputs": [
    {
     "data": {
      "text/plain": [
       "[1, 3, 5, 7, 9]"
      ]
     },
     "execution_count": 24,
     "metadata": {},
     "output_type": "execute_result"
    }
   ],
   "source": [
    "positifs([1, -2, 3, -4, 5, -6, 7, -8, 9, -10])"
   ]
  },
  {
   "attachments": {},
   "cell_type": "markdown",
   "metadata": {},
   "source": [
    "````{admonition} Question\n",
    " Écrire une fonction `tous_pairs(L)` qui renvoie `True` si tous les éléments de `L` sont pairs, `False` sinon.\n",
    "````"
   ]
  },
  {
   "cell_type": "markdown",
   "execution_count": 25,
   "metadata": {
    "tags": [
     "cor"
    ]
   },
   "source": [
    "````{admonition} Solution\n",
    ":class: tip, dropdown\n",
    "``` python\n",
    "def tous_pairs(L):\n",
    "    for x in L:\n",
    "        if x % 2 != 0:\n",
    "            return False\n",
    "    return True\n",
    "```\n",
    "````"
   ]
  },
  {
   "cell_type": "code",
   "execution_count": 26,
   "metadata": {},
   "outputs": [
    {
     "name": "stdout",
     "output_type": "stream",
     "text": [
      "True\n",
      "False\n"
     ]
    }
   ],
   "source": [
    "print(tous_pairs([2, 4, 6, 8, 10])) # True\n",
    "print(tous_pairs([2, 4, 6, 8, 10, 11])) # False"
   ]
  },
  {
   "attachments": {},
   "cell_type": "markdown",
   "metadata": {},
   "source": [
    "````{admonition} Question\n",
    " Écrire une fonction `croissante(L)` qui renvoie `True` si les éléments de `L` sont dans l'ordre croissant, `False` sinon.\n",
    "````"
   ]
  },
  {
   "cell_type": "markdown",
   "execution_count": 27,
   "metadata": {
    "tags": [
     "cor"
    ]
   },
   "source": [
    "````{admonition} Solution\n",
    ":class: tip, dropdown\n",
    "``` python\n",
    "def croissante(L):\n",
    "    for i in range(len(L) - 1):\n",
    "        if L[i] > L[i + 1]:\n",
    "            return False\n",
    "    return True\n",
    "```\n",
    "````"
   ]
  },
  {
   "cell_type": "code",
   "execution_count": 28,
   "metadata": {},
   "outputs": [
    {
     "name": "stdout",
     "output_type": "stream",
     "text": [
      "True\n",
      "False\n"
     ]
    }
   ],
   "source": [
    "print(croissante([1, 2, 3, 4, 5])) # True\n",
    "print(croissante([1, 2, 3, 4, 3])) # False"
   ]
  },
  {
   "attachments": {},
   "cell_type": "markdown",
   "metadata": {},
   "source": [
    "````{admonition} Question\n",
    " Écrire une fonction `concatene(L1, L2)` renvoyant une liste composée des éléments de `L1` suivis des éléments de `L2`.\n",
    "````"
   ]
  },
  {
   "cell_type": "markdown",
   "execution_count": 29,
   "metadata": {
    "tags": [
     "cor"
    ]
   },
   "source": [
    "````{admonition} Solution\n",
    ":class: tip, dropdown\n",
    "``` python\n",
    "def concatene(L1, L2):\n",
    "    L = []\n",
    "    for x in L1:\n",
    "        L.append(x)\n",
    "    for x in L2:\n",
    "        L.append(x)\n",
    "    return L\n",
    "```\n",
    "````"
   ]
  },
  {
   "cell_type": "code",
   "execution_count": 30,
   "metadata": {},
   "outputs": [
    {
     "data": {
      "text/plain": [
       "[1, 2, 3, 4, 5, 6]"
      ]
     },
     "execution_count": 30,
     "metadata": {},
     "output_type": "execute_result"
    }
   ],
   "source": [
    "concatene([1, 2, 3], [4, 5, 6])"
   ]
  },
  {
   "attachments": {},
   "cell_type": "markdown",
   "metadata": {},
   "source": [
    "````{admonition} Question\n",
    " Écrire une fonction `separe(L)` qui renvoie un couple de deux listes, la première contenant les éléments d'indices pairs de `L` et la seconde les éléments d'indices impairs.\n",
    "````"
   ]
  },
  {
   "cell_type": "markdown",
   "execution_count": 31,
   "metadata": {
    "tags": [
     "cor"
    ]
   },
   "source": [
    "````{admonition} Solution\n",
    ":class: tip, dropdown\n",
    "``` python\n",
    "def separe(L):\n",
    "    L1 = []\n",
    "    L2 = []\n",
    "    for x in L:\n",
    "        if x % 2 == 0:\n",
    "            L1.append(x)\n",
    "        else:\n",
    "            L2.append(x)\n",
    "    return L1, L2\n",
    "```\n",
    "````"
   ]
  },
  {
   "cell_type": "code",
   "execution_count": 32,
   "metadata": {},
   "outputs": [
    {
     "data": {
      "text/plain": [
       "([2, 4, 6, 8, 10], [1, 3, 5, 7, 9])"
      ]
     },
     "execution_count": 32,
     "metadata": {},
     "output_type": "execute_result"
    }
   ],
   "source": [
    "separe([1, 2, 3, 4, 5, 6, 7, 8, 9, 10])"
   ]
  },
  {
   "attachments": {},
   "cell_type": "markdown",
   "metadata": {},
   "source": [
    "````{admonition} Question\n",
    " Écrire une fonction `produit_scalaire(u, v)` renvoyant le produit scalaire de `u` et `v`, où `u` et `v` sont des listes de même longueur.\n",
    "````"
   ]
  },
  {
   "cell_type": "markdown",
   "execution_count": 33,
   "metadata": {
    "tags": [
     "cor"
    ]
   },
   "source": [
    "````{admonition} Solution\n",
    ":class: tip, dropdown\n",
    "``` python\n",
    "def produit_scalaire(u, v):\n",
    "    s = 0\n",
    "    for i in range(len(u)):\n",
    "        s += u[i] * v[i]\n",
    "    return s\n",
    "```\n",
    "````"
   ]
  },
  {
   "cell_type": "code",
   "execution_count": 34,
   "metadata": {},
   "outputs": [
    {
     "data": {
      "text/plain": [
       "32"
      ]
     },
     "execution_count": 34,
     "metadata": {},
     "output_type": "execute_result"
    }
   ],
   "source": [
    "produit_scalaire([1, 2, 3], [4, 5, 6]) # 32"
   ]
  },
  {
   "attachments": {},
   "cell_type": "markdown",
   "metadata": {},
   "source": [
    "## Matrices\n",
    "\n",
    "Dans les questions suivantes, il est interdit d'utiliser `numpy`."
   ]
  },
  {
   "attachments": {},
   "cell_type": "markdown",
   "metadata": {},
   "source": [
    "````{admonition} Question\n",
    " Écrire une fonction `creer_matrice(n, p, x)` qui renvoie une matrice de taille à $n$ lignes, $p$ colonnes dont tous les éléments sont égaux à `x`.\n",
    "````"
   ]
  },
  {
   "cell_type": "markdown",
   "execution_count": 35,
   "metadata": {
    "tags": [
     "cor"
    ]
   },
   "source": [
    "````{admonition} Solution\n",
    ":class: tip, dropdown\n",
    "``` python\n",
    "def creer_matrice(n, p, x):\n",
    "    M = []\n",
    "    for i in range(n):\n",
    "        L = []\n",
    "        for j in range(p):\n",
    "            L.append(x)\n",
    "        M.append(L)\n",
    "    return M\n",
    "```\n",
    "````"
   ]
  },
  {
   "cell_type": "code",
   "execution_count": 36,
   "metadata": {},
   "outputs": [
    {
     "data": {
      "text/plain": [
       "[[2, 2, 2, 2], [2, 2, 2, 2], [2, 2, 2, 2]]"
      ]
     },
     "execution_count": 36,
     "metadata": {},
     "output_type": "execute_result"
    }
   ],
   "source": [
    "creer_matrice(3, 4, 2)"
   ]
  },
  {
   "attachments": {},
   "cell_type": "markdown",
   "metadata": {},
   "source": [
    "````{admonition} Question\n",
    " Écrire une fonction `matrice_identite(n)` qui renvoie la matrice identité de taille $n$.\n",
    "````"
   ]
  },
  {
   "cell_type": "markdown",
   "execution_count": 37,
   "metadata": {
    "tags": [
     "cor"
    ]
   },
   "source": [
    "````{admonition} Solution\n",
    ":class: tip, dropdown\n",
    "``` python\n",
    "def matrice_identite(n):\n",
    "    M = creer_matrice(n, n, 0)\n",
    "    for i in range(n):\n",
    "        M[i][i] = 1\n",
    "    return M\n",
    "```\n",
    "````"
   ]
  },
  {
   "cell_type": "code",
   "execution_count": 38,
   "metadata": {},
   "outputs": [
    {
     "data": {
      "text/plain": [
       "[[1, 0, 0, 0], [0, 1, 0, 0], [0, 0, 1, 0], [0, 0, 0, 1]]"
      ]
     },
     "execution_count": 38,
     "metadata": {},
     "output_type": "execute_result"
    }
   ],
   "source": [
    "matrice_identite(4)"
   ]
  },
  {
   "attachments": {},
   "cell_type": "markdown",
   "metadata": {},
   "source": [
    "````{admonition} Question\n",
    " Écrire une fonction `transposee(M)` qui renvoie la transposée de la matrice `M`.\n",
    "````"
   ]
  },
  {
   "cell_type": "markdown",
   "execution_count": 39,
   "metadata": {
    "tags": [
     "cor"
    ]
   },
   "source": [
    "````{admonition} Solution\n",
    ":class: tip, dropdown\n",
    "``` python\n",
    "def transposee(M):\n",
    "    n = len(M)\n",
    "    p = len(M[0])\n",
    "    Mt = creer_matrice(p, n, 0)\n",
    "    for i in range(n):\n",
    "        for j in range(p):\n",
    "            Mt[j][i] = M[i][j]\n",
    "    return Mt\n",
    "```\n",
    "````"
   ]
  },
  {
   "cell_type": "code",
   "execution_count": 40,
   "metadata": {},
   "outputs": [
    {
     "data": {
      "text/plain": [
       "[[1, 4, 7], [2, 5, 8], [3, 6, 9]]"
      ]
     },
     "execution_count": 40,
     "metadata": {},
     "output_type": "execute_result"
    }
   ],
   "source": [
    "transposee([[1, 2, 3], [4, 5, 6], [7, 8, 9]])"
   ]
  },
  {
   "attachments": {},
   "cell_type": "markdown",
   "metadata": {},
   "source": [
    "````{admonition} Question\n",
    " Écrire une fonction `egal(M1, M2)` qui renvoie `True` si les matrices `M1` et `M2` sont égales, `False` sinon.\n",
    "````"
   ]
  },
  {
   "cell_type": "markdown",
   "execution_count": 41,
   "metadata": {
    "tags": [
     "cor"
    ]
   },
   "source": [
    "````{admonition} Solution\n",
    ":class: tip, dropdown\n",
    "``` python\n",
    "def egal(M1, M2):\n",
    "    n = len(M1)\n",
    "    p = len(M1[0])\n",
    "    for i in range(n):\n",
    "        for j in range(p):\n",
    "            if M1[i][j] != M2[i][j]:\n",
    "                return False\n",
    "    return True\n",
    "```\n",
    "````"
   ]
  },
  {
   "cell_type": "code",
   "execution_count": 42,
   "metadata": {},
   "outputs": [
    {
     "name": "stdout",
     "output_type": "stream",
     "text": [
      "True\n",
      "False\n"
     ]
    }
   ],
   "source": [
    "print(egal([[1, 2, 3], [4, 5, 6], [7, 8, 9]], [[1, 2, 3], [4, 5, 6], [7, 8, 9]])) # True\n",
    "print(egal([[1, 2, 3], [4, 5, 6], [7, 8, 9]], [[1, 2, 3], [4, 5, 6], [7, 8, 10]])) # False"
   ]
  },
  {
   "attachments": {},
   "cell_type": "markdown",
   "metadata": {},
   "source": [
    "````{admonition} Question\n",
    " Écrire une fonction `symetrique(M)` qui renvoie `True` si la matrice `M` est symétrique, `False` sinon.\n",
    "````"
   ]
  },
  {
   "cell_type": "markdown",
   "execution_count": 43,
   "metadata": {
    "tags": [
     "cor"
    ]
   },
   "source": [
    "````{admonition} Solution\n",
    ":class: tip, dropdown\n",
    "``` python\n",
    "def symetrique(M):\n",
    "    return egal(M, transposee(M))\n",
    "```\n",
    "````"
   ]
  },
  {
   "cell_type": "code",
   "execution_count": 44,
   "metadata": {},
   "outputs": [
    {
     "name": "stdout",
     "output_type": "stream",
     "text": [
      "True\n",
      "False\n"
     ]
    }
   ],
   "source": [
    "print(symetrique([[1, 2, 3], [2, 4, 5], [3, 5, 6]])) # True\n",
    "print(symetrique([[1, 2, 3], [2, 4, 7], [3, 5, 6]])) # False"
   ]
  }
 ],
 "metadata": {
  "kernelspec": {
   "display_name": "Python 3",
   "language": "python",
   "name": "python3"
  },
  "language_info": {
   "codemirror_mode": {
    "name": "ipython",
    "version": 3
   },
   "file_extension": ".py",
   "mimetype": "text/x-python",
   "name": "python",
   "nbconvert_exporter": "python",
   "pygments_lexer": "ipython3",
   "version": "3.9.2"
  }
 },
 "nbformat": 4,
 "nbformat_minor": 2
}
