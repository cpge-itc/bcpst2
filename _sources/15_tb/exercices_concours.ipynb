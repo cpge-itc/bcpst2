{
 "cells": [
  {
   "attachments": {},
   "cell_type": "markdown",
   "metadata": {},
   "source": [
    "# Exercices de concours\n",
    "\n",
    "Voici deux sujets de concours à traiter en TP. Normalement ces sujets sont à faire à l'écrit, mais on testera quand même sur l'ordinateur. Les rapports contiennent des conseils qui peuvent être utiles.\n",
    "\n",
    "## Exercice 1 : TB 2019\n",
    "\n",
    "- [Sujet](https://www.concours-agro-veto.net/IMG/pdf/atb2019_-_algorithique_et_informatique_pour_site_scav.pdf)\n",
    "- [Rapport](https://www.concours-agro-veto.net/IMG/pdf/rapport_epreuve_mef_pub.pdf)\n",
    "\n",
    "## Exercice 2 : TB 2020\n",
    "\n",
    "- [Sujet](https://www.concours-agro-veto.net/IMG/pdf/a_tb_-_0720_-_sujet_principal_-_algorithmique_et_informatique_-_scav.pdf)\n",
    "- [Rapport](https://www.concours-agro-veto.net/IMG/pdf/rapport_conc_a_tb_2020_algorithmique_et_informatique.pdf)"
   ]
  }
 ],
 "metadata": {
  "kernelspec": {
   "display_name": "Python 3",
   "language": "python",
   "name": "python3"
  },
  "language_info": {
   "name": "python",
   "version": "3.9.2"
  },
  "vscode": {
   "interpreter": {
    "hash": "31f2aee4e71d21fbe5cf8b01ff0e069b9275f58929596ceb00d14d90e3e16cd6"
   }
  }
 },
 "nbformat": 4,
 "nbformat_minor": 2
}
