{
 "cells": [
  {
   "attachments": {},
   "cell_type": "markdown",
   "metadata": {},
   "source": [
    "# TP 13 : Marche aléatoire et chaîne de Markov"
   ]
  },
  {
   "attachments": {},
   "cell_type": "markdown",
   "metadata": {},
   "source": [
    "````{admonition} Question\n",
    " Exécuter le code suivant pour importer les modules nécessaires\n",
    "````"
   ]
  },
  {
   "cell_type": "code",
   "execution_count": 101,
   "metadata": {},
   "outputs": [],
   "source": [
    "import matplotlib.pyplot as plt\n",
    "import numpy as np\n",
    "import random"
   ]
  },
  {
   "attachments": {},
   "cell_type": "markdown",
   "metadata": {},
   "source": [
    "## Marche aléatoire en 1D\n",
    "\n",
    "On rappelle que `random.random()` permet d'obtenir un flottant (nombre à virgule) aléatoire entre 0 et 1 :"
   ]
  },
  {
   "cell_type": "code",
   "execution_count": 102,
   "metadata": {},
   "outputs": [
    {
     "data": {
      "text/plain": [
       "0.7359502472103266"
      ]
     },
     "execution_count": 102,
     "metadata": {},
     "output_type": "execute_result"
    }
   ],
   "source": [
    "random.random()"
   ]
  },
  {
   "attachments": {},
   "cell_type": "markdown",
   "metadata": {},
   "source": [
    "On définit une marche aléatoire à une dimension par des variables aléatoires $X_1$, $X_2$, ... indépendantes et de même loi :  \n",
    "\n",
    "$$\\mathbb{P}(X_k = 1) = \\mathbb{P}(X_k = -1) = \\frac{1}{2}$$"
   ]
  },
  {
   "attachments": {},
   "cell_type": "markdown",
   "metadata": {},
   "source": [
    "````{admonition} Question\n",
    " Écrire une fonction `X()` qui renvoie 1 ou -1 avec une probabilité de 1/2 chacune.\n",
    "````"
   ]
  },
  {
   "cell_type": "code",
   "execution_count": 104,
   "metadata": {},
   "outputs": [
    {
     "data": {
      "text/plain": [
       "-1"
      ]
     },
     "execution_count": 104,
     "metadata": {},
     "output_type": "execute_result"
    }
   ],
   "source": [
    "X()"
   ]
  },
  {
   "attachments": {},
   "cell_type": "markdown",
   "metadata": {},
   "source": [
    "On définit ensuite la variable aléatoire $S_n = X_1 + X_2 + \\cdots + X_n$."
   ]
  },
  {
   "attachments": {},
   "cell_type": "markdown",
   "metadata": {},
   "source": [
    "````{admonition} Question\n",
    " Écrire une fonction `S(n)` qui renvoie $S_n$.\n",
    "````"
   ]
  },
  {
   "cell_type": "code",
   "execution_count": 106,
   "metadata": {},
   "outputs": [
    {
     "data": {
      "text/plain": [
       "-18"
      ]
     },
     "execution_count": 106,
     "metadata": {},
     "output_type": "execute_result"
    }
   ],
   "source": [
    "S(100)"
   ]
  },
  {
   "attachments": {},
   "cell_type": "markdown",
   "metadata": {},
   "source": [
    "````{admonition} Exercice\n",
    "\n",
    "1. Écrire une fonction `S_liste(n)` qui renvoie la liste des sommes partielles $S_1$, $S_2$, ... $S_n$. Il s'agit donc de la même fonction que précédemment, mais qui renvoie une liste.  \n",
    "2. Exécuter le code suivant pour afficher la marche aléatoire.\n",
    "````"
   ]
  },
  {
   "cell_type": "code",
   "execution_count": null,
   "metadata": {},
   "outputs": [],
   "source": [
    "L = S_liste(1000)\n",
    "plt.plot(L, label=\"S(n)\")\n",
    "plt.legend()\n",
    "plt.show()"
   ]
  },
  {
   "attachments": {},
   "cell_type": "markdown",
   "metadata": {},
   "source": [
    "### Distance à l'origine\n",
    "\n",
    "Un théorème affirme que la distance à l'origine $|S_n|$ vérifie :  \n",
    "\n",
    "$$\\mathbb{E}(|S_n|) \\sim \\sqrt{\\frac{2n}{\\pi}}$$\n",
    "\n",
    "On veut vérifier ce résultat informatiquement."
   ]
  },
  {
   "attachments": {},
   "cell_type": "markdown",
   "metadata": {},
   "source": [
    "````{admonition} Exercice\n",
    "\n",
    "1. Écrire une fonction `distance_origine(n, p)` qui calcule `p` fois `abs(S(n))` et renvoie la moyenne de ces valeurs.  \n",
    "2. Comparer graphiquement avec $\\sqrt{\\frac{2n}{\\pi}}$ en exécutant le code ci-dessous.\n",
    "````"
   ]
  },
  {
   "cell_type": "code",
   "execution_count": null,
   "metadata": {},
   "outputs": [],
   "source": [
    "plt.plot([distance_origine(i, 100) for i in range(300)], label=\"distance_origine(n, 100)\")\n",
    "plt.plot([(2*i/np.pi)**.5 for i in range(300)], 'r', label=\"(2n/pi)**.5\")\n",
    "plt.xlabel(\"n\")\n",
    "plt.legend()\n",
    "plt.show()"
   ]
  },
  {
   "attachments": {},
   "cell_type": "markdown",
   "metadata": {},
   "source": [
    "### Théorème de la limite centrale\n",
    "\n",
    "En notant $\\mu$ et $\\sigma$ l'espérance et l'écart-type de chaque variable $X_k$, le **théorème de la limite centrale** affirme que :\n",
    "\n",
    "$$\\frac{S_n - n\\mu}{\\sigma\\sqrt{n}} \\sim \\mathcal{N}(0, 1)$$\n",
    "\n",
    "où $\\mathcal{N}(0, 1)$ est la loi normale centrée réduite, dont la densité de probabilité est :\n",
    "\n",
    "$$f(x) = \\frac{1}{\\sqrt{2\\pi}}\\exp\\left(-\\frac{x^2}{2}\\right)$$"
   ]
  },
  {
   "attachments": {},
   "cell_type": "markdown",
   "metadata": {},
   "source": [
    "````{admonition} Exercice\n",
    "\n",
    "1. Calculer $\\mu$ et $\\sigma$ à la main (sans ordinateur). On rappelle que $\\sigma = \\sqrt{\\mathbb{E}(X^2) - \\mathbb{E}(X)^2}$.  \n",
    "2. Écrire une fonction `limite_centrale(n)` renvoyant $\\frac{S_n - n\\mu}{\\sigma\\sqrt{n}}$, avec $\\mu$ et $\\sigma$ remplacés par leurs valeurs.  \n",
    "3. Écrire la fonction de densité `f` de la loi normale centrée réduite. On pourra utiliser `np.exp` et `np.pi`.  \n",
    "4. Vérifier en exécutant le code ci-dessous.\n",
    "````"
   ]
  },
  {
   "cell_type": "code",
   "execution_count": null,
   "metadata": {},
   "outputs": [],
   "source": [
    "n = 1000\n",
    "L = [limite_centrale(n) for i in range(n)]\n",
    "plt.hist(L, bins=20, density=True)\n",
    "R = np.linspace(min(L), max(L), 100)\n",
    "plt.plot(R, [f(x) for x in R], 'r')\n",
    "plt.show()"
   ]
  },
  {
   "attachments": {},
   "cell_type": "markdown",
   "metadata": {},
   "source": [
    "## Marche aléatoire en 2D\n",
    "\n",
    "On se place en dimension 2. On définit le point $P_n$ par récurrence sur $n$ :  \n",
    "- $P_0 = (0, 0)$  \n",
    "- $P_{n + 1}$ est un des $4$ points voisins de $P_n$ (en se déplaçant d'une case vers le haut, le bas, la gauche ou la droite) avec une probabilité de $1/4$ chacune."
   ]
  },
  {
   "attachments": {},
   "cell_type": "markdown",
   "metadata": {},
   "source": [
    "````{admonition} Question\n",
    " Écrire une fonction `P(n)` qui renvoie le point $P_n$.  \n",
    "On pourra définir `r = random.random()` et distinguer $4$ cas : $0 \\leq r < 1/4$, $1/4 \\leq r < 2/4$, $2/4 \\leq r < 3/4$ et $3/4 \\leq r < 1$. \n",
    "````"
   ]
  },
  {
   "cell_type": "code",
   "execution_count": 115,
   "metadata": {},
   "outputs": [
    {
     "data": {
      "text/plain": [
       "(-7, -7)"
      ]
     },
     "execution_count": 115,
     "metadata": {},
     "output_type": "execute_result"
    }
   ],
   "source": [
    "P(100)"
   ]
  },
  {
   "attachments": {},
   "cell_type": "markdown",
   "metadata": {},
   "source": [
    "````{admonition} Exercice\n",
    "\n",
    "1. Écrire une fonction `P_liste(n)` qui renvoie la liste des points $P_0$, $P_1$, ... $P_n$. Il s'agit donc de la même fonction que précédemment, mais qui renvoie une liste.  \n",
    "2. Exécuter le code ci-dessous pour afficher la marche aléatoire.\n",
    "````"
   ]
  },
  {
   "cell_type": "code",
   "execution_count": null,
   "metadata": {},
   "outputs": [],
   "source": [
    "X, Y = zip(*P_liste(100))\n",
    "plt.plot(X, Y)\n",
    "plt.show()"
   ]
  },
  {
   "attachments": {},
   "cell_type": "markdown",
   "metadata": {},
   "source": [
    "On peut prouver que la marche aléatoire en 2D est **récurrent** : il revient une infinité de fois au point d'origine $(0, 0)$."
   ]
  },
  {
   "attachments": {},
   "cell_type": "markdown",
   "metadata": {},
   "source": [
    "````{admonition} Question\n",
    " Écrire une fonction `retour_origine(n)` qui renvoie une liste `L` telle que `L[i]` est le nombre de fois où la marche aléatoire revient au point d'origine après `i` étapes.\n",
    "````"
   ]
  },
  {
   "cell_type": "code",
   "execution_count": null,
   "metadata": {},
   "outputs": [],
   "source": [
    "retour_origine(10)"
   ]
  },
  {
   "attachments": {},
   "cell_type": "markdown",
   "metadata": {},
   "source": [
    "## Chaîne de Markov\n",
    "\n",
    "On considère un chat qui peut être dans $3$ états possibles : manger (0), jouer (1) ou dormir (2). À chaque étape, le chat peut changer d'état avec une certaine probabilité donnée par le graphe suivant :\n",
    "\n",
    "<center><img src=https://raw.githubusercontent.com/fortierq/tikz/master/graph/markov/chat/chat.png width=600></center>"
   ]
  },
  {
   "attachments": {},
   "cell_type": "markdown",
   "metadata": {},
   "source": [
    "Par exemple, si le chat est en train de manger à l'étape $n$, il continuera de manger à l'étape $n + 1$ avec probabilité $0.2$, il se mettra à dormir avec probabilité $0.5$ et jouer avec probabilité $0.3$."
   ]
  },
  {
   "attachments": {},
   "cell_type": "markdown",
   "metadata": {},
   "source": [
    "````{admonition} Question\n",
    " Écrire une fonction `chat(n)` qui commence dans l'état $0$ et effectue $n$ étapes du chat et renvoie une liste `L` telle que `L[i]` la proportion du nombre de fois que le chat a été dans l'état `i`.\n",
    "````"
   ]
  },
  {
   "cell_type": "code",
   "execution_count": 122,
   "metadata": {},
   "outputs": [
    {
     "data": {
      "text/plain": [
       "[0.25000000000000006, 0.24000000000000007, 0.5100000000000002]"
      ]
     },
     "execution_count": 122,
     "metadata": {},
     "output_type": "execute_result"
    }
   ],
   "source": [
    "chat(100)"
   ]
  },
  {
   "attachments": {},
   "cell_type": "markdown",
   "metadata": {},
   "source": [
    "````{admonition} Question\n",
    " Définir la matrice de transition $M$ de ce problème, de taille $3\\times 3$ et telle que $m_{i, j}$ est la probabilité de passer de l'état $i$ à l'état $j$.\n",
    "````"
   ]
  },
  {
   "cell_type": "code",
   "execution_count": 126,
   "metadata": {},
   "outputs": [
    {
     "data": {
      "text/plain": [
       "0.5"
      ]
     },
     "execution_count": 126,
     "metadata": {},
     "output_type": "execute_result"
    }
   ],
   "source": [
    "M[1][2] # probabilité de passer de l'état 1 à l'état 2"
   ]
  },
  {
   "attachments": {},
   "cell_type": "markdown",
   "metadata": {},
   "source": [
    "On peut montrer (**théorème de Perron-Frobenius**) que $M^n$ converge vers une matrice dont chaque ligne est la distribution stationnaire, c'est-à-dire la proportion de temps que le chat passe dans chaque état.\n",
    "\n",
    "On veut vérifier ce théorème."
   ]
  },
  {
   "attachments": {},
   "cell_type": "markdown",
   "metadata": {},
   "source": [
    "````{admonition} Question\n",
    " Écrire une fonction `produit(A, B)` effectuant le produit matriciel des matrices $A$ et $B$. \n",
    "On rappelle que les coefficients de $C = AB$ vérifient :\n",
    "\n",
    "$$c_{i, j} = \\sum_{k = 1}^n a_{i, k}b_{k, j}$$\n",
    "\n",
    "On pourra utiliser `np.zeros` pour créer une matrice `C` de $0$ qu'on remplira avec la formule ci-dessus.\n",
    "````"
   ]
  },
  {
   "cell_type": "code",
   "execution_count": 128,
   "metadata": {},
   "outputs": [
    {
     "data": {
      "text/plain": [
       "array([[0.33, 0.22, 0.45],\n",
       "       [0.32, 0.23, 0.45],\n",
       "       [0.3 , 0.24, 0.46]])"
      ]
     },
     "execution_count": 128,
     "metadata": {},
     "output_type": "execute_result"
    }
   ],
   "source": [
    "produit(M, M)"
   ]
  },
  {
   "attachments": {},
   "cell_type": "markdown",
   "metadata": {},
   "source": [
    "````{admonition} Question\n",
    "  \n",
    "1. Écrire une fonction `puissance(M, n)` qui renvoie $M^n$.  \n",
    "2. Calculer `puissance(M, 10)` et vérifier qu'on obtient un résultat proche de `chat(10000)`.\n",
    "````"
   ]
  }
 ],
 "metadata": {
  "kernelspec": {
   "display_name": "Python 3",
   "language": "python",
   "name": "python3"
  },
  "language_info": {
   "codemirror_mode": {
    "name": "ipython",
    "version": 3
   },
   "file_extension": ".py",
   "mimetype": "text/x-python",
   "name": "python",
   "nbconvert_exporter": "python",
   "pygments_lexer": "ipython3",
   "version": "3.9.2 (default, Feb 28 2021, 17:03:44) \n[GCC 10.2.1 20210110]"
  },
  "vscode": {
   "interpreter": {
    "hash": "31f2aee4e71d21fbe5cf8b01ff0e069b9275f58929596ceb00d14d90e3e16cd6"
   }
  }
 },
 "nbformat": 4,
 "nbformat_minor": 2
}
