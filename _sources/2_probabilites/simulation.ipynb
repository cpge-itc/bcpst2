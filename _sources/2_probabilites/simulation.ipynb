{
 "cells": [
  {
   "cell_type": "markdown",
   "metadata": {},
   "source": [
    "# TP 2 : Simulation de variables aléatoires\n",
    "\n",
    "Dans ce TP, nous allons simuler des lois de variables aléatoires à partir de `random.random()` qui permet d'avoir un flottant entre $0$ et $1$ (c'est-à-dire simulant une variable uniforme sur $[0, 1]$).\n",
    "\n",
    "Modules à importer :"
   ]
  },
  {
   "cell_type": "code",
   "execution_count": null,
   "metadata": {},
   "outputs": [],
   "source": [
    "from collections import Counter\n",
    "import matplotlib.pyplot as plt\n",
    "import random\n",
    "import numpy as np"
   ]
  },
  {
   "cell_type": "markdown",
   "metadata": {},
   "source": [
    "\n",
    "La fonction suivante permettra de comparer l'histogramme obtenu avec la loi correspondante dans `numpy`, pour vérifier votre code :"
   ]
  },
  {
   "cell_type": "code",
   "execution_count": 2,
   "metadata": {},
   "outputs": [],
   "source": [
    "def test_hist(n, var, var_validation, *args):\n",
    "    fig, axes = plt.subplots(nrows=1, ncols=2, figsize=(15, 5))\n",
    "    for i, f in enumerate([var, var_validation]):\n",
    "        d = Counter([f(*args) for _ in range(n)])\n",
    "        s = sum(d.values())\n",
    "        axes[i].bar(d.keys(), [v/s for v in d.values()])\n",
    "        axes[i].set_xlabel(f\"valeur de X = {f.__name__}(p)\")\n",
    "        axes[i].set_ylabel(\"fréquence d'apparition de X\")\n",
    "        axes[i].set_title(f\"Histogramme de {'np.random.' if i == 1 else ''}{f.__name__}(p)\")\n",
    "    plt.show()"
   ]
  },
  {
   "cell_type": "markdown",
   "metadata": {},
   "source": [
    "\n",
    "## Loi de Bernouilli\n",
    "\n",
    "On rappelle que $X$ suit une **loi de Bernouilli** de paramètre $p$ si :\n",
    "\n",
    "\\begin{align*}\n",
    "    \\mathbb{P}(X = 1)& = p\\\\\n",
    "    \\mathbb{P}(X = 0)& = 1 - p\n",
    "\\end{align*}"
   ]
  },
  {
   "cell_type": "markdown",
   "metadata": {},
   "source": [
    "On utilisera la fonction `random.random` qui génère un flottant aléatoire entre $0$ et $1$ (c'est-à-dire une variable aléatoire uniforme $\\mathcal{U}$ sur $[0, 1]$) :"
   ]
  },
  {
   "cell_type": "code",
   "execution_count": 3,
   "metadata": {},
   "outputs": [
    {
     "data": {
      "text/plain": [
       "0.38282447424022237"
      ]
     },
     "execution_count": 3,
     "metadata": {},
     "output_type": "execute_result"
    }
   ],
   "source": [
    "random.random()"
   ]
  },
  {
   "cell_type": "markdown",
   "metadata": {},
   "source": [
    "````{admonition} Exercice\n",
    " En utilisant `random.random()`, écrire une fonction `flip()` simulant une loi de Bernouilli de paramètre $p = 0.5$ (`flip()` doit renvoyer $0$ ou $1$, avec probabilité $0.5$).\n",
    "````"
   ]
  },
  {
   "cell_type": "markdown",
   "metadata": {},
   "source": [
    "````{admonition} Exercice\n",
    " Écrire une fonction `bernouilli(p)` simulant une loi de Bernouilli de paramètre `p`. On pourra adapter la fonction précédente.\n",
    "````"
   ]
  },
  {
   "cell_type": "markdown",
   "metadata": {},
   "source": [
    "````{admonition} Exercice\n",
    " Écrire une fonction `test_bernouilli(n)` telle que `test_bernouilli(p, n)` génère $n$ fois une loi de Bernouilli de paramètre $p$ et renvoie une liste `L` telle que `L[0]` est le nombre de $0$ obtenus et `L[1]` est le nombre de $1$.  \n",
    "Vérifier que vous obtenez autant de $0$ que de $1$ si $p = 0.5$, et deux fois plus de $0$ que de $1$ si $p = \\frac{1}{3}$. \n",
    "````"
   ]
  },
  {
   "cell_type": "markdown",
   "metadata": {},
   "source": [
    "## Loi géométrique\n",
    "\n",
    "On rappelle que $X$ suit une **loi géométrique** de paramètre \\[p\\] si :\n",
    "\n",
    "$$\n",
    "    \\mathbb{P}(X = k) = (1 - p)^{k - 1}p\n",
    "$$\n",
    "\n",
    "**Remarque** : une loi géométrique correspond au nombre de fois qu'il faut générer une loi de Bernouilli de paramètre $p$ avant d'obtenir $1$."
   ]
  },
  {
   "cell_type": "markdown",
   "metadata": {},
   "source": [
    "````{admonition} Exercice\n",
    " En utilisant la remarque précédente, écrire une fonction `geometrique(p)` simulant une loi géométrique de paramètre `p`. On pourra compléter le code suivant :\n",
    "\n",
    "```python\n",
    "def geometrique(p):\n",
    "    n = 0 # nombre de loi de Bernouilli qu'il a fallu générer\n",
    "    while ...: # tant que la loi de Bernouilli donne 0\n",
    "        n += 1 # augmenter n de 1\n",
    "    return ...\n",
    "```\n",
    "````"
   ]
  },
  {
   "cell_type": "markdown",
   "metadata": {},
   "source": [
    "````{admonition} Exercice\n",
    " Tester en appelant la fonction `test_geometrique(p, n)` ci-dessous (on pourra prendre $n = 1000$ et $p = 0.5$, par exemple), qui appelle `n` fois votre fonction `geometrique(p)` et dessine l'histogramme obtenu. Un histogramme obtenu avec la fonction `np.random.geometric` est aussi affichée à droite (les deux dessins doivent se ressembler fortement).\n",
    "````"
   ]
  },
  {
   "cell_type": "code",
   "execution_count": 8,
   "metadata": {},
   "outputs": [],
   "source": [
    "def test_geometrique(p, n):\n",
    "    test_hist(n, geometrique, np.random.geometric, p)"
   ]
  },
  {
   "cell_type": "markdown",
   "metadata": {},
   "source": [
    "## Loi binomiale\n",
    "\n",
    "$X$ suit une loi binomiale de paramètres $n$ et $p$ si, pour $k = 0, 1, ..., n$ :\n",
    "\n",
    "$$\n",
    "    \\mathbb{P}(X = k) = \\binom{n}{k}p^k (1 - p)^{n - k}\n",
    "$$\n",
    "\n",
    "**Définition équivalente** : $X$ est une somme de $n$ variables de Bernouilli de paramètre $p$."
   ]
  },
  {
   "cell_type": "markdown",
   "metadata": {},
   "source": [
    "````{admonition} Exercice\n",
    " En utilisant cette deuxième définition, écrire une fonction `binomial(n, p)` simulant une loi binomiale de paramètre $n$, $p$.\n",
    "````"
   ]
  },
  {
   "cell_type": "markdown",
   "metadata": {},
   "source": [
    "````{admonition} Exercice\n",
    " Tester avec la fonction suivante (prendre par exemple $n = 100$ et $p = 0.5$).\n",
    "````"
   ]
  },
  {
   "cell_type": "code",
   "execution_count": 11,
   "metadata": {},
   "outputs": [],
   "source": [
    "def test_binomial(n, p):\n",
    "    test_hist(1000, binomial, np.random.binomial, n, p)"
   ]
  },
  {
   "cell_type": "markdown",
   "metadata": {},
   "source": [
    "## Simulation d'une loi normale à partir d'une loi Binomiale\n",
    "\n",
    "On rappelle que le **théorème central limite** :  \n",
    "> Soient $X_1$, ..., $X_n$ des variables indépendantes et de même loi, de moyenne $\\mu$ et d'écart-type $\\sigma$.  \n",
    "> Soit $S_n = X_1 + ... + X_n$. Alors $\\frac{S_n - n\\mu}{\\sigma\\sqrt{n}}$ converge vers une loi normale centrée réduite.\n",
    "\n",
    "**Remarque** : une loi normale est aussi appelée loi gaussienne.  \n",
    "\n",
    "Dans la suite, $X_1$, ..., $X_n$ sont des variables de Bernouilli de paramètre $p$ et $S_n$ est une variable binomiale de paramètre $n$, $p$ (obtenue avec la fonction `binomial` ci-dessus)."
   ]
  },
  {
   "cell_type": "markdown",
   "metadata": {},
   "source": [
    "````{admonition} Exercice\n",
    " Calculer $\\mu$ et $\\sigma$ (sur papier, sans utiliser l'ordinateur).\n",
    "````"
   ]
  },
  {
   "cell_type": "markdown",
   "metadata": {},
   "source": [
    "````{admonition} Exercice\n",
    "  Écrire une fonction  `central_limite(n, p)` renvoyant $\\frac{S_n - n\\mu}{\\sigma\\sqrt{n}}$.\n",
    "````"
   ]
  },
  {
   "cell_type": "markdown",
   "metadata": {},
   "source": [
    "````{admonition} Exercice\n",
    " Tester avec la fonction ci-dessous, qui compare le résultat de $\\frac{S_n - n\\mu}{\\sigma\\sqrt{n}}$ avec une loi normale.\n",
    "````"
   ]
  },
  {
   "cell_type": "code",
   "execution_count": null,
   "metadata": {},
   "outputs": [],
   "source": [
    "def test_central"
   ]
  },
  {
   "cell_type": "markdown",
   "metadata": {},
   "source": [
    "## Méthode de la transformée inverse"
   ]
  },
  {
   "cell_type": "markdown",
   "metadata": {},
   "source": [
    "**Définition** : Soit $X$ une variable aléatoire. Sa fonction de répartition $F$ est définie par :\n",
    "\n",
    "$$\n",
    "    F(x) = \\mathbb{P}(X \\leq x)\n",
    "$$\n",
    "\n",
    "**Théorème (admis)** : Soit $X$ une variable aléatoire de fonction de répartition $F$ (supposée ici inversible) et $\\mathcal{U}$ une variable aléatoire uniforme sur $[0, 1]$. Alors $F^{-1}(\\mathcal{U})$ est une variable aléatoire de loi $X$.\n",
    "\n",
    "**Remarque** : Si $F$ n'est pas inversible alors le théorème reste vrai en remplaçant $F^{-1}$ par $Q(u) = \\inf\\{x : F(x) \\geq u\\}$."
   ]
  },
  {
   "cell_type": "markdown",
   "metadata": {},
   "source": [
    "Comme nous savons comment simuler $\\mathcal{U}$ (avec `random.random()`), nous pouvons simuler n'importe quelle loi de probabilité, à condition de savoir inverser sa fonction de répartition."
   ]
  },
  {
   "cell_type": "markdown",
   "metadata": {},
   "source": [
    "## Loi exponentielle\n",
    "\n",
    "Une variable aléatoire $X$ est de **loi exponentielle** de paramètre $a$ si sa fonction de répartition est, pour $x\\in \\mathbb{R}^+$ :\n",
    "\n",
    "$$\n",
    "    F(x) = 1 - e^{-a x}\n",
    "$$\n",
    "\n",
    "> Une loi exponentielle modélise la durée de vie d'un phénomène sans mémoire, ou sans vieillissement, ou sans usure : la probabilité que le phénomène dure au moins s + t heures (ou n'importe quelle autre unité de temps) sachant qu'il a déjà duré t heures sera la même que la probabilité de durer s heures à partir de sa mise en fonction initiale. En d'autres termes, le fait que le phénomène ait duré pendant t heures ne change rien à son espérance de vie à partir du temps t."
   ]
  },
  {
   "cell_type": "markdown",
   "metadata": {},
   "source": [
    "````{admonition} Exercice\n",
    " Calculer $F^{-1}$ (sur papier, sans utiliser l'ordinateur).\n",
    "````"
   ]
  },
  {
   "cell_type": "markdown",
   "metadata": {},
   "source": [
    "````{admonition} Exercice\n",
    " En déduire une fonction `exponentielle(a)` simulant une loi exponentielle de paramètre `a`.\n",
    "````"
   ]
  },
  {
   "cell_type": "markdown",
   "metadata": {},
   "source": [
    "````{admonition} Exercice\n",
    " Tester avec la fonction suivante (prendre par exemple $a = 2$ et $n = 1000$).\n",
    "````"
   ]
  },
  {
   "cell_type": "code",
   "execution_count": 14,
   "metadata": {},
   "outputs": [],
   "source": [
    "def test_exponentielle(n, a):\n",
    "    fig, axes = plt.subplots(nrows=1, ncols=2, figsize=(15, 5))\n",
    "    for i, f in enumerate([exponentielle, np.random.exponential]):\n",
    "        if i == 1:\n",
    "            a /= 1\n",
    "        X = np.array([f(a) for _ in range(n)])\n",
    "        values, base = np.histogram(X, bins=1000)\n",
    "        axes[i].plot(base[:-1], np.cumsum(values)/sum(values))\n",
    "        axes[i].set_xlabel(f\"valeur de X = {f.__name__}(p)\")\n",
    "        axes[i].set_ylabel(\"fréquence d'apparition de X\")\n",
    "        axes[i].set_title(f\"Histogramme de {'np.random.' if i == 1 else ''}{f.__name__}(p)\")\n",
    "    plt.show()"
   ]
  },
  {
   "cell_type": "markdown",
   "metadata": {},
   "source": [
    "## Loi de Poisson\n",
    "\n",
    "Une variable aléatoire discrète $X$ suit une **loi de Poisson** de paramètre $a$ si :\n",
    "\n",
    "$$\n",
    "    \\forall k \\in \\mathbb{N}, \\mathbb{P}(X = k) = \\frac{e^{-a}a^k}{k!}\n",
    "$$\n",
    "\n",
    "> La loi de Poisson est une loi de probabilité discrète qui décrit le comportement du nombre d'événements se produisant dans un intervalle de temps fixé, si ces événements se produisent avec une fréquence moyenne ou espérance connue, et indépendamment du temps écoulé depuis l'événement précédent."
   ]
  },
  {
   "cell_type": "markdown",
   "metadata": {},
   "source": [
    "### Simulation à partir de lois exponentielles\n",
    "\n",
    "On admet le théorème suivant permettant de simuler une loi de Poisson à partir d'une loi exponentielle :\n",
    "\n",
    "**Théorème** : Soit $X_1$, ..., $X_n$, ... des variables exponentielles de paramètre $a$. Soit $S_n = X_1 + ... + X_n$. Soit $Y$ la plus grande valeur de $n$ pour laquelle $S_{n} \\leq 1$.  \n",
    "Alors $Y$ suit une loi de Poisson de paramètre $a$."
   ]
  },
  {
   "cell_type": "markdown",
   "metadata": {},
   "source": [
    "````{admonition} Exercice\n",
    " Écrire une fonction `poisson(a)` simulant une loi de Poisson de paramètre `a`, en utilisant le théorème précédent. On pourra compléter le code suivant :\n",
    "\n",
    "```python\n",
    "def poisson(a):\n",
    "    s = 0 # valeur de Sn\n",
    "    n = 0\n",
    "    while ...:\n",
    "        ...\n",
    "    return n\n",
    "```\n",
    "````"
   ]
  },
  {
   "cell_type": "markdown",
   "metadata": {},
   "source": [
    "````{admonition} Exercice\n",
    " Tester avec la fonction suivante (prendre par exemple $a = 3$ et $n = 1000$).\n",
    "````"
   ]
  },
  {
   "cell_type": "code",
   "execution_count": 17,
   "metadata": {},
   "outputs": [],
   "source": [
    "def test_poisson(a, n):\n",
    "    test_hist(n, poisson, np.random.poisson, a)"
   ]
  },
  {
   "cell_type": "markdown",
   "metadata": {},
   "source": [
    "### Approximation à partir d'une loi binomiale"
   ]
  },
  {
   "cell_type": "markdown",
   "metadata": {},
   "source": [
    "````{admonition} Exercice\n",
    " Montrer (sur papier, sans ordinateur) que si $np = a$ alors :\n",
    "\n",
    "$$\n",
    "    \\lim_{n \\longrightarrow \\infty} \\binom{n}{k} p^k (1 - p)^{n - k} = e^{-a} \\frac{a^k}{k!}\n",
    "$$\n",
    "````"
   ]
  },
  {
   "cell_type": "markdown",
   "metadata": {},
   "source": [
    "D'après l'exercice précédent, une loi binomiale de paramètres $n$, $p$ avec $np = a$ converge vers une loi de Poisson de paramètre $a$."
   ]
  },
  {
   "cell_type": "markdown",
   "metadata": {},
   "source": [
    "````{admonition} Exercice\n",
    " En déduire une fonction `poisson_approx(a)` approximant une loi de Poisson en renvoyant une loi binomiale de paramètre $n$, $p$ avec $np = a$. On prendra $n$ assez grand, par exemple $100$. Tester en comparant avec `poisson(a)`.\n",
    "````"
   ]
  }
 ],
 "metadata": {
  "celltoolbar": "Tags",
  "kernelspec": {
   "display_name": "Python 3 (ipykernel)",
   "language": "python",
   "name": "python3"
  },
  "language_info": {
   "codemirror_mode": {
    "name": "ipython",
    "version": 3
   },
   "file_extension": ".py",
   "mimetype": "text/x-python",
   "name": "python",
   "nbconvert_exporter": "python",
   "pygments_lexer": "ipython3",
   "version": "3.9.2"
  },
  "vscode": {
   "interpreter": {
    "hash": "31f2aee4e71d21fbe5cf8b01ff0e069b9275f58929596ceb00d14d90e3e16cd6"
   }
  }
 },
 "nbformat": 4,
 "nbformat_minor": 2
}
