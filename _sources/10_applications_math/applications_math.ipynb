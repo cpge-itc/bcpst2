{
 "cells": [
  {
   "cell_type": "markdown",
   "metadata": {},
   "source": [
    "# TP 10 : Application aux mathématiques"
   ]
  },
  {
   "cell_type": "markdown",
   "metadata": {},
   "source": [
    "## Nombres complexes\n",
    "\n",
    "Dans cet exercice, un nombre complexe est représenté par un couple $(a, b)$ avec $a$ la partie réelle et $b$ la partie imaginaire.  \n",
    "On rappelle que si `z` est un couple, alors on peut obtenir le $i$ème élément de `z` avec `z[i]`."
   ]
  },
  {
   "cell_type": "markdown",
   "metadata": {},
   "source": [
    "````{admonition} Question\n",
    " Écrire une fonction `conjugue(z)` qui renvoie le complexe conjugué de `z`.\n",
    "````"
   ]
  },
  {
   "cell_type": "code",
   "execution_count": 2,
   "metadata": {},
   "outputs": [
    {
     "data": {
      "text/plain": [
       "(1, -2)"
      ]
     },
     "execution_count": 2,
     "metadata": {},
     "output_type": "execute_result"
    }
   ],
   "source": [
    "conjugue((1, 2))"
   ]
  },
  {
   "cell_type": "markdown",
   "metadata": {},
   "source": [
    "````{admonition} Question\n",
    " Écrire une fonction `module(z)` qui renvoie le module du nombre complexe `z`.\n",
    "````"
   ]
  },
  {
   "cell_type": "code",
   "execution_count": 4,
   "metadata": {},
   "outputs": [
    {
     "data": {
      "text/plain": [
       "5.0"
      ]
     },
     "execution_count": 4,
     "metadata": {},
     "output_type": "execute_result"
    }
   ],
   "source": [
    "module((3,4))"
   ]
  },
  {
   "cell_type": "markdown",
   "metadata": {},
   "source": [
    "````{admonition} Question\n",
    " Écrire une fonction `somme(z1, z2)` qui renvoie la somme des nombres complexes `z1` et `z2`.\n",
    "````"
   ]
  },
  {
   "cell_type": "code",
   "execution_count": 6,
   "metadata": {},
   "outputs": [
    {
     "data": {
      "text/plain": [
       "(4, 6)"
      ]
     },
     "execution_count": 6,
     "metadata": {},
     "output_type": "execute_result"
    }
   ],
   "source": [
    "somme((1, 2), (3, 4))"
   ]
  },
  {
   "cell_type": "markdown",
   "metadata": {},
   "source": [
    "````{admonition} Question\n",
    " Écrire une fonction `produit(z1, z2)` qui renvoie le produit des nombres complexes `z1` et `z2`.\n",
    "````"
   ]
  },
  {
   "cell_type": "code",
   "execution_count": 8,
   "metadata": {},
   "outputs": [
    {
     "data": {
      "text/plain": [
       "(-9, 38)"
      ]
     },
     "execution_count": 8,
     "metadata": {},
     "output_type": "execute_result"
    }
   ],
   "source": [
    "produit((3,4), (5,6))"
   ]
  },
  {
   "cell_type": "markdown",
   "metadata": {},
   "source": [
    "````{admonition} Question\n",
    " Écrire une fonction `puissance(z, n)` qui renvoie le nombre complexe `z` à la puissance `n`.\n",
    "````"
   ]
  },
  {
   "cell_type": "code",
   "execution_count": 10,
   "metadata": {},
   "outputs": [
    {
     "data": {
      "text/plain": [
       "(-117, 44)"
      ]
     },
     "execution_count": 10,
     "metadata": {},
     "output_type": "execute_result"
    }
   ],
   "source": [
    "puissance((3,4), 3)"
   ]
  },
  {
   "cell_type": "markdown",
   "metadata": {},
   "source": [
    "````{admonition} Question\n",
    " Écrire une fonction `fraction(z1, z2)` qui renvoie le quotient des nombres complexes `z1` et `z2`. Il faut donc mettre ce nombre sous la forme d'un nombre complexe $a + ib$.  \n",
    "On pourra calculer à la main $\\frac{a_1 + ib_1}{a_2 + ib_2}$ en multipliant par la quantité conjuguée.\n",
    "````"
   ]
  },
  {
   "cell_type": "code",
   "execution_count": 12,
   "metadata": {},
   "outputs": [
    {
     "data": {
      "text/plain": [
       "(0.639344262295082, 0.03278688524590164)"
      ]
     },
     "execution_count": 12,
     "metadata": {},
     "output_type": "execute_result"
    }
   ],
   "source": [
    "fraction((3,4), (5,6))"
   ]
  },
  {
   "cell_type": "markdown",
   "metadata": {},
   "source": [
    "## Vecteurs\n",
    "\n",
    "Un vecteur est représenté par une liste de nombres. Par exemple, le vecteur $\\begin{pmatrix} 1 \\\\ 2 \\\\ 3 \\end{pmatrix}$ est représenté par la liste `[1, 2, 3]`."
   ]
  },
  {
   "cell_type": "markdown",
   "metadata": {},
   "source": [
    "````{admonition} Question\n",
    " Écrire une fonction `norme(v)` qui renvoie la norme du vecteur `v`. On rappelle que la norme (euclidienne) d'un vecteur $v = \\begin{pmatrix} v_1 \\\\ v_2 \\\\ \\vdots \\\\ v_n \\end{pmatrix}$ est donnée par $\\sqrt{v_1^2 + v_2^2 + \\cdots + v_n^2}$.\n",
    "````"
   ]
  },
  {
   "cell_type": "code",
   "execution_count": 14,
   "metadata": {},
   "outputs": [
    {
     "data": {
      "text/plain": [
       "3.7416573867739413"
      ]
     },
     "execution_count": 14,
     "metadata": {},
     "output_type": "execute_result"
    }
   ],
   "source": [
    "norme([1, 2, 3])"
   ]
  },
  {
   "cell_type": "markdown",
   "metadata": {},
   "source": [
    "````{admonition} Question\n",
    " Écrire une fonction `produit_scalaire(v1, v2)` qui renvoie le produit scalaire des vecteurs `v1` et `v2`.\n",
    "````"
   ]
  },
  {
   "cell_type": "markdown",
   "metadata": {},
   "source": [
    "````{admonition} Question\n",
    " Écrire une fonction `orthogonaux(v1, v2)` qui renvoie `True` si les vecteurs `v1` et `v2` sont orthogonaux et `False` sinon.  \n",
    "Remarque :  \n",
    "- On peut utiliser la fonction `produit_scalaire` pour écrire cette fonction.  \n",
    "- Si `x` est un `float`, il ne faut pas tester si `x == 0` mais plutôt `abs(x) < 1e-10`, car les calculs sur les nombres flottants sont approchés (erreurs d'arrondis).\n",
    "````"
   ]
  },
  {
   "cell_type": "code",
   "execution_count": 17,
   "metadata": {},
   "outputs": [
    {
     "data": {
      "text/plain": [
       "True"
      ]
     },
     "execution_count": 17,
     "metadata": {},
     "output_type": "execute_result"
    }
   ],
   "source": [
    "orthogonaux([1, 0], [0, 1])"
   ]
  },
  {
   "cell_type": "markdown",
   "metadata": {},
   "source": [
    "## Polynômes\n",
    "\n",
    "Dans cet exercice, tous les polynômes sont représentés par une liste de coefficients : un polynôme $P = a_0 + a_1 X + ... + a_n X^n$ est représenté par la liste $[a_0, a_1, \\ldots, a_n]$ où $a_i$ est le coefficient de $x^i$.  \n",
    "Par exemple, $-2 + 7X^2 + X^3$ est représenté par la liste `[-2, 0, 7, 1]`."
   ]
  },
  {
   "cell_type": "markdown",
   "metadata": {},
   "source": [
    "````{admonition} Question\n",
    " Écrire une fonction `degre(P)` qui renvoie le degré d'un polynôme `P` (représenté par une liste).\n",
    "````"
   ]
  },
  {
   "cell_type": "code",
   "execution_count": 19,
   "metadata": {},
   "outputs": [
    {
     "data": {
      "text/plain": [
       "3"
      ]
     },
     "execution_count": 19,
     "metadata": {},
     "output_type": "execute_result"
    }
   ],
   "source": [
    "degre([-2, 0, 7, 1])"
   ]
  },
  {
   "cell_type": "markdown",
   "metadata": {},
   "source": [
    "````{admonition} Question\n",
    " Écrire une fonction `evaluer(P, x)` qui renvoie la valeur $P(x)$ du polynôme `P` en `x`.\n",
    "````"
   ]
  },
  {
   "cell_type": "code",
   "execution_count": 21,
   "metadata": {},
   "outputs": [
    {
     "data": {
      "text/plain": [
       "34"
      ]
     },
     "execution_count": 21,
     "metadata": {},
     "output_type": "execute_result"
    }
   ],
   "source": [
    "evaluer([-2, 0, 7, 1], 2) # P(2)"
   ]
  },
  {
   "cell_type": "markdown",
   "metadata": {},
   "source": [
    "````{admonition} Question\n",
    " Écrire une fonction `derivee(P)` qui renvoie la dérivée du polynôme `P`.\n",
    "````"
   ]
  },
  {
   "cell_type": "code",
   "execution_count": 23,
   "metadata": {},
   "outputs": [
    {
     "data": {
      "text/plain": [
       "[0, 14, 3]"
      ]
     },
     "execution_count": 23,
     "metadata": {},
     "output_type": "execute_result"
    }
   ],
   "source": [
    "derivee([-2, 0, 7, 1]) # P'(x) = 14X + 3X^2"
   ]
  },
  {
   "cell_type": "markdown",
   "metadata": {},
   "source": [
    "````{admonition} Question\n",
    " Écrire une fonction `somme(P, Q)` qui renvoie la somme de deux polynômes `P` et `Q`.\n",
    "````"
   ]
  },
  {
   "cell_type": "code",
   "execution_count": 25,
   "metadata": {},
   "outputs": [
    {
     "data": {
      "text/plain": [
       "[-1, 2, 10, 1]"
      ]
     },
     "execution_count": 25,
     "metadata": {},
     "output_type": "execute_result"
    }
   ],
   "source": [
    "somme([-2, 0, 7, 1], [1, 2, 3])"
   ]
  },
  {
   "cell_type": "markdown",
   "metadata": {},
   "source": [
    "````{admonition} Question\n",
    " Écrire une fonction `produit(P, Q)` qui renvoie le produit `R` de deux polynômes `P` et `Q`. On rappelle que, si $P(X) = \\sum a_k X^k$ et $Q(X) = \\sum b_k X^k$, alors $R(X) = \\sum c_k X^k$ où $c_k = \\sum_{i+j=k} a_i b_j$.\n",
    "On pourra commencer par créer une liste `R` contenant $\\deg(P) + \\deg(Q) + 1$ zéros et, pour chaque coefficient $a_i$ de $P$ et $b_j$ de $Q$, ajouter $a_i b_j$ à $R[i+j]$.\n",
    "````"
   ]
  },
  {
   "cell_type": "code",
   "execution_count": 27,
   "metadata": {},
   "outputs": [
    {
     "data": {
      "text/plain": [
       "[-2, -4, 1, 15, 23, 3]"
      ]
     },
     "execution_count": 27,
     "metadata": {},
     "output_type": "execute_result"
    }
   ],
   "source": [
    "produit([-2, 0, 7, 1], [1, 2, 3])"
   ]
  },
  {
   "cell_type": "markdown",
   "metadata": {},
   "source": [
    "## Intégrale"
   ]
  },
  {
   "cell_type": "markdown",
   "metadata": {},
   "source": [
    "La méthode des rectangles est une façon d'approximer une intégrale $\\int_a^b f(x) \\, dx$ par la somme des aires de $n$ rectangles de largeur $h = \\frac{b-a}{n}$ :  \n",
    "$$\\int_a^b f(x) \\, dx \\approx \\sum_{i=0}^{n-1} \\underbrace{f(a + ih) \\, h}_{\\text{aire d'un rectangle}}$$\n",
    "\n",
    "<center><img src=https://raw.githubusercontent.com/fortierq/tikz/master/math/integral/rectangle/rectangle.png width=40%></center>"
   ]
  },
  {
   "cell_type": "markdown",
   "metadata": {},
   "source": [
    "````{admonition} Question\n",
    " Écrire une fonction `methode_rectangle(f, a, b, n)` qui renvoie l'approximation de l'intégrale $\\int_a^b f(x) \\, dx$ en utilisant la formule ci-dessus. Tester avec une fonction `carre` (à définir) et vérifier à la main.\n",
    "````"
   ]
  },
  {
   "cell_type": "code",
   "execution_count": 29,
   "metadata": {},
   "outputs": [
    {
     "data": {
      "text/plain": [
       "0.32835000000000003"
      ]
     },
     "execution_count": 29,
     "metadata": {},
     "output_type": "execute_result"
    }
   ],
   "source": [
    "methode_rectangle(carré, 0, 1, 100)"
   ]
  },
  {
   "cell_type": "markdown",
   "metadata": {},
   "source": [
    "## Méthode du pivot de Gauss "
   ]
  },
  {
   "cell_type": "markdown",
   "metadata": {},
   "source": [
    "On veut résoudre un système linéaire de $n$ équations à $n$ inconnues de la forme : \n",
    "$$\\text{(S): }\\left\\lbrace\\begin{array}{c}\n",
    "a_{1,1} \\; x_1 +\\cdots +a_{1,n} \\; x_n=b_1 \\\\ \n",
    "\\cdots \\\\ \n",
    "a_{n,1} \\; x_1 +\\cdots +a_{n,n} \\; x_n=b_n\n",
    "\\end{array}\n",
    "\\right.$$\n",
    "\n",
    "On commence par réécrire ces équations sous forme matricielle :\n",
    "$$(S)\\Leftrightarrow AX=B$$ \n",
    "$$\\text{avec} \\quad A=\\begin{pmatrix}\n",
    "a_{1,1} & a_{1,2} & \\cdots & a_{1,n} \\\\ \n",
    "a_{2,1} & a_{2,2} & \\cdots & a_{2,n} \\\\\n",
    "\\cdots & \\cdots & \\cdots & \\cdots \\\\ \n",
    "a_{n,1} & a_{n,2} & \\cdots & a_{n,n}\n",
    "\\end{pmatrix}  \n",
    "\\text{,} \\quad X=\\begin{pmatrix} x_1 \\\\ x_2 \\\\ \\cdots \\\\ x_n \\end{pmatrix} \n",
    "\\quad\\text{et} \\quad B=\\begin{pmatrix} b_1 \\\\ b_2 \\\\ \\cdots \\\\ b_n \\end{pmatrix} \n",
    "$$\n",
    "\n",
    "Il est pratique de considérer la matrice augmentée du système :\n",
    "$$M = (A\\vert B)=\\begin{pmatrix}\n",
    "a_{1,1} & a_{1,2} & \\cdots & a_{1,n} & b_1 \\\\ \n",
    "a_{2,1} & a_{2,2} & \\cdots & a_{2,n} & b_2 \\\\\n",
    "\\cdots & \\cdots & \\cdots & \\cdots & \\cdots \\\\ \n",
    "a_{n,1} & a_{n,2} & \\cdots & a_{n,n} & b_n \n",
    "\\end{pmatrix} $$ \n",
    "\n",
    "Dans la suite, on pourra tester avec la matrice suivante :"
   ]
  },
  {
   "cell_type": "code",
   "execution_count": 30,
   "metadata": {},
   "outputs": [
    {
     "data": {
      "text/plain": [
       "array([[ -2.,   4.,   1., -18.],\n",
       "       [  8.,   2.,  -1.,   6.],\n",
       "       [  2.,  -1.,   2.,  27.]])"
      ]
     },
     "execution_count": 30,
     "metadata": {},
     "output_type": "execute_result"
    }
   ],
   "source": [
    "import numpy as np\n",
    "\n",
    "M = np.array([[-2.0,4.0,1.0,-18.0],[8.0,2.0,-1.0,6.0],[2.0,-1.0,2.0,27.0]])\n",
    "M"
   ]
  },
  {
   "cell_type": "markdown",
   "metadata": {},
   "source": [
    "La méthode du pivot de Gauss utiliser des opérations élémentaires sur matrice : dilatation, échange, transvection."
   ]
  },
  {
   "cell_type": "markdown",
   "metadata": {},
   "source": [
    "````{admonition} Question\n",
    " Écrire une fonction `dilatation` telle que `dilatation(M, i, a)` multiplie la ligne `i` de la matrice `M` par `a`, c'est à dire l'opération $L_i \\leftarrow a L_i$. \n",
    "````"
   ]
  },
  {
   "cell_type": "code",
   "execution_count": 32,
   "metadata": {},
   "outputs": [
    {
     "data": {
      "text/plain": [
       "array([[ -4.,   8.,   2., -36.],\n",
       "       [  8.,   2.,  -1.,   6.],\n",
       "       [  2.,  -1.,   2.,  27.]])"
      ]
     },
     "execution_count": 32,
     "metadata": {},
     "output_type": "execute_result"
    }
   ],
   "source": [
    "dilatation(M, 0, 2)\n",
    "M"
   ]
  },
  {
   "cell_type": "markdown",
   "metadata": {},
   "source": [
    "````{admonition} Question\n",
    " Écrire une fonction `echange(M, i, j)` qui échange les lignes `i` et `j` de la matrice `M`, c'est à dire l'opération $L_i \\leftrightarrow L_j$.\n",
    "````"
   ]
  },
  {
   "cell_type": "code",
   "execution_count": 34,
   "metadata": {},
   "outputs": [
    {
     "data": {
      "text/plain": [
       "array([[  8.,   2.,  -1.,   6.],\n",
       "       [ -4.,   8.,   2., -36.],\n",
       "       [  2.,  -1.,   2.,  27.]])"
      ]
     },
     "execution_count": 34,
     "metadata": {},
     "output_type": "execute_result"
    }
   ],
   "source": [
    "echange(M, 0, 1)\n",
    "M"
   ]
  },
  {
   "cell_type": "markdown",
   "metadata": {},
   "source": [
    "````{admonition} Question\n",
    " Écrire une fonction `transvection` telle que `transvection(M, i, j, a)` ajoute à la ligne `i` de la matrice `M` la ligne `j` multipliée par `a`, c'est à dire l'opération $L_i \\leftarrow L_i + a L_j$.\n",
    "````"
   ]
  },
  {
   "cell_type": "code",
   "execution_count": 36,
   "metadata": {},
   "outputs": [
    {
     "data": {
      "text/plain": [
       "array([[  0.,  18.,   3., -66.],\n",
       "       [ -4.,   8.,   2., -36.],\n",
       "       [  2.,  -1.,   2.,  27.]])"
      ]
     },
     "execution_count": 36,
     "metadata": {},
     "output_type": "execute_result"
    }
   ],
   "source": [
    "transvection(M, 0, 1, 2)\n",
    "M"
   ]
  },
  {
   "cell_type": "markdown",
   "metadata": {},
   "source": [
    "````{admonition} Exercice\n",
    " Écrire une fonction `pivot` telle que `pivot(M, j)` renvoie un pivot sur la `j`ème colonne, c'est à dire un indice $i \\geq j$ tel que l'élément $m_{i, j}$ de `M` soit non nul. \n",
    "````"
   ]
  },
  {
   "cell_type": "code",
   "execution_count": 38,
   "metadata": {},
   "outputs": [
    {
     "data": {
      "text/plain": [
       "1"
      ]
     },
     "execution_count": 38,
     "metadata": {},
     "output_type": "execute_result"
    }
   ],
   "source": [
    "pivot(M, 1)"
   ]
  },
  {
   "cell_type": "markdown",
   "metadata": {},
   "source": [
    "````{admonition} Question\n",
    " En déduire une fonction `descente(M)` réalisant la descente du pivot de Gauss sur une matrice augmentée `M`, de façon à obtenir une matrice échelonnée (avec des 0 en dessous de la diagonale).  \n",
    "Il faut donc, pour chaque colonne $j$ de `M` (sauf la dernière, qui correspond au second membre de la matrice augmentée):\n",
    "- Soit $k$ le numéro de ligne renvoyé par `pivot(M, j)`. Échanger la $j$ème ligne avec la $k$ème ligne de façon à ce que le coefficient $m_{j, j}$ de `M` soit non nul.\n",
    "- Pour toute ligne $i > j$, effectuer une transvection de façon à mettre un 0 sur la ligne $i$, colonne $j$ de `M`.\n",
    "````"
   ]
  },
  {
   "cell_type": "markdown",
   "metadata": {},
   "source": [
    "````{admonition} Question\n",
    " De façon similaire, écrire une fonction `remontee(M)` parcourant les colonnes de `M` de droite à gauche (sauf la dernière) en mettant des 0 au dessus de la diagonale. On supposera dans cette fonction que tous les coefficients diagonaux sont non nuls: il n'y a donc pas besoin d'appeller `pivot`.\n",
    "````"
   ]
  },
  {
   "cell_type": "markdown",
   "metadata": {},
   "source": [
    "````{admonition} Question\n",
    " Écrire une fonction `gauss(M)` prenant en argument une matrice augmentée `M` d'un système $AX = B$ (c'est à dire `M` = ($A \\vert B$)) et appliquant la méthode du pivot de Gauss sur `M`.\n",
    "````"
   ]
  },
  {
   "cell_type": "code",
   "execution_count": 42,
   "metadata": {},
   "outputs": [
    {
     "data": {
      "text/plain": [
       "array([[ 1., -0., -0.,  3.],\n",
       "       [ 0.,  1.,  0., -5.],\n",
       "       [ 0.,  0.,  1.,  8.]])"
      ]
     },
     "execution_count": 42,
     "metadata": {},
     "output_type": "execute_result"
    }
   ],
   "source": [
    "M1 = np.array([[-2.0,4.0,1.0,-18.0],[8.0,2.0,-1.0,6.0],[2.0,-1.0,2.0,27.0]])\n",
    "gauss(M1)\n",
    "M1 # la solution est sur la dernière colonne"
   ]
  }
 ],
 "metadata": {
  "kernelspec": {
   "display_name": "Python 3.9.2 64-bit",
   "language": "python",
   "name": "python3"
  },
  "language_info": {
   "codemirror_mode": {
    "name": "ipython",
    "version": 3
   },
   "file_extension": ".py",
   "mimetype": "text/x-python",
   "name": "python",
   "nbconvert_exporter": "python",
   "pygments_lexer": "ipython3",
   "version": "3.9.2"
  },
  "vscode": {
   "interpreter": {
    "hash": "31f2aee4e71d21fbe5cf8b01ff0e069b9275f58929596ceb00d14d90e3e16cd6"
   }
  }
 },
 "nbformat": 4,
 "nbformat_minor": 2
}
