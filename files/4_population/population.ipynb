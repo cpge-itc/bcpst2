{
 "cells": [
  {
   "cell_type": "markdown",
   "metadata": {},
   "source": [
    "# Matrice de population"
   ]
  },
  {
   "cell_type": "markdown",
   "metadata": {},
   "source": [
    "## Rappels sur les matrices\n",
    "\n",
    "### Définition\n",
    "\n",
    "Une matrice est représentée en Python par une liste de listes (ou : un tableau de tableaux), chaque sous-liste correspondant à une ligne de la matrice.\n",
    "\n",
    "Par exemple, la matrice\n",
    "\n",
    "$$\n",
    "M = \\begin{pmatrix}\n",
    "    1 & 0 & 3\\\\\n",
    "    2 & 2 & 1\n",
    "\\end{pmatrix}\n",
    "$$\n",
    "\n",
    "est représentée par :"
   ]
  },
  {
   "cell_type": "code",
   "execution_count": 1,
   "metadata": {},
   "outputs": [],
   "source": [
    "M = [[1, 0, 3], [2, 2, 1]]"
   ]
  },
  {
   "cell_type": "markdown",
   "metadata": {},
   "source": [
    "Ainsi, la première sous-liste `[1, 0, 3]` correspond à la première ligne de la matrice et `[2, 2, 1]` correspond à la deuxième ligne."
   ]
  },
  {
   "cell_type": "markdown",
   "metadata": {},
   "source": [
    "### Accéder et modifier un élément\n",
    "\n",
    "On accède à l'élément sur la ligne `i`, colonne `j` de la matrice avec `M[i][j]`. Par exemple :"
   ]
  },
  {
   "cell_type": "code",
   "execution_count": 2,
   "metadata": {},
   "outputs": [
    {
     "data": {
      "text/plain": [
       "3"
      ]
     },
     "execution_count": 2,
     "metadata": {},
     "output_type": "execute_result"
    }
   ],
   "source": [
    "M[0][2] # élément ligne 0, colonne 2"
   ]
  },
  {
   "cell_type": "markdown",
   "metadata": {},
   "source": [
    "**Remarque** : Les lignes et colonnes commencent à $0$ (au lieu de $1$ en mathématiques).\n",
    "\n",
    "On peut modifier l'élément ligne `i`, colonne `j` avec `M[i][j] = ...`. Par exemple :"
   ]
  },
  {
   "cell_type": "code",
   "execution_count": 3,
   "metadata": {},
   "outputs": [
    {
     "data": {
      "text/plain": [
       "[[1, 0, 3], [42, 2, 1]]"
      ]
     },
     "execution_count": 3,
     "metadata": {},
     "output_type": "execute_result"
    }
   ],
   "source": [
    "M[1][0] = 42\n",
    "M # M a bien été modifiée"
   ]
  },
  {
   "cell_type": "markdown",
   "metadata": {},
   "source": [
    "### Taille d'une matrice\n",
    "\n",
    "Le nombre de lignes de la matrice est le nombre de sous-listes, qui peut être obtenue avec `len(M)` :"
   ]
  },
  {
   "cell_type": "code",
   "execution_count": 4,
   "metadata": {},
   "outputs": [
    {
     "data": {
      "text/plain": [
       "2"
      ]
     },
     "execution_count": 4,
     "metadata": {},
     "output_type": "execute_result"
    }
   ],
   "source": [
    "len(M) # nombre de lignes de M"
   ]
  },
  {
   "cell_type": "markdown",
   "metadata": {},
   "source": [
    "Le nombre de colonnes est égal au nombre d'éléments sur une ligne, c'est-à-dire la taille d'une sous-liste. On eut l'obtenir avec `len(M[0])` (nombre d'éléments sur la première ligne de `M`) :"
   ]
  },
  {
   "cell_type": "code",
   "execution_count": 5,
   "metadata": {},
   "outputs": [
    {
     "data": {
      "text/plain": [
       "3"
      ]
     },
     "execution_count": 5,
     "metadata": {},
     "output_type": "execute_result"
    }
   ],
   "source": [
    "len(M[0]) # la 1ère ligne contient 3 éléments, donc il y a 3 colonnes"
   ]
  },
  {
   "cell_type": "markdown",
   "metadata": {},
   "source": [
    "### Création d'une matrice de taille $n \\times p$\n",
    "\n",
    "Pour créer une matrice de taille $n \\times p$ remplie de $0$, on a deux possibilités :  \n",
    "- Utiliser `np.zeros((n, p))` du module `numpy` (`import numpy as np`). Ceci donne un tableau (`np.darray`), qui ressemble beaucoup aux listes avec quelques petites différences (pas de `append`, opérations terme à terme...).  \n",
    "- Définir une liste contenant $n$ listes de $p$ zéros ;"
   ]
  },
  {
   "cell_type": "code",
   "execution_count": 6,
   "metadata": {},
   "outputs": [
    {
     "data": {
      "text/plain": [
       "[[0, 0, 0, 0, 0], [0, 0, 0, 0, 0], [0, 0, 0, 0, 0]]"
      ]
     },
     "execution_count": 6,
     "metadata": {},
     "output_type": "execute_result"
    }
   ],
   "source": [
    "M = []\n",
    "for i in range(3):\n",
    "    L = [] # la ième ligne\n",
    "    for j in range(5):\n",
    "        L.append(0)\n",
    "    M.append(L)\n",
    "M # matrice 3x5 remplie de 0"
   ]
  },
  {
   "cell_type": "markdown",
   "metadata": {},
   "source": [
    "### Parcourir une matrice\n",
    "\n",
    "Pour parcourir une matrice, on utilise deux indices (un pour la ligne, un pour la colonne), dans deux boucles `for`. Par exemple, mettons des $2$ partout dans $M$ :"
   ]
  },
  {
   "cell_type": "code",
   "execution_count": 7,
   "metadata": {},
   "outputs": [
    {
     "data": {
      "text/plain": [
       "[[2, 2, 2, 2, 2], [2, 2, 2, 2, 2], [2, 2, 2, 2, 2]]"
      ]
     },
     "execution_count": 7,
     "metadata": {},
     "output_type": "execute_result"
    }
   ],
   "source": [
    "for i in range(3): # i est le numéro de ligne\n",
    "    for j in range(5): # j est le numéro de colonne\n",
    "        M[i][j] = 2\n",
    "M"
   ]
  },
  {
   "cell_type": "markdown",
   "metadata": {},
   "source": [
    "### Exercices sur les matrices\n",
    "\n",
    "Pensez à tester vos fonctions avec des petites matrices."
   ]
  },
  {
   "cell_type": "markdown",
   "metadata": {},
   "source": [
    "**Exercice** : Écrire une fonction `somme(M)` renvoyant la somme des éléments d'une matrice `M`."
   ]
  },
  {
   "cell_type": "markdown",
   "metadata": {},
   "source": [
    "**Exercice** : Écrire une fonction `nulle` déterminat si une matrice est nulle (ne contient que des $0$). `nulle(M)` doit renvoyer `True` si `M` est nulle, `False` sinon."
   ]
  },
  {
   "cell_type": "markdown",
   "metadata": {},
   "source": [
    "**Exercice** : Écrire une fonction `identite(n)` renvoyant la matrice identité de taille $n$."
   ]
  },
  {
   "cell_type": "markdown",
   "metadata": {},
   "source": [
    "**Exercice** : Écrire une fonction `transpose(M)` renvoyant la transposée d'une matrice `M`."
   ]
  },
  {
   "cell_type": "markdown",
   "metadata": {},
   "source": [
    "**Exercice** : Écrire une fonction `produit(A, B)` renvoyant le produit matriciel de `A` et `B`. On rappelle que $AB = (c_{i, j})$ où $c_{i, j} = \\sum_{k = 0}^n a_{i, k} b_{k, j}$, où $n$ est le nombre de colonnes de $A$ (qui doit être égal au nombre de lignes de $B$). On supposera $A$ et $B$ compatibles.  \n",
    "On pourra compléter le code suivant :"
   ]
  },
  {
   "cell_type": "code",
   "execution_count": 9,
   "metadata": {
    "tags": []
   },
   "outputs": [],
   "source": [
    "def produit(A, B):\n",
    "    n = ... # nombre de lignes de A\n",
    "    p = ... # nombre de colonnes de A\n",
    "    q = ... # nombre de colonnes de B\n",
    "    # définir une matrice C de taille n*q remplie de 0\n",
    "    for i in range(n):\n",
    "        for j in range(q):\n",
    "            # ici on va calculer C[i][j] (c'est-à-dire une somme)\n",
    "            for k in range(p):\n",
    "                C[i][j] += ...\n",
    "    return C"
   ]
  },
  {
   "cell_type": "markdown",
   "metadata": {},
   "source": [
    "## Matrice de population"
   ]
  },
  {
   "cell_type": "markdown",
   "metadata": {},
   "source": [
    "On souhaite étudier l'évolution d'une population de rongeurs à des stades d'âges différents. On ne s'intéresse qu'à la population d'individus femelles. On suppose qu'aucun rongeur vit au plus $3$ ans et on note $a_n$, $b_n$, $c_n$ le nombre de femelles âgées de $0$, $1$, $2$ ans à l'année $n$ (initialement $n = 0$).  \n",
    "Chaque femelle donne en moyenne naissance à $6$ femelles lors de sa 2ème année et $10$ femelles lors de sa $3$ème année.  \n",
    "Cependant, seul un rongeur sur deux survit au dela de sa première année et seul 40% de ceux qui survivent la deuxième\n",
    "année survivront jusqu'à la troisième année."
   ]
  },
  {
   "cell_type": "markdown",
   "metadata": {},
   "source": [
    "**Exercice** : (Sans programmation) Exprimer $a_{n+1}$, $b_{n+1}$, $c_{n+1}$ en fonction de $a_{n}$, $b_{n}$, $c_{n}$."
   ]
  },
  {
   "cell_type": "markdown",
   "metadata": {},
   "source": [
    "\\begin{align*}\n",
    "    a_{n + 1}& = 6b_{n} + 10c_n\\\\\n",
    "    b_{n + 1}& = 0.5a_n\\\\\n",
    "    c_{n + 1}& = 0.4b_n\n",
    "\\end{align*}"
   ]
  },
  {
   "cell_type": "markdown",
   "metadata": {},
   "source": [
    "On définit maintenant le vecteur $X_n = \\begin{pmatrix}\n",
    "a_n\\\\\n",
    "b_n\\\\\n",
    "c_n\n",
    "\\end{pmatrix}$, que l'on représentera sous forme de liste en Python."
   ]
  },
  {
   "cell_type": "markdown",
   "metadata": {},
   "source": [
    "**Exercice** : On prend initalement $a_0 = 10$, $b_0 = 0$, $c_0 = 0$. Définir $X_0$ en Python."
   ]
  },
  {
   "cell_type": "markdown",
   "metadata": {},
   "source": [
    "**Exercice** : Définir (sur papier puis en Python) une matrice $A$ telle que $X_{n + 1} = AX_n$."
   ]
  },
  {
   "cell_type": "markdown",
   "metadata": {},
   "source": [
    "$$A = \\begin{pmatrix}\n",
    "0 & 6 & 10\\\\\n",
    "0.5 & 0 & 0\\\\\n",
    "0 & 0.4 & 0\n",
    "\\end{pmatrix}"
   ]
  },
  {
   "cell_type": "markdown",
   "metadata": {},
   "source": [
    "$A$ est appelée une **matrice de Leslie**.  \n",
    "On remarque que, par récurrence évidente : $X_n = A^n X_0$."
   ]
  },
  {
   "cell_type": "markdown",
   "metadata": {},
   "source": [
    "**Exercice** : Écrire une fonction `puissance(A, n)` renvoyant $A^n$."
   ]
  },
  {
   "cell_type": "markdown",
   "metadata": {},
   "source": [
    "**Exercice** : Écrire une fonction `produit_vec(A, X)` renvoyant le produit de la matrice `A` par le vecteur `X`."
   ]
  },
  {
   "cell_type": "markdown",
   "metadata": {},
   "source": [
    "**Exercice** : Écrire une fonction `population(n)` renvoyant $X_n$."
   ]
  },
  {
   "cell_type": "markdown",
   "metadata": {},
   "source": [
    "**Exercice** : Que vaut $X_1$, $X_2$, $X_3$, $X_4$ ?"
   ]
  },
  {
   "cell_type": "markdown",
   "metadata": {},
   "source": [
    "**Exercice** : Utiliser la fonction suivante pour afficher les $n$ premières valeurs de $a_k$, $b_k$, $c_k$. On appelera par exemple `plot_population(10)`."
   ]
  },
  {
   "cell_type": "code",
   "execution_count": 17,
   "metadata": {
    "tags": []
   },
   "outputs": [],
   "source": [
    "import matplotlib.pyplot as plt\n",
    "\n",
    "def plot_population(n):\n",
    "    x = list(range(n))\n",
    "    y = [population(i) for i in x]\n",
    "    a, b, c = zip(*y)\n",
    "    plt.plot(x, a, label=\"$a_n$\")\n",
    "    plt.plot(x, b, label=\"$b_n$\")\n",
    "    plt.plot(x, c, label=\"$c_n$\")\n",
    "    plt.legend()"
   ]
  }
 ],
 "metadata": {
  "kernelspec": {
   "display_name": "Python 3.10.4 64-bit",
   "language": "python",
   "name": "python3"
  },
  "language_info": {
   "codemirror_mode": {
    "name": "ipython",
    "version": 3
   },
   "file_extension": ".py",
   "mimetype": "text/x-python",
   "name": "python",
   "nbconvert_exporter": "python",
   "pygments_lexer": "ipython3",
   "version": "3.10.4"
  },
  "vscode": {
   "interpreter": {
    "hash": "916dbcbb3f70747c44a77c7bcd40155683ae19c65e1c03b4aa3499c5328201f1"
   }
  }
 },
 "nbformat": 4,
 "nbformat_minor": 2
}
