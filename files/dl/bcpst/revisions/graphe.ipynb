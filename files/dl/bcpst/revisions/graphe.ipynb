{
 "cells": [
  {
   "attachments": {},
   "cell_type": "markdown",
   "metadata": {},
   "source": [
    "# TP 18 : Révisions graphes"
   ]
  },
  {
   "attachments": {},
   "cell_type": "markdown",
   "metadata": {},
   "source": [
    "## Graphes\n",
    "\n",
    "Un **graphe** est un ensemble de sommets (ronds) reliés par des arêtes (traits).  \n",
    "Deux sommets sont **voisins** s'ils sont reliés par une arête.\n",
    "\n",
    "Un graphe peut être représenté par une matrice d'adjacence $A = (a_{i, j})$ de taille $n \\times n$ où $n$ est le nombre de sommets, où $a_{i, j} = 1$ si les sommets $i$ et $j$ sont voisins et $a_{i, j} = 0$ sinon.\n",
    "\n",
    "<center><img src=https://raw.githubusercontent.com/fortierq/tikz-pdf/main/graph/examples/unweighted/undirected/g2/g2.png width=300></center>"
   ]
  },
  {
   "attachments": {},
   "cell_type": "markdown",
   "metadata": {},
   "source": [
    "**Question** : Définir le graphe ci-dessus dans une matrice $A$."
   ]
  },
  {
   "attachments": {},
   "cell_type": "markdown",
   "metadata": {},
   "source": [
    "**Question** : Écrire une fonction `voisins(A, v)` renvoyant la liste des voisins du sommet $v$ dans le graphe $A$."
   ]
  },
  {
   "cell_type": "code",
   "execution_count": 7,
   "metadata": {},
   "outputs": [
    {
     "data": {
      "text/plain": [
       "[0, 2, 4, 5]"
      ]
     },
     "execution_count": 7,
     "metadata": {},
     "output_type": "execute_result"
    }
   ],
   "source": [
    "voisins(A, 1)"
   ]
  },
  {
   "attachments": {},
   "cell_type": "markdown",
   "metadata": {},
   "source": [
    "**Question** : Le **degré** d'un sommet est son nombre de voisins. Écrire une fonction `degre(A, v)` renvoyant le degré de `v`."
   ]
  },
  {
   "cell_type": "code",
   "execution_count": 9,
   "metadata": {},
   "outputs": [
    {
     "data": {
      "text/plain": [
       "4"
      ]
     },
     "execution_count": 9,
     "metadata": {},
     "output_type": "execute_result"
    }
   ],
   "source": [
    "degre(A, 1)"
   ]
  },
  {
   "attachments": {},
   "cell_type": "markdown",
   "metadata": {},
   "source": [
    "**Question** : Écrire une fonction `nombre_arete(A)` renvoyant le nombre d'arêtes du graphe $A$."
   ]
  },
  {
   "cell_type": "code",
   "execution_count": 14,
   "metadata": {},
   "outputs": [
    {
     "data": {
      "text/plain": [
       "8"
      ]
     },
     "execution_count": 14,
     "metadata": {},
     "output_type": "execute_result"
    }
   ],
   "source": [
    "nombre_arete(A)"
   ]
  },
  {
   "attachments": {},
   "cell_type": "markdown",
   "metadata": {},
   "source": [
    "Un graphe est **complet** s'il contient toutes les arêtes possibles.\n",
    "\n",
    "<center><img src=https://upload.wikimedia.org/wikipedia/commons/thumb/c/cf/Complete_graph_K5.svg/langfr-560px-Complete_graph_K5.svg.png width=300><br>\n",
    "Exemple de graphe complet</center>"
   ]
  },
  {
   "attachments": {},
   "cell_type": "markdown",
   "metadata": {},
   "source": [
    "**Question** : Écrire une fonction `complet(n)` renvoyant la matrice d'adjacence du graphe complet à $n$ sommets."
   ]
  },
  {
   "cell_type": "code",
   "execution_count": 17,
   "metadata": {},
   "outputs": [
    {
     "data": {
      "text/plain": [
       "[[0, 1, 1, 1, 1],\n",
       " [1, 0, 1, 1, 1],\n",
       " [1, 1, 0, 1, 1],\n",
       " [1, 1, 1, 0, 1],\n",
       " [1, 1, 1, 1, 0]]"
      ]
     },
     "execution_count": 17,
     "metadata": {},
     "output_type": "execute_result"
    }
   ],
   "source": [
    "complet(5)"
   ]
  },
  {
   "attachments": {},
   "cell_type": "markdown",
   "metadata": {},
   "source": [
    "**Question** : Écrire une fonction `est_complet(A)` renvoyant `True` si le graphe $A$ est complet et `False` sinon.  \n"
   ]
  },
  {
   "cell_type": "code",
   "execution_count": 21,
   "metadata": {},
   "outputs": [
    {
     "name": "stdout",
     "output_type": "stream",
     "text": [
      "False\n",
      "True\n"
     ]
    }
   ],
   "source": [
    "print(est_complet(A))\n",
    "print(est_complet(complet(5)))"
   ]
  }
 ],
 "metadata": {
  "kernelspec": {
   "display_name": "Python 3",
   "language": "python",
   "name": "python3"
  },
  "language_info": {
   "codemirror_mode": {
    "name": "ipython",
    "version": 3
   },
   "file_extension": ".py",
   "mimetype": "text/x-python",
   "name": "python",
   "nbconvert_exporter": "python",
   "pygments_lexer": "ipython3",
   "version": "3.11.1"
  }
 },
 "nbformat": 4,
 "nbformat_minor": 2
}
