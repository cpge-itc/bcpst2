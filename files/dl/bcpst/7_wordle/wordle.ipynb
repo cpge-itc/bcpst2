{
 "cells": [
  {
   "cell_type": "markdown",
   "metadata": {},
   "source": [
    "# TP 7 : Wordle\n",
    "\n",
    "> Wordle est un jeu de lettres en ligne gratuit. Ce jeu est une adaptation directe du jeu télévisé américain Lingo (Motus en France) qui propose de faire deviner un mot par plusieurs tentatives, en indiquant pour chacune d'entre-elles la position des lettres bien placées et mal placées. L'objectif est de trouver le mot en un nombre minimum de coups. \n",
    "\n",
    "<center><img src=https://upload.wikimedia.org/wikipedia/commons/thumb/e/ec/Wordle_196_example.svg/langfr-1920px-Wordle_196_example.svg.png width=300></center>"
   ]
  },
  {
   "cell_type": "markdown",
   "metadata": {},
   "source": [
    "## Rappels sur les chaînes de caractères\n",
    "\n",
    "Une chaîne de caractères est une suite de caractères. En Python, une chaîne de caractères est délimitée par des guillemets simples ou doubles. Les opérations sur les chaînes de caractères ressemblent beaucoup à celles sur les listes :"
   ]
  },
  {
   "cell_type": "code",
   "execution_count": 1,
   "metadata": {
    "vscode": {
     "languageId": "ocaml"
    }
   },
   "outputs": [
    {
     "data": {
      "text/plain": [
       "'abc'"
      ]
     },
     "execution_count": 1,
     "metadata": {},
     "output_type": "execute_result"
    }
   ],
   "source": [
    "s = \"abc\" # exemple de chaîne de caractères\n",
    "s # affiche la chaîne de caractères"
   ]
  },
  {
   "cell_type": "code",
   "execution_count": 2,
   "metadata": {
    "vscode": {
     "languageId": "ocaml"
    }
   },
   "outputs": [
    {
     "data": {
      "text/plain": [
       "3"
      ]
     },
     "execution_count": 2,
     "metadata": {},
     "output_type": "execute_result"
    }
   ],
   "source": [
    "len(s) # affiche la longueur de la chaîne de caractères"
   ]
  },
  {
   "cell_type": "code",
   "execution_count": 3,
   "metadata": {
    "vscode": {
     "languageId": "ocaml"
    }
   },
   "outputs": [
    {
     "data": {
      "text/plain": [
       "'a'"
      ]
     },
     "execution_count": 3,
     "metadata": {},
     "output_type": "execute_result"
    }
   ],
   "source": [
    "s[0] # affiche le premier caractère de la chaîne"
   ]
  },
  {
   "cell_type": "code",
   "execution_count": 4,
   "metadata": {
    "vscode": {
     "languageId": "ocaml"
    }
   },
   "outputs": [
    {
     "name": "stdout",
     "output_type": "stream",
     "text": [
      "a\n",
      "b\n",
      "c\n",
      "a\n",
      "b\n",
      "c\n"
     ]
    }
   ],
   "source": [
    "for c in s: # parcourt chaque caractère de la chaîne\n",
    "    print(c) \n",
    "\n",
    "for i in range(len(s)): # autre façon de parcourir chaque caractère de la chaîne\n",
    "    print(s[i])"
   ]
  },
  {
   "cell_type": "code",
   "execution_count": 5,
   "metadata": {
    "vscode": {
     "languageId": "ocaml"
    }
   },
   "outputs": [
    {
     "data": {
      "text/plain": [
       "'bonjour'"
      ]
     },
     "execution_count": 5,
     "metadata": {},
     "output_type": "execute_result"
    }
   ],
   "source": [
    "\"bon\" + \"jour\" # concaténation de chaînes de caractères"
   ]
  },
  {
   "cell_type": "markdown",
   "metadata": {},
   "source": [
    "Il n'y a pas de `append` sur les chaînes de caractères, mais on peut utiliser `+=` pour ajouter un caractère à la fin :"
   ]
  },
  {
   "cell_type": "code",
   "execution_count": 6,
   "metadata": {
    "vscode": {
     "languageId": "ocaml"
    }
   },
   "outputs": [
    {
     "data": {
      "text/plain": [
       "'abcdef'"
      ]
     },
     "execution_count": 6,
     "metadata": {},
     "output_type": "execute_result"
    }
   ],
   "source": [
    "s += \"def\" # ajoute \"def\" à la fin de la chaîne s\n",
    "s"
   ]
  },
  {
   "cell_type": "markdown",
   "metadata": {},
   "source": [
    "**Question** : Écrire une fonction `appartient(c, s)` qui renvoie `True` si le caractère `c` appartient à la chaîne de caractères `s` et `False` sinon."
   ]
  },
  {
   "cell_type": "code",
   "execution_count": 8,
   "metadata": {
    "vscode": {
     "languageId": "ocaml"
    }
   },
   "outputs": [
    {
     "data": {
      "text/plain": [
       "False"
      ]
     },
     "execution_count": 8,
     "metadata": {},
     "output_type": "execute_result"
    }
   ],
   "source": [
    "appartient(\"a\", \"abc\") # True\n",
    "appartient(\"d\", \"abc\") # False"
   ]
  },
  {
   "cell_type": "markdown",
   "metadata": {},
   "source": [
    "## Téléchargement des mots"
   ]
  },
  {
   "cell_type": "markdown",
   "metadata": {},
   "source": [
    "La fonction suivante télécharge et renvoie une liste des mots du dictionnaire (sans accent) :"
   ]
  },
  {
   "cell_type": "code",
   "execution_count": 1,
   "metadata": {
    "vscode": {
     "languageId": "ocaml"
    }
   },
   "outputs": [
    {
     "ename": "error",
     "evalue": "compile_error",
     "output_type": "error",
     "traceback": [
      "File \"[1]\", line 1, characters 22-23:\n1 | def telecharger_mots():\n                          ^\nError: Syntax error\n"
     ]
    }
   ],
   "source": [
    "def telecharger_mots():\n",
    "    import urllib.request\n",
    "    f = urllib.request.urlopen(\"https://raw.githubusercontent.com/cpge-itc/bcpst2/main/files/7_wordle/mots.txt\")\n",
    "    return list(map(lambda x: x.decode('utf-8').replace('\\n', ''), f.readlines()))"
   ]
  },
  {
   "cell_type": "markdown",
   "metadata": {},
   "source": [
    "**Question** : Récupérer la liste des mots dans une variable `mots`. Combien y a t-il de mots ?"
   ]
  },
  {
   "cell_type": "markdown",
   "metadata": {},
   "source": [
    "**Question** : Dans le jeu de Wordle, les mots doivent être de taille $5$. Définir une liste `mots5` contenant les mots de taille $5$. Combien y a t-il de mots de taille $5$ ?"
   ]
  },
  {
   "cell_type": "markdown",
   "metadata": {},
   "source": [
    "## Simulation\n",
    "\n",
    "Dans un premier temps, l'objectif est de deviner un mot que l'ordinateur aura choisi au hasard."
   ]
  },
  {
   "cell_type": "markdown",
   "metadata": {},
   "source": [
    "**Question** : Écrire une fonction `mot_aleatoire` qui renvoie un mot choisi au hasard dans la liste `mots5`. On pourra utiliser `random.randrange(n)` pour générer un entier aléatoire entre $0$ et $n-1$."
   ]
  },
  {
   "cell_type": "code",
   "execution_count": 16,
   "metadata": {
    "vscode": {
     "languageId": "ocaml"
    }
   },
   "outputs": [
    {
     "data": {
      "text/plain": [
       "'bases'"
      ]
     },
     "execution_count": 16,
     "metadata": {},
     "output_type": "execute_result"
    }
   ],
   "source": [
    "mot_aleatoire(mots5)"
   ]
  },
  {
   "cell_type": "markdown",
   "metadata": {},
   "source": [
    "**Question** : Écrire une fonction `valide(mot)` qui renvoie `True` si le mot `mot` est dans la liste `mots5`. Sinon, elle renvoie `False`. "
   ]
  },
  {
   "cell_type": "code",
   "execution_count": 18,
   "metadata": {
    "vscode": {
     "languageId": "ocaml"
    }
   },
   "outputs": [
    {
     "name": "stdout",
     "output_type": "stream",
     "text": [
      "False\n",
      "True\n"
     ]
    }
   ],
   "source": [
    "print(valide(\"bonjour\"))\n",
    "print(valide(\"arbre\"))"
   ]
  },
  {
   "cell_type": "markdown",
   "metadata": {},
   "source": [
    "**Question** : Écrire une fonction `reponse(mot, proposition)` qui renvoie une chaîne de caractères correspondant aux lettres correctes de la proposition par rapport au mot à deviner. On mettra `_` si la lettre de `proposition` n'est pas dans `mot` et `*` si elle y est mais mal placée."
   ]
  },
  {
   "cell_type": "code",
   "execution_count": 20,
   "metadata": {
    "vscode": {
     "languageId": "ocaml"
    }
   },
   "outputs": [
    {
     "data": {
      "text/plain": [
       "'_*_re'"
      ]
     },
     "execution_count": 20,
     "metadata": {},
     "output_type": "execute_result"
    }
   ],
   "source": [
    "reponse(\"arbre\", \"heure\")"
   ]
  },
  {
   "cell_type": "markdown",
   "metadata": {},
   "source": [
    "Pour la question suivante, on utilisera la fonction `input` qui permet de demander à l'utilisateur de saisir une chaîne de caractères. Par exemple, `input(\"Entrez un mot : \")` affiche le message \"Entrez un mot : \" et renvoie la chaîne de caractères saisie par l'utilisateur."
   ]
  },
  {
   "cell_type": "markdown",
   "metadata": {},
   "source": [
    "**Question** : Écrire une fonction `jeu()` qui permet de jouer au jeu de Wordle de la façon suivante :  \n",
    "- Choisir le mot à chercher, au hasard dans la liste `mots5`.  \n",
    "- Tant que l'utilisateur n'a pas trouvé le mot à chercher, demander à l'utilisateur de proposer un mot et afficher la réponse (avec `print`). Le mot proposé par l'utilisateur doit être valide (dans `mots5`). "
   ]
  },
  {
   "cell_type": "markdown",
   "metadata": {},
   "source": [
    "## Résolution par l'ordinateur\n",
    "\n",
    "Nous souhaitons maintenant choisir un mot secret que l'ordinateur devra trouver. "
   ]
  },
  {
   "cell_type": "markdown",
   "metadata": {},
   "source": [
    "**Question** : Écrire une fonction `possibles(L, proposition, rep)` qui conserve uniquement les mots `m` de la liste `L` qui donnent la même réponse que `proposition` si on les compare à `rep`, c'est-à-dire tels que `reponse(m, proposition) == rep`."
   ]
  },
  {
   "cell_type": "code",
   "execution_count": 22,
   "metadata": {
    "vscode": {
     "languageId": "ocaml"
    }
   },
   "outputs": [
    {
     "name": "stdout",
     "output_type": "stream",
     "text": [
      "['acere', 'adore', 'adore', 'aigre', 'amere', 'ancre', 'arbre', 'astre', 'avare', 'avere', 'barre', 'biere', 'boire', 'cadre', 'carre', 'clore', 'elire', 'encre', 'entre', 'entre', 'fibre', 'fiere', 'flore', 'foire', 'frere', 'frire', 'givre', 'libre', 'litre', 'livre', 'livre', 'loire', 'madre', 'maire', 'marre', 'mitre', 'moore', 'noire', 'notre', 'notre', 'offre', 'ombre', 'opere', 'opere', 'ordre', 'paire', 'patre', 'pitre', 'poire', 'sabre', 'sacre', 'score', 'sobre', 'spore', 'taire', 'tiare', 'tigre', 'tigre', 'titre', 'vitre', 'vivre', 'voire', 'votre', 'votre']\n"
     ]
    }
   ],
   "source": [
    "print(possibles(mots5, \"heure\", \"_*_re\"))"
   ]
  },
  {
   "cell_type": "markdown",
   "metadata": {},
   "source": [
    "**Question** : Écrire une fonction `resolution()` qui permet à l'ordinateur de résoudre le jeu de Wordle. Pour cela : \n",
    "- On stocke dans une liste `L` les mots encore possibles étant données les réponses précédentes.  \n",
    "- L'ordinateur choisit une proposition au hasard dans `L` et l'utilisateur donne la réponse (avec `input()`).  \n",
    "- On met à jour `L` en conservant uniquement les mots qui donnent la même réponse que le mot choisi.  \n",
    "\n",
    "On renverra le nombre de coups nécessaires pour trouver le mot.  \n",
    "Pour tester, on pourra utiliser https://wordle.louan.me."
   ]
  },
  {
   "cell_type": "markdown",
   "metadata": {},
   "source": [
    "**Question** : Plutôt que de donner la réponse à la main, on peut faire jouer l'ordinateur contre lui-même. Écrire une fonction `resolution2(mot)` en utilisant `reponse(mot, proposition)` à chaque proposition de l'ordinateur (au lieu de `input`)."
   ]
  },
  {
   "cell_type": "markdown",
   "metadata": {},
   "source": [
    "**Question** : Écrire une fonction `nombre_coups(n)` qui appelle `resolution2` $n$ fois (sur des mots choisis aléatoirement) et renvoie le nombre moyen de coups nécessaires pour trouver le mot."
   ]
  },
  {
   "cell_type": "markdown",
   "metadata": {},
   "source": [
    "## Amélioration avec une heuristique\n",
    "\n",
    "Dans la suite, on essaie d'améliorer `resolution2` (pour trouver la solution en moins d'essais) en choisissant une proposition autrement qu'au hasard.  \n",
    "Pour cela, nous allons utiliser une heuristique (c'est-à-dire une méthode qui n'est pas toujours optimale mais qui donne de bons résultats en pratique) qui consiste à choisir la proposition dont les lettres sont les plus fréquentes parmi les possibilités restantes.  "
   ]
  },
  {
   "cell_type": "markdown",
   "metadata": {},
   "source": [
    "**Question** : Écrire une fonction `numero_lettre(lettre)` qui renvoie le numéro de la lettre dans l'alphabet (de $0$ à $25$). Par exemple, `numero_lettre(\"a\")` renvoie $0$ et `numero_lettre(\"z\")` renvoie $25$.  \n",
    "On utilisera `ord(c)` qui renvoie le code ASCII d'une lettre `c` (par exemple, `ord(\"a\")` renvoie $97$)."
   ]
  },
  {
   "cell_type": "code",
   "execution_count": 26,
   "metadata": {
    "vscode": {
     "languageId": "ocaml"
    }
   },
   "outputs": [
    {
     "data": {
      "text/plain": [
       "4"
      ]
     },
     "execution_count": 26,
     "metadata": {},
     "output_type": "execute_result"
    }
   ],
   "source": [
    "numero_lettre('e')"
   ]
  },
  {
   "cell_type": "markdown",
   "metadata": {},
   "source": [
    "**Question** : Écrire une fonction `compter` telle que, si `L` est une liste de mots, `compter(L)` renvoie une matrice `C` de taille $26 \\times 5$ telle que `C[i][j]` est le nombre de mots de `L` qui contiennent la lettre numéro $i$ à la position $j$.  \n",
    "Par exemple, `C[1][3]` doit être le nombre de mots de `L` qui ont la lettre numéro `1` (c'est-à-dire $b$) en position `3`."
   ]
  },
  {
   "cell_type": "code",
   "execution_count": 28,
   "metadata": {
    "vscode": {
     "languageId": "ocaml"
    }
   },
   "outputs": [
    {
     "data": {
      "text/plain": [
       "array([[135., 367., 137.,  78.,  36.],\n",
       "       [120.,  13.,  53.,  25.,   1.],\n",
       "       [163.,  27.,  85.,  47.,  14.],\n",
       "       [ 85.,  12.,  35.,  60.,  14.],\n",
       "       [ 79., 327., 132., 354., 801.],\n",
       "       [116.,   3.,  18.,  11.,   9.],\n",
       "       [ 76.,   9.,  69.,  55.,   5.],\n",
       "       [ 40.,  37.,   6.,  37.,   5.],\n",
       "       [ 22., 207., 165., 206.,  51.],\n",
       "       [ 43.,   1.,   6.,   1.,   0.],\n",
       "       [ 10.,   1.,   2.,   3.,   5.],\n",
       "       [ 90.,  79., 122., 104.,  52.],\n",
       "       [114.,  23.,  66.,  59.,   5.],\n",
       "       [ 51.,  34., 162., 145.,  99.],\n",
       "       [ 39., 313.,  89.,  85.,  36.],\n",
       "       [178.,  18.,  42.,  37.,   5.],\n",
       "       [  9.,   0.,   8.,   0.,   0.],\n",
       "       [118., 129., 207., 146., 177.],\n",
       "       [144.,  16.,  87.,  82., 310.],\n",
       "       [108.,  32., 130., 149., 131.],\n",
       "       [ 12., 146., 133., 119.,  49.],\n",
       "       [ 89.,  22.,  51.,  34.,   1.],\n",
       "       [  1.,   1.,   1.,   1.,   0.],\n",
       "       [  0.,  10.,  11.,   0.,  22.],\n",
       "       [  1.,  16.,  23.,   4.,   9.],\n",
       "       [  2.,   2.,   5.,   3.,   8.]])"
      ]
     },
     "execution_count": 28,
     "metadata": {},
     "output_type": "execute_result"
    }
   ],
   "source": [
    "compter(mots5)"
   ]
  },
  {
   "cell_type": "markdown",
   "metadata": {},
   "source": [
    "**Question** : Écrire une fonction `heuristique(C, mot)` qui renvoie la somme de `C[c][i]` pour chaque lettre `c` à la position `i` de `mot`, où `C` est la matrice renvoyée par `compter`."
   ]
  },
  {
   "cell_type": "markdown",
   "metadata": {},
   "source": [
    "**Question** : Écrire une fonction `meilleure_proposition(L)` qui renvoie la proposition qui a la plus grande valeur de `heuristique(C, mot)` pour chaque mot `mot` de `L`, où `C` est la matrice renvoyée par `compter(L)`."
   ]
  },
  {
   "cell_type": "markdown",
   "metadata": {},
   "source": [
    "**Question** : Écrire une fonction `resolution3(mot)` qui utilise `meilleure_proposition` pour proposer une solution."
   ]
  },
  {
   "cell_type": "markdown",
   "metadata": {},
   "source": [
    "**Question** : Écrire une fonction `nombre_coups3(n)` qui appelle `resolution3` $n$ fois (sur des mots choisis aléatoirement) et renvoie le nombre moyen de coups nécessaires pour trouver le mot. Comparer avec `resolution2`."
   ]
  }
 ],
 "metadata": {
  "kernelspec": {
   "display_name": "OCaml default",
   "language": "OCaml",
   "name": "ocaml-jupyter"
  },
  "language_info": {
   "codemirror_mode": "text/x-ocaml",
   "file_extension": ".ml",
   "mimetype": "text/x-ocaml",
   "name": "OCaml",
   "nbconverter_exporter": null,
   "pygments_lexer": "OCaml",
   "version": "4.11.1"
  },
  "vscode": {
   "interpreter": {
    "hash": "31f2aee4e71d21fbe5cf8b01ff0e069b9275f58929596ceb00d14d90e3e16cd6"
   }
  }
 },
 "nbformat": 4,
 "nbformat_minor": 2
}
