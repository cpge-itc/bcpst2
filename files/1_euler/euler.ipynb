{
 "cells": [
  {
   "cell_type": "markdown",
   "metadata": {},
   "source": [
    "# Méthode d'Euler\n",
    "\n",
    "> La méthode d'Euler permet d'approximer une solution d'une équation différentielle.  \n",
    "> Dans le programme, nous nous restreignons à une équation différentielle d'ordre $1$, c'est-à-dire où seules apparaissent des dérivées premières."
   ]
  },
  {
   "cell_type": "markdown",
   "metadata": {},
   "source": [
    "## Équation différentielle d'ordre 1\n",
    "\n",
    "Considérons une équation différentielle d'ordre 1 :\n",
    "$$y'(t) = f(t, y(t))$$\n",
    "$$y(t_0) = y_0$$ \n",
    "\n",
    "- $y$ est la **fonction inconnue** : on cherche à détermine la valeur de $y(t)$ pour $t \\in I$, où $I \\subseteq \\mathbb{R}$ est l'intervalle de définition de $y$.\n",
    "- $f$ est l'expression qui apparaît dans le **second membre** de l'équation différentielle, qui peut utiliser $t$ et $y(t)$ (d'où une fonction de $2$ variables). $f$ est donnée par le problème que l'on souhaite résoudre.\n",
    "- $y(t_0) = y_0$ est la condition initiale, garantissant l'unicité de la solution (théorème de Cauchy).\n",
    "\n",
    "On cherche donc une fonction $y$ définie sur un intervalle $I$ telle que $\\forall t \\in I$, $y'(t) = f(t, y(t))$."
   ]
  },
  {
   "cell_type": "markdown",
   "metadata": {},
   "source": [
    "Voici des exemples d'équations différentielles classiques avec la valeur correspondante de $f(t, y)$ :\n",
    "| Équation différentielle | Second membre $f(t, y)$ | Solution |\n",
    "|:-----------------------:|:-----------------------:|:----------------------:|\n",
    "| $$y'(t) = t$$ $$y(0) = 0$$  | $$f(t, y) = t$$ | $$y(t) = \\frac{t^2}{2}$$ |\n",
    "| $$y'(t) = y(t)$$ $$y(0) = 1$$ | $$f(t, y) = y$$ | $$y(t) = e^t$$ |\n",
    "| $$y'(t) = \\ln(t)$$ $$y(1) = 0$$ | $$f(t, y) = \\ln(t)$$ | $$y(t) = t\\ln(t) - t$$ |"
   ]
  },
  {
   "cell_type": "code",
   "execution_count": 1,
   "metadata": {},
   "outputs": [],
   "source": [
    "def euler(f, t0, y0, h, n):\n",
    "    y = [y0]\n",
    "    t = [t0]\n",
    "    for k in range(n):\n",
    "        t.append(t[-1] + h)\n",
    "        y.append(y[-1] + h*f(t[-1], y[-1]))\n",
    "    return t, y"
   ]
  },
  {
   "cell_type": "code",
   "execution_count": 5,
   "metadata": {},
   "outputs": [],
   "source": [
    "def f(t, y):\n",
    "    return y\n",
    "\n",
    "t, y = euler(f, 0, 1, 0.1, 10)"
   ]
  },
  {
   "cell_type": "code",
   "execution_count": 13,
   "metadata": {},
   "outputs": [
    {
     "data": {
      "image/png": "[encoded data removed]",
      "text/plain": [
       "<Figure size 432x288 with 1 Axes>"
      ]
     },
     "metadata": {
      "needs_background": "light"
     },
     "output_type": "display_data"
    }
   ],
   "source": [
    "import matplotlib.pyplot as plt\n",
    "import numpy as np\n",
    "\n",
    "plt.plot(t, y, label=\"Méthode d'Euler\")\n",
    "plt.plot(t, np.exp(t), label=\"exp\")\n",
    "plt.legend()\n",
    "plt.show()"
   ]
  }
 ],
 "metadata": {
  "kernelspec": {
   "display_name": "Python 3.10.5 64-bit",
   "language": "python",
   "name": "python3"
  },
  "language_info": {
   "codemirror_mode": {
    "name": "ipython",
    "version": 3
   },
   "file_extension": ".py",
   "mimetype": "text/x-python",
   "name": "python",
   "nbconvert_exporter": "python",
   "pygments_lexer": "ipython3",
   "version": "3.10.5"
  },
  "vscode": {
   "interpreter": {
    "hash": "e7370f93d1d0cde622a1f8e1c04877d8463912d04d973331ad4851f04de6915a"
   }
  }
 },
 "nbformat": 4,
 "nbformat_minor": 2
}
