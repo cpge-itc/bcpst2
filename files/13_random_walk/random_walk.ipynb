{
 "cells": [
  {
   "attachments": {},
   "cell_type": "markdown",
   "metadata": {},
   "source": [
    "# TP 13 : Marche aléatoire et chaîne de Markov"
   ]
  },
  {
   "attachments": {},
   "cell_type": "markdown",
   "metadata": {},
   "source": [
    "**Question** : Exécuter le code suivant pour importer les modules nécessaires"
   ]
  },
  {
   "cell_type": "code",
   "execution_count": 101,
   "metadata": {},
   "outputs": [],
   "source": [
    "import matplotlib.pyplot as plt\n",
    "import numpy as np\n",
    "import random"
   ]
  },
  {
   "attachments": {},
   "cell_type": "markdown",
   "metadata": {},
   "source": [
    "## Marche aléatoire en 1D\n",
    "\n",
    "On rappelle que `random.random()` permet d'obtenir un flottant (nombre à virgule) aléatoire entre 0 et 1 :"
   ]
  },
  {
   "cell_type": "code",
   "execution_count": 102,
   "metadata": {},
   "outputs": [
    {
     "data": {
      "text/plain": [
       "0.7359502472103266"
      ]
     },
     "execution_count": 102,
     "metadata": {},
     "output_type": "execute_result"
    }
   ],
   "source": [
    "random.random()"
   ]
  },
  {
   "attachments": {},
   "cell_type": "markdown",
   "metadata": {},
   "source": [
    "On définit une marche aléatoire à une dimension par des variables aléatoires $X_1$, $X_2$, ... indépendantes et de même loi :  \n",
    "\n",
    "$$\\mathbb{P}(X_k = 1) = \\mathbb{P}(X_k = -1) = \\frac{1}{2}$$"
   ]
  },
  {
   "attachments": {},
   "cell_type": "markdown",
   "metadata": {},
   "source": [
    "**Question** : Écrire une fonction `X()` qui renvoie 1 ou -1 avec une probabilité de 1/2 chacune."
   ]
  },
  {
   "cell_type": "code",
   "execution_count": 103,
   "metadata": {
    "tags": [
     "cor"
    ]
   },
   "outputs": [],
   "source": [
    "def X():\n",
    "    if random.random() < 0.5:\n",
    "        return 1\n",
    "    else:\n",
    "        return -1"
   ]
  },
  {
   "cell_type": "code",
   "execution_count": 104,
   "metadata": {},
   "outputs": [
    {
     "data": {
      "text/plain": [
       "-1"
      ]
     },
     "execution_count": 104,
     "metadata": {},
     "output_type": "execute_result"
    }
   ],
   "source": [
    "X()"
   ]
  },
  {
   "attachments": {},
   "cell_type": "markdown",
   "metadata": {},
   "source": [
    "On définit ensuite la variable aléatoire $S_n = X_1 + X_2 + \\cdots + X_n$."
   ]
  },
  {
   "attachments": {},
   "cell_type": "markdown",
   "metadata": {},
   "source": [
    "**Question** : Écrire une fonction `S(n)` qui renvoie $S_n$."
   ]
  },
  {
   "cell_type": "code",
   "execution_count": 105,
   "metadata": {
    "tags": [
     "cor"
    ]
   },
   "outputs": [],
   "source": [
    "def S(n):\n",
    "    s = 0\n",
    "    for i in range(n):\n",
    "        s += X()\n",
    "    return s"
   ]
  },
  {
   "cell_type": "code",
   "execution_count": 106,
   "metadata": {},
   "outputs": [
    {
     "data": {
      "text/plain": [
       "-18"
      ]
     },
     "execution_count": 106,
     "metadata": {},
     "output_type": "execute_result"
    }
   ],
   "source": [
    "S(100)"
   ]
  },
  {
   "attachments": {},
   "cell_type": "markdown",
   "metadata": {},
   "source": [
    "**Exercice** :\n",
    "1. Écrire une fonction `S_liste(n)` qui renvoie la liste des sommes partielles $S_1$, $S_2$, ... $S_n$. Il s'agit donc de la même fonction que précédemment, mais qui renvoie une liste.  \n",
    "2. Exécuter le code suivant pour afficher la marche aléatoire."
   ]
  },
  {
   "cell_type": "code",
   "execution_count": 107,
   "metadata": {
    "tags": [
     "cor"
    ]
   },
   "outputs": [],
   "source": [
    "def S_liste(n):\n",
    "    L = [0]\n",
    "    for i in range(n):\n",
    "        L.append(L[-1] + X())\n",
    "    return L"
   ]
  },
  {
   "cell_type": "code",
   "execution_count": null,
   "metadata": {},
   "outputs": [],
   "source": [
    "L = S_liste(1000)\n",
    "plt.plot(L, label=\"S(n)\")\n",
    "plt.legend()\n",
    "plt.show()"
   ]
  },
  {
   "attachments": {},
   "cell_type": "markdown",
   "metadata": {},
   "source": [
    "### Distance à l'origine\n",
    "\n",
    "Un théorème affirme que la distance à l'origine $|S_n|$ vérifie :  \n",
    "\n",
    "$$\\mathbb{E}(|S_n|) \\sim \\sqrt{\\frac{2n}{\\pi}}$$\n",
    "\n",
    "On veut vérifier ce résultat informatiquement."
   ]
  },
  {
   "attachments": {},
   "cell_type": "markdown",
   "metadata": {},
   "source": [
    "**Exercice** :\n",
    "1. Écrire une fonction `distance_origine(n, p)` qui calcule `p` fois `abs(S(n))` et renvoie la moyenne de ces valeurs.  \n",
    "2. Comparer graphiquement avec $\\sqrt{\\frac{2n}{\\pi}}$ en exécutant le code ci-dessous."
   ]
  },
  {
   "cell_type": "code",
   "execution_count": 109,
   "metadata": {
    "tags": [
     "cor"
    ]
   },
   "outputs": [],
   "source": [
    "def distance_origine(n, p):\n",
    "    m = 0\n",
    "    for i in range(p):\n",
    "        m += abs(S(n))\n",
    "    return m/p"
   ]
  },
  {
   "cell_type": "code",
   "execution_count": null,
   "metadata": {},
   "outputs": [],
   "source": [
    "plt.plot([distance_origine(i, 100) for i in range(300)], label=\"distance_origine(n, 100)\")\n",
    "plt.plot([(2*i/np.pi)**.5 for i in range(300)], 'r', label=\"(2n/pi)**.5\")\n",
    "plt.xlabel(\"n\")\n",
    "plt.legend()\n",
    "plt.show()"
   ]
  },
  {
   "attachments": {},
   "cell_type": "markdown",
   "metadata": {},
   "source": [
    "### Théorème de la limite centrale\n",
    "\n",
    "En notant $\\mu$ et $\\sigma$ l'espérance et l'écart-type de chaque variable $X_k$, le **théorème de la limite centrale** affirme que :\n",
    "\n",
    "$$\\frac{S_n - n\\mu}{\\sigma\\sqrt{n}} \\sim \\mathcal{N}(0, 1)$$\n",
    "\n",
    "où $\\mathcal{N}(0, 1)$ est la loi normale centrée réduite, dont la densité de probabilité est :\n",
    "\n",
    "$$f(x) = \\frac{1}{\\sqrt{2\\pi}}\\exp\\left(-\\frac{x^2}{2}\\right)$$"
   ]
  },
  {
   "attachments": {},
   "cell_type": "markdown",
   "metadata": {},
   "source": [
    "**Exercice** :\n",
    "1. Calculer $\\mu$ et $\\sigma$ à la main (sans ordinateur). On rappelle que $\\sigma = \\sqrt{\\mathbb{E}(X^2) - \\mathbb{E}(X)^2}$.  \n",
    "2. Écrire une fonction `limite_centrale(n)` renvoyant $\\frac{S_n - n\\mu}{\\sigma\\sqrt{n}}$, avec $\\mu$ et $\\sigma$ remplacés par leurs valeurs.  \n",
    "3. Écrire la fonction de densité `f` de la loi normale centrée réduite. On pourra utiliser `np.exp` et `np.pi`.  \n",
    "4. Vérifier en exécutant le code ci-dessous."
   ]
  },
  {
   "cell_type": "code",
   "execution_count": 112,
   "metadata": {
    "tags": [
     "cor"
    ]
   },
   "outputs": [],
   "source": [
    "# on trouve mu = 0 et sigma = 1\n",
    "\n",
    "def limite_centrale(n):\n",
    "    return S(n)/n**.5\n",
    "\n",
    "def f(x):\n",
    "    return 1/(2*np.pi)**.5*np.exp(-x**2/2)"
   ]
  },
  {
   "cell_type": "code",
   "execution_count": null,
   "metadata": {},
   "outputs": [],
   "source": [
    "n = 1000\n",
    "L = [limite_centrale(n) for i in range(n)]\n",
    "plt.hist(L, bins=20, density=True)\n",
    "R = np.linspace(min(L), max(L), 100)\n",
    "plt.plot(R, [f(x) for x in R], 'r')\n",
    "plt.show()"
   ]
  },
  {
   "attachments": {},
   "cell_type": "markdown",
   "metadata": {},
   "source": [
    "## Marche aléatoire en 2D\n",
    "\n",
    "On se place en dimension 2. On définit le point $P_n$ par récurrence sur $n$ :  \n",
    "- $P_0 = (0, 0)$  \n",
    "- $P_{n + 1}$ est un des $4$ points voisins de $P_n$ (en se déplaçant d'une case vers le haut, le bas, la gauche ou la droite) avec une probabilité de $1/4$ chacune."
   ]
  },
  {
   "attachments": {},
   "cell_type": "markdown",
   "metadata": {},
   "source": [
    "**Question** : Écrire une fonction `P(n)` qui renvoie le point $P_n$.  \n",
    "On pourra définir `r = random.random()` et distinguer $4$ cas : $0 \\leq r < 1/4$, $1/4 \\leq r < 2/4$, $2/4 \\leq r < 3/4$ et $3/4 \\leq r < 1$. "
   ]
  },
  {
   "cell_type": "code",
   "execution_count": 114,
   "metadata": {
    "tags": [
     "cor"
    ]
   },
   "outputs": [],
   "source": [
    "def P(n):\n",
    "    Pk = (0, 0)\n",
    "    for i in range(n):\n",
    "        r = random.random()\n",
    "        if r < 1/4:\n",
    "            Pk = (Pk[0]+1, Pk[1])\n",
    "        elif r < 1/2:\n",
    "            Pk = (Pk[0]-1, Pk[1])\n",
    "        elif r < 3/4:\n",
    "            Pk = (Pk[0], Pk[1]+1)\n",
    "        else:\n",
    "            Pk = (Pk[0], Pk[1]-1)\n",
    "    return Pk"
   ]
  },
  {
   "cell_type": "code",
   "execution_count": 115,
   "metadata": {},
   "outputs": [
    {
     "data": {
      "text/plain": [
       "(-7, -7)"
      ]
     },
     "execution_count": 115,
     "metadata": {},
     "output_type": "execute_result"
    }
   ],
   "source": [
    "P(100)"
   ]
  },
  {
   "attachments": {},
   "cell_type": "markdown",
   "metadata": {},
   "source": [
    "**Exercice** :\n",
    "1. Écrire une fonction `P_liste(n)` qui renvoie la liste des points $P_0$, $P_1$, ... $P_n$. Il s'agit donc de la même fonction que précédemment, mais qui renvoie une liste.  \n",
    "2. Exécuter le code ci-dessous pour afficher la marche aléatoire."
   ]
  },
  {
   "cell_type": "code",
   "execution_count": 116,
   "metadata": {
    "tags": [
     "cor"
    ]
   },
   "outputs": [],
   "source": [
    "def P_liste(n):\n",
    "    Pk = (0, 0)\n",
    "    L = [(0, 0)]\n",
    "    for i in range(n):\n",
    "        r = random.random()\n",
    "        if r < 1/4:\n",
    "            Pk = (Pk[0]+1, Pk[1])\n",
    "        elif r < 1/2:\n",
    "            Pk = (Pk[0]-1, Pk[1])\n",
    "        elif r < 3/4:\n",
    "            Pk = (Pk[0], Pk[1]+1)\n",
    "        else:\n",
    "            Pk = (Pk[0], Pk[1]-1)\n",
    "        L.append(Pk)\n",
    "    return L"
   ]
  },
  {
   "cell_type": "code",
   "execution_count": null,
   "metadata": {},
   "outputs": [],
   "source": [
    "X, Y = zip(*P_liste(100))\n",
    "plt.plot(X, Y)\n",
    "plt.show()"
   ]
  },
  {
   "attachments": {},
   "cell_type": "markdown",
   "metadata": {},
   "source": [
    "On peut prouver que la marche aléatoire en 2D est **récurrent** : il revient une infinité de fois au point d'origine $(0, 0)$."
   ]
  },
  {
   "attachments": {},
   "cell_type": "markdown",
   "metadata": {},
   "source": [
    "**Question** : Écrire une fonction `retour_origine(n)` qui renvoie une liste `L` telle que `L[i]` est le nombre de fois où la marche aléatoire revient au point d'origine après au plus `i` étapes."
   ]
  },
  {
   "cell_type": "code",
   "execution_count": 118,
   "metadata": {
    "tags": [
     "cor"
    ]
   },
   "outputs": [],
   "source": [
    "def retour_origine(n):\n",
    "    L = [1]\n",
    "    for p in P_liste(n)[1:]:\n",
    "        L.append(L[-1])\n",
    "        if p == (0, 0):\n",
    "            L[-1] += 1\n",
    "    return L"
   ]
  },
  {
   "cell_type": "code",
   "execution_count": null,
   "metadata": {},
   "outputs": [],
   "source": [
    "retour_origine(10)"
   ]
  },
  {
   "attachments": {},
   "cell_type": "markdown",
   "metadata": {},
   "source": [
    "## Chaîne de Markov\n",
    "\n",
    "On considère un chat qui peut être dans $3$ états possibles : manger (0), jouer (1) ou dormir (2). À chaque étape, le chat peut changer d'état avec une certaine probabilité donnée par le graphe suivant :\n",
    "\n",
    "<center><img src=https://raw.githubusercontent.com/fortierq/tikz/master/graph/markov/chat/chat.png width=600></center>"
   ]
  },
  {
   "attachments": {},
   "cell_type": "markdown",
   "metadata": {},
   "source": [
    "Par exemple, si le chat est en train de manger à l'étape $n$, il continuera de manger à l'étape $n + 1$ avec probabilité $0.2$, il se mettra à dormir avec probabilité $0.5$ et jouer avec probabilité $0.3$."
   ]
  },
  {
   "attachments": {},
   "cell_type": "markdown",
   "metadata": {},
   "source": [
    "**Question** : Écrire une fonction `chat(n)` qui commence dans l'état $0$ et effectue $n$ étapes du chat et renvoie une liste `L` telle que `L[i]` la proportion du nombre de fois que le chat a été dans l'état `i`."
   ]
  },
  {
   "cell_type": "code",
   "execution_count": 121,
   "metadata": {
    "tags": [
     "cor"
    ]
   },
   "outputs": [],
   "source": [
    "def chat(n):\n",
    "    L = [0, 0, 0]\n",
    "    etat = 0\n",
    "    for i in range(n):\n",
    "        r = random.random()\n",
    "        if etat == 0:\n",
    "            if r < .3:\n",
    "                etat = 1\n",
    "            elif r < .8:\n",
    "                etat = 2\n",
    "        elif etat == 1:\n",
    "            if r < .3:\n",
    "                etat = 0\n",
    "            elif r < .8:\n",
    "                etat = 2\n",
    "        else:\n",
    "            if r < .4:\n",
    "                etat = 0\n",
    "            elif r < .6:\n",
    "                etat = 1\n",
    "        L[etat] += 1/n\n",
    "    return L"
   ]
  },
  {
   "cell_type": "code",
   "execution_count": 122,
   "metadata": {},
   "outputs": [
    {
     "data": {
      "text/plain": [
       "[0.25000000000000006, 0.24000000000000007, 0.5100000000000002]"
      ]
     },
     "execution_count": 122,
     "metadata": {},
     "output_type": "execute_result"
    }
   ],
   "source": [
    "chat(100)"
   ]
  },
  {
   "attachments": {},
   "cell_type": "markdown",
   "metadata": {},
   "source": [
    "**Question** : Définir la matrice de transition $M$ de ce problème, de taille $3\\times 3$ et telle que $m_{i, j}$ est la probabilité de passer de l'état $i$ à l'état $j$."
   ]
  },
  {
   "cell_type": "code",
   "execution_count": 125,
   "metadata": {
    "tags": [
     "cor"
    ]
   },
   "outputs": [],
   "source": [
    "M = [\n",
    "    [.2, .3, .5],\n",
    "    [.3, .2, .5],\n",
    "    [.4, .2, .4]\n",
    "]"
   ]
  },
  {
   "cell_type": "code",
   "execution_count": 126,
   "metadata": {},
   "outputs": [
    {
     "data": {
      "text/plain": [
       "0.5"
      ]
     },
     "execution_count": 126,
     "metadata": {},
     "output_type": "execute_result"
    }
   ],
   "source": [
    "M[1][2] # probabilité de passer de l'état 1 à l'état 2"
   ]
  },
  {
   "attachments": {},
   "cell_type": "markdown",
   "metadata": {},
   "source": [
    "On peut montrer (**théorème de Perron-Frobenius**) que $M^n$ converge vers une matrice dont chaque ligne est la distribution stationnaire, c'est-à-dire la proportion de temps que le chat passe dans chaque état.\n",
    "\n",
    "On veut vérifier ce théorème."
   ]
  },
  {
   "attachments": {},
   "cell_type": "markdown",
   "metadata": {},
   "source": [
    "**Question** : Écrire une fonction `produit(A, B)` effectuant le produit matriciel des matrices $A$ et $B$. \n",
    "On rappelle que les coefficients de $C = AB$ vérifient :\n",
    "\n",
    "$$c_{i, j} = \\sum_{k = 1}^n a_{i, k}b_{k, j}$$\n",
    "\n",
    "On pourra utiliser `np.zeros` pour créer une matrice `C` de $0$ qu'on remplira avec la formule ci-dessus."
   ]
  },
  {
   "cell_type": "code",
   "execution_count": 127,
   "metadata": {
    "tags": [
     "cor"
    ]
   },
   "outputs": [],
   "source": [
    "def produit(A, B):\n",
    "    C = np.zeros((len(A), len(B[0])))\n",
    "    for i in range(len(A)):\n",
    "        for j in range(len(B[0])):\n",
    "            for k in range(len(B)):\n",
    "                C[i][j] += A[i][k]*B[k][j]\n",
    "    return C"
   ]
  },
  {
   "cell_type": "code",
   "execution_count": 128,
   "metadata": {},
   "outputs": [
    {
     "data": {
      "text/plain": [
       "array([[0.33, 0.22, 0.45],\n",
       "       [0.32, 0.23, 0.45],\n",
       "       [0.3 , 0.24, 0.46]])"
      ]
     },
     "execution_count": 128,
     "metadata": {},
     "output_type": "execute_result"
    }
   ],
   "source": [
    "produit(M, M)"
   ]
  },
  {
   "attachments": {},
   "cell_type": "markdown",
   "metadata": {},
   "source": [
    "**Question** :  \n",
    "1. Écrire une fonction `puissance(M, n)` qui renvoie $M^n$.  \n",
    "2. Calculer `puissance(M, 10)` et vérifier qu'on obtient un résultat proche de `chat(10000)`."
   ]
  },
  {
   "cell_type": "code",
   "execution_count": 129,
   "metadata": {
    "tags": [
     "cor"
    ]
   },
   "outputs": [
    {
     "name": "stdout",
     "output_type": "stream",
     "text": [
      "[[0.31404959 0.23140496 0.45454545]\n",
      " [0.31404959 0.23140496 0.45454545]\n",
      " [0.31404959 0.23140496 0.45454545]]\n"
     ]
    },
    {
     "data": {
      "text/plain": [
       "[0.3133999999999818, 0.23119999999999086, 0.45539999999996617]"
      ]
     },
     "execution_count": 129,
     "metadata": {},
     "output_type": "execute_result"
    }
   ],
   "source": [
    "def puissance(M, n):\n",
    "    A = M\n",
    "    for i in range(n-1):\n",
    "        A = produit(A, M)\n",
    "    return A\n",
    "\n",
    "print(puissance(M, 10))\n",
    "chat(10000)"
   ]
  }
 ],
 "metadata": {
  "kernelspec": {
   "display_name": "Python 3",
   "language": "python",
   "name": "python3"
  },
  "language_info": {
   "codemirror_mode": {
    "name": "ipython",
    "version": 3
   },
   "file_extension": ".py",
   "mimetype": "text/x-python",
   "name": "python",
   "nbconvert_exporter": "python",
   "pygments_lexer": "ipython3",
   "version": "3.9.2"
  },
  "vscode": {
   "interpreter": {
    "hash": "31f2aee4e71d21fbe5cf8b01ff0e069b9275f58929596ceb00d14d90e3e16cd6"
   }
  }
 },
 "nbformat": 4,
 "nbformat_minor": 2
}
