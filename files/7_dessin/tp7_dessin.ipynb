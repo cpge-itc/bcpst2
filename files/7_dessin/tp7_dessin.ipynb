{
 "cells": [
  {
   "cell_type": "markdown",
   "metadata": {},
   "source": [
    "# TP 7 : Dessins, récursivité et fractales"
   ]
  },
  {
   "cell_type": "markdown",
   "metadata": {},
   "source": [
    "## Turtle\n",
    "\n",
    "Le module `turtle` de Python permet de tracer des figures, comme on le ferait avec un stylo.<br>\n",
    "La \"tortue\" (pointe du stylo) est initialement placée à l'origine d'un repère, la \"tête\" orientée à droite, et se déplace sur le graphique en fonction des instructions qu'on lui donne.\n",
    "\n",
    "Les principales instructions sont les suivantes :\n",
    "\n",
    "| Instruction | Effet |\n",
    "|:---:|:---:|\n",
    "| `forward(n)` ou `fd(n)` | avance de `n` pixels |\n",
    "| `left(n)` ou `lt(n)` | effectue une rotation à gauche de `n` degrés |\n",
    "| `right(n)` ou `rt(n)` | effectue une rotation à droite de `n` degrés |\n",
    "| `reset()` | efface l'écran |\n",
    "| `done()` | affiche le dessin (à faire à la fin) |\n",
    "| `color(c)` | utilise la couleur `c` pour dessiner (exemple : `color(\"red\")`) |"
   ]
  },
  {
   "cell_type": "markdown",
   "metadata": {},
   "source": [
    "**Question** : Importer le module `turtle` avec l'instruction `from turtle import *`."
   ]
  },
  {
   "cell_type": "code",
   "execution_count": 2,
   "metadata": {
    "tags": [
     "cor"
    ]
   },
   "outputs": [],
   "source": [
    "#1\n",
    "from turtle import *"
   ]
  },
  {
   "cell_type": "markdown",
   "metadata": {},
   "source": [
    "**Question** : Tester avec le code suivant, qui avance la tortue de $100$ pixels, puis tourne de $40$ degrés à gauche, puis avance de $200$ pixels.  \n",
    "Remarque : si vous avez une erreur `Terminator ...`, essayez de relancer le code."
   ]
  },
  {
   "cell_type": "code",
   "execution_count": 9,
   "metadata": {},
   "outputs": [],
   "source": [
    "reset()\n",
    "fd(100)\n",
    "left(40)\n",
    "fd(200)\n",
    "done()"
   ]
  },
  {
   "cell_type": "markdown",
   "metadata": {},
   "source": [
    "**Question** : Écrire une fonction `carre(n)` qui trace un carré de côté `n` pixels."
   ]
  },
  {
   "cell_type": "code",
   "execution_count": 10,
   "metadata": {
    "tags": [
     "cor"
    ]
   },
   "outputs": [],
   "source": [
    "def carre(n):\n",
    "    reset()\n",
    "    fd(n)\n",
    "    left(90)\n",
    "    fd(n)\n",
    "    left(90)\n",
    "    fd(n)\n",
    "    left(90)\n",
    "    fd(n)\n",
    "    done()"
   ]
  },
  {
   "cell_type": "code",
   "execution_count": 14,
   "metadata": {},
   "outputs": [],
   "source": [
    "carre(100)"
   ]
  },
  {
   "cell_type": "markdown",
   "metadata": {},
   "source": [
    "**Question** : Écrire une fonction `triangle(n)` qui trace un triangle équilatéral de côté `n` pixels."
   ]
  },
  {
   "cell_type": "code",
   "execution_count": null,
   "metadata": {
    "scrolled": false,
    "tags": [
     "cor"
    ]
   },
   "outputs": [],
   "source": [
    "def triangle(n):\n",
    "    reset()\n",
    "    fd(n)\n",
    "    left(120)\n",
    "    fd(n)\n",
    "    left(120)\n",
    "    fd(n)\n",
    "    done()"
   ]
  },
  {
   "cell_type": "code",
   "execution_count": null,
   "metadata": {},
   "outputs": [],
   "source": [
    "triangle(100)"
   ]
  },
  {
   "cell_type": "markdown",
   "metadata": {},
   "source": [
    "**Question** : Écrire une fonction `polygone(k, n)` affichant un polygone régulier à `k` côtés, chaque côté étant de longueur `n`."
   ]
  },
  {
   "cell_type": "code",
   "execution_count": null,
   "metadata": {
    "tags": [
     "cor"
    ]
   },
   "outputs": [],
   "source": [
    "def polygone(k, n):\n",
    "    reset()\n",
    "    for i in range(k):\n",
    "        fd(n)\n",
    "        left(360/k)\n",
    "    done()"
   ]
  },
  {
   "cell_type": "code",
   "execution_count": null,
   "metadata": {
    "scrolled": true
   },
   "outputs": [],
   "source": [
    "polygone(6, 100)"
   ]
  },
  {
   "cell_type": "markdown",
   "metadata": {},
   "source": [
    "**Question** : Écrire une fonction `carres` affichant des carrés évoluant en spirale, comme ci-dessous. On pourra utiliser `speed(10)` pour dessiner rapidement.  \n",
    "\n",
    "![](https://raw.githubusercontent.com/cpge-itc/bcpst2/main/files/7_dessin/carres.png)"
   ]
  },
  {
   "cell_type": "code",
   "execution_count": null,
   "metadata": {
    "tags": [
     "cor"
    ]
   },
   "outputs": [],
   "source": [
    "def carres(n, larg):\n",
    "    reset()\n",
    "    speed(10)\n",
    "    for i in range(1, n+1):\n",
    "        largeur = larg * i\n",
    "        left(90)\n",
    "        fd(largeur)\n",
    "        left(90)\n",
    "        fd(largeur)\n",
    "    done()"
   ]
  },
  {
   "cell_type": "markdown",
   "metadata": {},
   "source": [
    "**Question** : Reprendre la fonction précédente pour que le tracé se fasse en bleu pour la partie supérieure droite et en rouge pour la partie inférieure gauche."
   ]
  },
  {
   "cell_type": "code",
   "execution_count": null,
   "metadata": {
    "tags": [
     "cor"
    ]
   },
   "outputs": [],
   "source": [
    "#3\n",
    "def carres_couleurs(n, larg):\n",
    "    reset()\n",
    "    speed(10)        # vitesse 8 sur une échelle de 1 à 10\n",
    "    couleurs = ['red', 'blue']\n",
    "    for i in range(1, n+1):\n",
    "        largeur = larg * i\n",
    "        color(couleurs[i % 2])        # tracé en rouge lorsque i est pair, en violet sinon\n",
    "        left(90)\n",
    "        fd(largeur)\n",
    "        left(90)\n",
    "        fd(largeur)\n",
    "    done()"
   ]
  },
  {
   "cell_type": "code",
   "execution_count": null,
   "metadata": {},
   "outputs": [],
   "source": [
    "carres_couleurs(16, 20)"
   ]
  },
  {
   "cell_type": "markdown",
   "metadata": {},
   "source": [
    "## Récursivité\n",
    "\n",
    "On dit qu'une fonction est **récursive** si elle s'appelle elle-même. Par exemple, considérons la fonction suivante :"
   ]
  },
  {
   "cell_type": "code",
   "execution_count": null,
   "metadata": {},
   "outputs": [],
   "source": [
    "def f(n):\n",
    "    if n == 0:\n",
    "        return 0\n",
    "    return n + f(n - 1)"
   ]
  },
  {
   "cell_type": "markdown",
   "metadata": {},
   "source": [
    "On voit que `f(n)` appelle `f(n - 1)` si `n` est différent de `0`. L'exécution de `f(n)` se met alors en pause et `f(n - 1)` s'exécute. Une fois que `f(n - 1)` reprend, `f(n)` continue son exécution."
   ]
  },
  {
   "cell_type": "markdown",
   "metadata": {},
   "source": [
    "**Question** : Sans exécuter `f(n)`, essayer de deviner ce que va renvoyer `f(1)`, `f(2)`, `f(3)`, `f(5)`."
   ]
  },
  {
   "cell_type": "markdown",
   "metadata": {},
   "source": [
    "**Question** : Vérifier votre réponse à la question précédente en exécutant `f(n)`."
   ]
  },
  {
   "cell_type": "markdown",
   "metadata": {},
   "source": [
    "**Question** : Conjecturer la valeur de retour de `f(n)` en fonction de `n`. Par quel type de méthode mathématiques pourrait-on prouver ce résultat ?"
   ]
  },
  {
   "cell_type": "markdown",
   "metadata": {},
   "source": [
    "**Question** : Exprimer $n!$ en fonction de $(n - 1)!$ et en déduire une fonction récursive `fact(n)` renvoyant $n!$.  \n",
    "Remarque : `fact(n)` ressemble beaucoup à `f(n)`..."
   ]
  },
  {
   "cell_type": "markdown",
   "metadata": {},
   "source": [
    "## Flocon de Von Koch\n",
    "\n",
    "Un flocon de Von Koch s'obtient en partant d'un triangle équilatéral, puis en modifiant successivement chaque arête de la façon suivante :\n",
    "* On divise l'arête en 3\n",
    "* On construit un triangle équilatéral ayant pour base le segment du milieu\n",
    "* On ôte le segment du milieu\n",
    "* On effectue de nouveau ces étapes sur chacune des arêtes obtenues\n",
    "\n",
    "![](https://raw.githubusercontent.com/cpge-itc/bcpst2/main/files/7_dessin/koch1.png)"
   ]
  },
  {
   "cell_type": "markdown",
   "metadata": {},
   "source": [
    "**Question** : Écrire une fonction `branche` telle que `branche(largeur, n)` construit l'un des trois côtés d'un flocon jusqu'à l'étape `n`, de la largeur souhaitée.\n",
    "Cette fonction doit être **récursive**. En effet, pour construire une branche jusqu'à l'étape n, il faut construire 4 motifs jusqu'à l'étape n-1 :\n",
    "\n",
    "![](https://raw.githubusercontent.com/cpge-itc/bcpst2/main/files/7_dessin/koch2.png)\n",
    "\n",
    "Vous pourrez compléter le code de `branche` ci-dessous (sans mettre de `reset()` ni `done()` à l'intérieur) :"
   ]
  },
  {
   "cell_type": "code",
   "execution_count": null,
   "metadata": {},
   "outputs": [],
   "source": [
    "def branche(largeur, n):\n",
    "    if n == 0: # cas de base : on dessine juste un trait \n",
    "        ...\n",
    "    else:\n",
    "        ... # appel récursif pour construire le motif 1\n",
    "        ... # changer l'orientation de la tortue\n",
    "        ... # appel récursif pour construire le motif 2\n",
    "        ... # changer l'orientation de la tortue\n",
    "        ... # appel récursif pour construire le motif 3\n",
    "        ... # changer l'orientation de la tortue\n",
    "        ... # appel récursif pour construire le motif 4"
   ]
  },
  {
   "cell_type": "code",
   "execution_count": null,
   "metadata": {
    "tags": [
     "cor"
    ]
   },
   "outputs": [],
   "source": [
    "#1\n",
    "def branche(largeur, n):\n",
    "    if n == 0:\n",
    "        fd(largeur)    # à l'étape 0 on trace un simple trait\n",
    "    else:\n",
    "        branche(largeur / 3, n-1)    # construction du motif 1\n",
    "        right(60)\n",
    "        branche(largeur / 3, n-1)    # construction du motif 2\n",
    "        left(120)\n",
    "        branche(largeur / 3, n-1)    # construction du motif 3\n",
    "        right(60)\n",
    "        branche(largeur / 3, n-1)    # construction du motif 4"
   ]
  },
  {
   "cell_type": "code",
   "execution_count": null,
   "metadata": {},
   "outputs": [],
   "source": [
    "reset()\n",
    "branche(300, 3)\n",
    "done()"
   ]
  },
  {
   "attachments": {},
   "cell_type": "markdown",
   "metadata": {},
   "source": [
    "**Question** : Écrire une fonction `flocon` telle que `flocon(largeur, n)` construit un flocon jusqu'à l'étape `n`, avec une largeur de base `largeur`."
   ]
  },
  {
   "cell_type": "code",
   "execution_count": null,
   "metadata": {
    "tags": [
     "cor"
    ]
   },
   "outputs": [],
   "source": [
    "#2\n",
    "def flocon(largeur, n):\n",
    "    reset()\n",
    "    pensize(2)        # fixe l'épaisseur du trait\n",
    "    speed(0)        # accélère le tracé\n",
    "    branche(largeur, n)        # côté 1\n",
    "    left(120)\n",
    "    branche(largeur, n)        # côté 2\n",
    "    left(120)\n",
    "    branche(largeur, n)        # côté 3\n",
    "    hideturtle()        # fait disparaître la tortue\n",
    "    done()"
   ]
  },
  {
   "cell_type": "code",
   "execution_count": null,
   "metadata": {},
   "outputs": [],
   "source": [
    "flocon(260, 4)"
   ]
  },
  {
   "cell_type": "markdown",
   "metadata": {},
   "source": [
    "[Si vous avez terminé, faites ce TP qui est sur le même thème (fractales).](https://cpge-itc.github.io/itc1/2_tp_semestre1/6_fractales/)"
   ]
  },
  {
   "cell_type": "code",
   "execution_count": null,
   "metadata": {
    "tags": [
     "cor"
    ]
   },
   "outputs": [],
   "source": [
    "def tree(l, n):\n",
    "    if n != 0:\n",
    "        fd(l)\n",
    "        right(30)\n",
    "        tree(l * 0.8, n - 1)\n",
    "        left(60)\n",
    "        tree(l * 0.8, n - 1)\n",
    "        right(30)\n",
    "        bk(l)\n",
    "reset()\n",
    "speed(0)\n",
    "tree(100, 10)\n",
    "done()"
   ]
  }
 ],
 "metadata": {
  "celltoolbar": "Format de la Cellule Texte Brut",
  "kernelspec": {
   "display_name": "Python 3.9.2 64-bit",
   "language": "python",
   "name": "python3"
  },
  "language_info": {
   "codemirror_mode": {
    "name": "ipython",
    "version": 3
   },
   "file_extension": ".py",
   "mimetype": "text/x-python",
   "name": "python",
   "nbconvert_exporter": "python",
   "pygments_lexer": "ipython3",
   "version": "3.10.4"
  },
  "vscode": {
   "interpreter": {
    "hash": "31f2aee4e71d21fbe5cf8b01ff0e069b9275f58929596ceb00d14d90e3e16cd6"
   }
  }
 },
 "nbformat": 4,
 "nbformat_minor": 2
}
